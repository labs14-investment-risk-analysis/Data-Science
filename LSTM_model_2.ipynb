{
 "cells": [
  {
   "cell_type": "code",
   "execution_count": 49,
   "metadata": {},
   "outputs": [],
   "source": [
    "from fin_data_fundamentals import find_fundamentals\n",
    "from fin_data_fundamentals import get_fundamentals\n",
    "from alpha_vantage.foreignexchange import ForeignExchange\n",
    "from alpha_vantage.techindicators import TechIndicators\n",
    "from alpha_vantage.timeseries import TimeSeries\n",
    "from decouple import config\n",
    "import pandas as pd\n",
    "import numpy as np\n",
    "import quandl\n",
    "import datetime\n",
    "from sklearn.preprocessing import MinMaxScaler\n",
    "\n",
    "from sklearn.model_selection import train_test_split\n",
    "from keras.callbacks import ModelCheckpoint"
   ]
  },
  {
   "cell_type": "code",
   "execution_count": 50,
   "metadata": {},
   "outputs": [],
   "source": [
    "from fin_data import DailyTimeSeries"
   ]
  },
  {
   "cell_type": "code",
   "execution_count": 51,
   "metadata": {},
   "outputs": [],
   "source": [
    "from keras.preprocessing.sequence import TimeseriesGenerator"
   ]
  },
  {
   "cell_type": "code",
   "execution_count": 52,
   "metadata": {},
   "outputs": [
    {
     "name": "stdout",
     "output_type": "stream",
     "text": [
      "################################################################### \n",
      " Ticker:  TSLA \n",
      " Last Refreshed:  2019-09-06 10:23:55 \n",
      " Data Retrieved:  Daily Prices (open, high, low, close) and Volumes \n",
      " ###################################################################\n"
     ]
    }
   ],
   "source": [
    "tesla = DailyTimeSeries('TSLA')\n",
    "\n",
    "df = tesla.initiate()"
   ]
  },
  {
   "cell_type": "code",
   "execution_count": 53,
   "metadata": {},
   "outputs": [
    {
     "data": {
      "text/html": [
       "<div>\n",
       "<style scoped>\n",
       "    .dataframe tbody tr th:only-of-type {\n",
       "        vertical-align: middle;\n",
       "    }\n",
       "\n",
       "    .dataframe tbody tr th {\n",
       "        vertical-align: top;\n",
       "    }\n",
       "\n",
       "    .dataframe thead th {\n",
       "        text-align: right;\n",
       "    }\n",
       "</style>\n",
       "<table border=\"1\" class=\"dataframe\">\n",
       "  <thead>\n",
       "    <tr style=\"text-align: right;\">\n",
       "      <th></th>\n",
       "      <th>TSLA open</th>\n",
       "      <th>TSLA high</th>\n",
       "      <th>TSLA low</th>\n",
       "      <th>TSLA close</th>\n",
       "      <th>TSLA volume</th>\n",
       "    </tr>\n",
       "    <tr>\n",
       "      <th>date</th>\n",
       "      <th></th>\n",
       "      <th></th>\n",
       "      <th></th>\n",
       "      <th></th>\n",
       "      <th></th>\n",
       "    </tr>\n",
       "  </thead>\n",
       "  <tbody>\n",
       "    <tr>\n",
       "      <th>2010-06-29</th>\n",
       "      <td>19.00</td>\n",
       "      <td>24.9984</td>\n",
       "      <td>17.54</td>\n",
       "      <td>23.89</td>\n",
       "      <td>18766300.0</td>\n",
       "    </tr>\n",
       "    <tr>\n",
       "      <th>2010-06-30</th>\n",
       "      <td>25.79</td>\n",
       "      <td>30.4190</td>\n",
       "      <td>23.30</td>\n",
       "      <td>23.83</td>\n",
       "      <td>17187100.0</td>\n",
       "    </tr>\n",
       "    <tr>\n",
       "      <th>2010-07-01</th>\n",
       "      <td>25.00</td>\n",
       "      <td>25.9200</td>\n",
       "      <td>20.27</td>\n",
       "      <td>21.96</td>\n",
       "      <td>8218800.0</td>\n",
       "    </tr>\n",
       "    <tr>\n",
       "      <th>2010-07-02</th>\n",
       "      <td>23.00</td>\n",
       "      <td>23.0998</td>\n",
       "      <td>18.71</td>\n",
       "      <td>19.20</td>\n",
       "      <td>5139800.0</td>\n",
       "    </tr>\n",
       "    <tr>\n",
       "      <th>2010-07-06</th>\n",
       "      <td>20.00</td>\n",
       "      <td>20.0000</td>\n",
       "      <td>15.83</td>\n",
       "      <td>16.11</td>\n",
       "      <td>6866900.0</td>\n",
       "    </tr>\n",
       "  </tbody>\n",
       "</table>\n",
       "</div>"
      ],
      "text/plain": [
       "            TSLA open  TSLA high  TSLA low  TSLA close  TSLA volume\n",
       "date                                                               \n",
       "2010-06-29      19.00    24.9984     17.54       23.89   18766300.0\n",
       "2010-06-30      25.79    30.4190     23.30       23.83   17187100.0\n",
       "2010-07-01      25.00    25.9200     20.27       21.96    8218800.0\n",
       "2010-07-02      23.00    23.0998     18.71       19.20    5139800.0\n",
       "2010-07-06      20.00    20.0000     15.83       16.11    6866900.0"
      ]
     },
     "execution_count": 53,
     "metadata": {},
     "output_type": "execute_result"
    }
   ],
   "source": [
    "df.head()"
   ]
  },
  {
   "cell_type": "code",
   "execution_count": 54,
   "metadata": {},
   "outputs": [],
   "source": [
    "macro_list = [\"housing_index\", \"trade_index\", \"confidence_index\", \"longterm_rates\"]"
   ]
  },
  {
   "cell_type": "code",
   "execution_count": 55,
   "metadata": {},
   "outputs": [
    {
     "name": "stdout",
     "output_type": "stream",
     "text": [
      "################################################################### \n",
      " Index: Nominal Home Price Index Added \n",
      " ###################################################################\n",
      "################################################################### \n",
      " Trade Weighted U.S. Dollar Index: Broad Added \n",
      " ###################################################################\n",
      "################################################################### \n",
      " Index: Yale Investor Behavior Project Added \n",
      " ###################################################################\n",
      "################################################################### \n",
      " US Treasury Bond Long-Term Rates Added \n",
      " ###################################################################\n"
     ]
    }
   ],
   "source": [
    "df = tesla.add_macro(df, macro_list)"
   ]
  },
  {
   "cell_type": "code",
   "execution_count": 56,
   "metadata": {},
   "outputs": [],
   "source": [
    "\n",
    "fund_list = [\"operatingrevenue\", \"totalrevenue\", \"netincome\", \"totaloperatingexpenses\", \"totalgrossprofit\", \"totaloperatingincome\"]"
   ]
  },
  {
   "cell_type": "code",
   "execution_count": 57,
   "metadata": {},
   "outputs": [
    {
     "name": "stdout",
     "output_type": "stream",
     "text": [
      "################################################################### \n",
      " Ticker:  TSLA \n",
      " Fundamentals Retrieved:  ['TSLA open' 'TSLA high' 'TSLA low' 'TSLA close' 'TSLA volume'\n",
      " 'housing_index' 'trade_value' 'conf_index' 'conf_index_SE' '10 Yrs Rates'\n",
      " '20-Yr Maturity Rate' 'TSLA_operatingrevenue' 'TSLA_totalrevenue'\n",
      " 'TSLA_netincome' 'TSLA_totaloperatingexpenses' 'TSLA_totalgrossprofit'\n",
      " 'TSLA_totaloperatingincome'] \n",
      " ###################################################################\n",
      "################################################################### \n",
      " Ticker:  TSLA \n",
      " Retrieved Data Start Date:  2011-11-14 \n",
      " Retrieved Data End Date:  2019-07-29 \n",
      " Data Retrieved:  ['TSLA_operatingrevenue', 'TSLA_totalrevenue', 'TSLA_netincome', 'TSLA_totaloperatingexpenses', 'TSLA_totalgrossprofit', 'TSLA_totaloperatingincome'] \n",
      " ###################################################################\n"
     ]
    }
   ],
   "source": [
    "df = tesla.add_fundamentals(df, fund_list)"
   ]
  },
  {
   "cell_type": "code",
   "execution_count": 58,
   "metadata": {},
   "outputs": [
    {
     "data": {
      "text/html": [
       "<div>\n",
       "<style scoped>\n",
       "    .dataframe tbody tr th:only-of-type {\n",
       "        vertical-align: middle;\n",
       "    }\n",
       "\n",
       "    .dataframe tbody tr th {\n",
       "        vertical-align: top;\n",
       "    }\n",
       "\n",
       "    .dataframe thead th {\n",
       "        text-align: right;\n",
       "    }\n",
       "</style>\n",
       "<table border=\"1\" class=\"dataframe\">\n",
       "  <thead>\n",
       "    <tr style=\"text-align: right;\">\n",
       "      <th></th>\n",
       "      <th>TSLA open</th>\n",
       "      <th>TSLA high</th>\n",
       "      <th>TSLA low</th>\n",
       "      <th>TSLA close</th>\n",
       "      <th>TSLA volume</th>\n",
       "      <th>housing_index</th>\n",
       "      <th>trade_value</th>\n",
       "      <th>conf_index</th>\n",
       "      <th>conf_index_SE</th>\n",
       "      <th>10 Yrs Rates</th>\n",
       "      <th>20-Yr Maturity Rate</th>\n",
       "      <th>TSLA_operatingrevenue</th>\n",
       "      <th>TSLA_totalrevenue</th>\n",
       "      <th>TSLA_netincome</th>\n",
       "      <th>TSLA_totaloperatingexpenses</th>\n",
       "      <th>TSLA_totalgrossprofit</th>\n",
       "      <th>TSLA_totaloperatingincome</th>\n",
       "    </tr>\n",
       "    <tr>\n",
       "      <th>date</th>\n",
       "      <th></th>\n",
       "      <th></th>\n",
       "      <th></th>\n",
       "      <th></th>\n",
       "      <th></th>\n",
       "      <th></th>\n",
       "      <th></th>\n",
       "      <th></th>\n",
       "      <th></th>\n",
       "      <th></th>\n",
       "      <th></th>\n",
       "      <th></th>\n",
       "      <th></th>\n",
       "      <th></th>\n",
       "      <th></th>\n",
       "      <th></th>\n",
       "      <th></th>\n",
       "    </tr>\n",
       "  </thead>\n",
       "  <tbody>\n",
       "    <tr>\n",
       "      <th>2010-06-29</th>\n",
       "      <td>19.00</td>\n",
       "      <td>24.9984</td>\n",
       "      <td>17.54</td>\n",
       "      <td>23.89</td>\n",
       "      <td>18766300.0</td>\n",
       "      <td>147.031</td>\n",
       "      <td>104.0133</td>\n",
       "      <td>65.43</td>\n",
       "      <td>3.47</td>\n",
       "      <td>3.63</td>\n",
       "      <td>3.76</td>\n",
       "      <td>31241000.0</td>\n",
       "      <td>31241000.0</td>\n",
       "      <td>-34935000.0</td>\n",
       "      <td>47130000.0</td>\n",
       "      <td>9296000.0</td>\n",
       "      <td>-37834000.0</td>\n",
       "    </tr>\n",
       "    <tr>\n",
       "      <th>2010-06-30</th>\n",
       "      <td>25.79</td>\n",
       "      <td>30.4190</td>\n",
       "      <td>23.30</td>\n",
       "      <td>23.83</td>\n",
       "      <td>17187100.0</td>\n",
       "      <td>147.695</td>\n",
       "      <td>104.4167</td>\n",
       "      <td>65.64</td>\n",
       "      <td>3.40</td>\n",
       "      <td>3.61</td>\n",
       "      <td>3.74</td>\n",
       "      <td>31241000.0</td>\n",
       "      <td>31241000.0</td>\n",
       "      <td>-34935000.0</td>\n",
       "      <td>47130000.0</td>\n",
       "      <td>9296000.0</td>\n",
       "      <td>-37834000.0</td>\n",
       "    </tr>\n",
       "    <tr>\n",
       "      <th>2010-07-01</th>\n",
       "      <td>25.00</td>\n",
       "      <td>25.9200</td>\n",
       "      <td>20.27</td>\n",
       "      <td>21.96</td>\n",
       "      <td>8218800.0</td>\n",
       "      <td>147.695</td>\n",
       "      <td>104.4167</td>\n",
       "      <td>65.64</td>\n",
       "      <td>3.40</td>\n",
       "      <td>3.58</td>\n",
       "      <td>3.71</td>\n",
       "      <td>31241000.0</td>\n",
       "      <td>31241000.0</td>\n",
       "      <td>-34935000.0</td>\n",
       "      <td>47130000.0</td>\n",
       "      <td>9296000.0</td>\n",
       "      <td>-37834000.0</td>\n",
       "    </tr>\n",
       "    <tr>\n",
       "      <th>2010-07-02</th>\n",
       "      <td>23.00</td>\n",
       "      <td>23.0998</td>\n",
       "      <td>18.71</td>\n",
       "      <td>19.20</td>\n",
       "      <td>5139800.0</td>\n",
       "      <td>147.695</td>\n",
       "      <td>104.4167</td>\n",
       "      <td>65.64</td>\n",
       "      <td>3.40</td>\n",
       "      <td>3.64</td>\n",
       "      <td>3.77</td>\n",
       "      <td>31241000.0</td>\n",
       "      <td>31241000.0</td>\n",
       "      <td>-34935000.0</td>\n",
       "      <td>47130000.0</td>\n",
       "      <td>9296000.0</td>\n",
       "      <td>-37834000.0</td>\n",
       "    </tr>\n",
       "    <tr>\n",
       "      <th>2010-07-06</th>\n",
       "      <td>20.00</td>\n",
       "      <td>20.0000</td>\n",
       "      <td>15.83</td>\n",
       "      <td>16.11</td>\n",
       "      <td>6866900.0</td>\n",
       "      <td>147.695</td>\n",
       "      <td>104.4167</td>\n",
       "      <td>65.64</td>\n",
       "      <td>3.40</td>\n",
       "      <td>3.58</td>\n",
       "      <td>3.71</td>\n",
       "      <td>31241000.0</td>\n",
       "      <td>31241000.0</td>\n",
       "      <td>-34935000.0</td>\n",
       "      <td>47130000.0</td>\n",
       "      <td>9296000.0</td>\n",
       "      <td>-37834000.0</td>\n",
       "    </tr>\n",
       "  </tbody>\n",
       "</table>\n",
       "</div>"
      ],
      "text/plain": [
       "            TSLA open  TSLA high  TSLA low  TSLA close  TSLA volume  \\\n",
       "date                                                                  \n",
       "2010-06-29      19.00    24.9984     17.54       23.89   18766300.0   \n",
       "2010-06-30      25.79    30.4190     23.30       23.83   17187100.0   \n",
       "2010-07-01      25.00    25.9200     20.27       21.96    8218800.0   \n",
       "2010-07-02      23.00    23.0998     18.71       19.20    5139800.0   \n",
       "2010-07-06      20.00    20.0000     15.83       16.11    6866900.0   \n",
       "\n",
       "            housing_index  trade_value  conf_index  conf_index_SE  \\\n",
       "date                                                                \n",
       "2010-06-29        147.031     104.0133       65.43           3.47   \n",
       "2010-06-30        147.695     104.4167       65.64           3.40   \n",
       "2010-07-01        147.695     104.4167       65.64           3.40   \n",
       "2010-07-02        147.695     104.4167       65.64           3.40   \n",
       "2010-07-06        147.695     104.4167       65.64           3.40   \n",
       "\n",
       "            10 Yrs Rates  20-Yr Maturity Rate  TSLA_operatingrevenue  \\\n",
       "date                                                                   \n",
       "2010-06-29          3.63                 3.76             31241000.0   \n",
       "2010-06-30          3.61                 3.74             31241000.0   \n",
       "2010-07-01          3.58                 3.71             31241000.0   \n",
       "2010-07-02          3.64                 3.77             31241000.0   \n",
       "2010-07-06          3.58                 3.71             31241000.0   \n",
       "\n",
       "            TSLA_totalrevenue  TSLA_netincome  TSLA_totaloperatingexpenses  \\\n",
       "date                                                                         \n",
       "2010-06-29         31241000.0     -34935000.0                   47130000.0   \n",
       "2010-06-30         31241000.0     -34935000.0                   47130000.0   \n",
       "2010-07-01         31241000.0     -34935000.0                   47130000.0   \n",
       "2010-07-02         31241000.0     -34935000.0                   47130000.0   \n",
       "2010-07-06         31241000.0     -34935000.0                   47130000.0   \n",
       "\n",
       "            TSLA_totalgrossprofit  TSLA_totaloperatingincome  \n",
       "date                                                          \n",
       "2010-06-29              9296000.0                -37834000.0  \n",
       "2010-06-30              9296000.0                -37834000.0  \n",
       "2010-07-01              9296000.0                -37834000.0  \n",
       "2010-07-02              9296000.0                -37834000.0  \n",
       "2010-07-06              9296000.0                -37834000.0  "
      ]
     },
     "execution_count": 58,
     "metadata": {},
     "output_type": "execute_result"
    }
   ],
   "source": [
    "df.head()\n"
   ]
  },
  {
   "cell_type": "code",
   "execution_count": 59,
   "metadata": {},
   "outputs": [
    {
     "data": {
      "text/plain": [
       "(2163, 17)"
      ]
     },
     "execution_count": 59,
     "metadata": {},
     "output_type": "execute_result"
    }
   ],
   "source": [
    "df.shape"
   ]
  },
  {
   "cell_type": "markdown",
   "metadata": {},
   "source": [
    "### Target Feature Engineering ###\n",
    "\n",
    "- For now, we are using percent change as the target feature. In the future, we would be engineering more features that possibly encompass the data more accurately\n"
   ]
  },
  {
   "cell_type": "code",
   "execution_count": 73,
   "metadata": {},
   "outputs": [
    {
     "data": {
      "text/plain": [
       "date\n",
       "2010-06-29    -0.251151\n",
       "2010-06-30    -7.847251\n",
       "2010-07-01   -12.568306\n",
       "2010-07-02   -16.093750\n",
       "2010-07-06    -1.924271\n",
       "Name: percent_change, dtype: float64"
      ]
     },
     "execution_count": 73,
     "metadata": {},
     "output_type": "execute_result"
    }
   ],
   "source": [
    "df['percent_change'] = ((df['TSLA close'].shift(-1) - df['TSLA close']) / (df['TSLA close']))*100\n",
    "\n",
    "\n",
    "df['percent_change'].head()"
   ]
  },
  {
   "cell_type": "code",
   "execution_count": 74,
   "metadata": {},
   "outputs": [
    {
     "data": {
      "text/html": [
       "<div>\n",
       "<style scoped>\n",
       "    .dataframe tbody tr th:only-of-type {\n",
       "        vertical-align: middle;\n",
       "    }\n",
       "\n",
       "    .dataframe tbody tr th {\n",
       "        vertical-align: top;\n",
       "    }\n",
       "\n",
       "    .dataframe thead th {\n",
       "        text-align: right;\n",
       "    }\n",
       "</style>\n",
       "<table border=\"1\" class=\"dataframe\">\n",
       "  <thead>\n",
       "    <tr style=\"text-align: right;\">\n",
       "      <th></th>\n",
       "      <th>TSLA open</th>\n",
       "      <th>TSLA high</th>\n",
       "      <th>TSLA low</th>\n",
       "      <th>TSLA close</th>\n",
       "      <th>TSLA volume</th>\n",
       "      <th>housing_index</th>\n",
       "      <th>trade_value</th>\n",
       "      <th>conf_index</th>\n",
       "      <th>conf_index_SE</th>\n",
       "      <th>10 Yrs Rates</th>\n",
       "      <th>20-Yr Maturity Rate</th>\n",
       "      <th>TSLA_operatingrevenue</th>\n",
       "      <th>TSLA_totalrevenue</th>\n",
       "      <th>TSLA_netincome</th>\n",
       "      <th>TSLA_totaloperatingexpenses</th>\n",
       "      <th>TSLA_totalgrossprofit</th>\n",
       "      <th>TSLA_totaloperatingincome</th>\n",
       "      <th>percent_change</th>\n",
       "    </tr>\n",
       "    <tr>\n",
       "      <th>date</th>\n",
       "      <th></th>\n",
       "      <th></th>\n",
       "      <th></th>\n",
       "      <th></th>\n",
       "      <th></th>\n",
       "      <th></th>\n",
       "      <th></th>\n",
       "      <th></th>\n",
       "      <th></th>\n",
       "      <th></th>\n",
       "      <th></th>\n",
       "      <th></th>\n",
       "      <th></th>\n",
       "      <th></th>\n",
       "      <th></th>\n",
       "      <th></th>\n",
       "      <th></th>\n",
       "      <th></th>\n",
       "    </tr>\n",
       "  </thead>\n",
       "  <tbody>\n",
       "    <tr>\n",
       "      <th>2010-06-29</th>\n",
       "      <td>19.00</td>\n",
       "      <td>24.9984</td>\n",
       "      <td>17.54</td>\n",
       "      <td>23.89</td>\n",
       "      <td>18766300.0</td>\n",
       "      <td>147.031</td>\n",
       "      <td>104.0133</td>\n",
       "      <td>65.43</td>\n",
       "      <td>3.47</td>\n",
       "      <td>3.63</td>\n",
       "      <td>3.76</td>\n",
       "      <td>31241000.0</td>\n",
       "      <td>31241000.0</td>\n",
       "      <td>-34935000.0</td>\n",
       "      <td>47130000.0</td>\n",
       "      <td>9296000.0</td>\n",
       "      <td>-37834000.0</td>\n",
       "      <td>-0.251151</td>\n",
       "    </tr>\n",
       "    <tr>\n",
       "      <th>2010-06-30</th>\n",
       "      <td>25.79</td>\n",
       "      <td>30.4190</td>\n",
       "      <td>23.30</td>\n",
       "      <td>23.83</td>\n",
       "      <td>17187100.0</td>\n",
       "      <td>147.695</td>\n",
       "      <td>104.4167</td>\n",
       "      <td>65.64</td>\n",
       "      <td>3.40</td>\n",
       "      <td>3.61</td>\n",
       "      <td>3.74</td>\n",
       "      <td>31241000.0</td>\n",
       "      <td>31241000.0</td>\n",
       "      <td>-34935000.0</td>\n",
       "      <td>47130000.0</td>\n",
       "      <td>9296000.0</td>\n",
       "      <td>-37834000.0</td>\n",
       "      <td>-7.847251</td>\n",
       "    </tr>\n",
       "    <tr>\n",
       "      <th>2010-07-01</th>\n",
       "      <td>25.00</td>\n",
       "      <td>25.9200</td>\n",
       "      <td>20.27</td>\n",
       "      <td>21.96</td>\n",
       "      <td>8218800.0</td>\n",
       "      <td>147.695</td>\n",
       "      <td>104.4167</td>\n",
       "      <td>65.64</td>\n",
       "      <td>3.40</td>\n",
       "      <td>3.58</td>\n",
       "      <td>3.71</td>\n",
       "      <td>31241000.0</td>\n",
       "      <td>31241000.0</td>\n",
       "      <td>-34935000.0</td>\n",
       "      <td>47130000.0</td>\n",
       "      <td>9296000.0</td>\n",
       "      <td>-37834000.0</td>\n",
       "      <td>-12.568306</td>\n",
       "    </tr>\n",
       "    <tr>\n",
       "      <th>2010-07-02</th>\n",
       "      <td>23.00</td>\n",
       "      <td>23.0998</td>\n",
       "      <td>18.71</td>\n",
       "      <td>19.20</td>\n",
       "      <td>5139800.0</td>\n",
       "      <td>147.695</td>\n",
       "      <td>104.4167</td>\n",
       "      <td>65.64</td>\n",
       "      <td>3.40</td>\n",
       "      <td>3.64</td>\n",
       "      <td>3.77</td>\n",
       "      <td>31241000.0</td>\n",
       "      <td>31241000.0</td>\n",
       "      <td>-34935000.0</td>\n",
       "      <td>47130000.0</td>\n",
       "      <td>9296000.0</td>\n",
       "      <td>-37834000.0</td>\n",
       "      <td>-16.093750</td>\n",
       "    </tr>\n",
       "    <tr>\n",
       "      <th>2010-07-06</th>\n",
       "      <td>20.00</td>\n",
       "      <td>20.0000</td>\n",
       "      <td>15.83</td>\n",
       "      <td>16.11</td>\n",
       "      <td>6866900.0</td>\n",
       "      <td>147.695</td>\n",
       "      <td>104.4167</td>\n",
       "      <td>65.64</td>\n",
       "      <td>3.40</td>\n",
       "      <td>3.58</td>\n",
       "      <td>3.71</td>\n",
       "      <td>31241000.0</td>\n",
       "      <td>31241000.0</td>\n",
       "      <td>-34935000.0</td>\n",
       "      <td>47130000.0</td>\n",
       "      <td>9296000.0</td>\n",
       "      <td>-37834000.0</td>\n",
       "      <td>-1.924271</td>\n",
       "    </tr>\n",
       "  </tbody>\n",
       "</table>\n",
       "</div>"
      ],
      "text/plain": [
       "            TSLA open  TSLA high  TSLA low  TSLA close  TSLA volume  \\\n",
       "date                                                                  \n",
       "2010-06-29      19.00    24.9984     17.54       23.89   18766300.0   \n",
       "2010-06-30      25.79    30.4190     23.30       23.83   17187100.0   \n",
       "2010-07-01      25.00    25.9200     20.27       21.96    8218800.0   \n",
       "2010-07-02      23.00    23.0998     18.71       19.20    5139800.0   \n",
       "2010-07-06      20.00    20.0000     15.83       16.11    6866900.0   \n",
       "\n",
       "            housing_index  trade_value  conf_index  conf_index_SE  \\\n",
       "date                                                                \n",
       "2010-06-29        147.031     104.0133       65.43           3.47   \n",
       "2010-06-30        147.695     104.4167       65.64           3.40   \n",
       "2010-07-01        147.695     104.4167       65.64           3.40   \n",
       "2010-07-02        147.695     104.4167       65.64           3.40   \n",
       "2010-07-06        147.695     104.4167       65.64           3.40   \n",
       "\n",
       "            10 Yrs Rates  20-Yr Maturity Rate  TSLA_operatingrevenue  \\\n",
       "date                                                                   \n",
       "2010-06-29          3.63                 3.76             31241000.0   \n",
       "2010-06-30          3.61                 3.74             31241000.0   \n",
       "2010-07-01          3.58                 3.71             31241000.0   \n",
       "2010-07-02          3.64                 3.77             31241000.0   \n",
       "2010-07-06          3.58                 3.71             31241000.0   \n",
       "\n",
       "            TSLA_totalrevenue  TSLA_netincome  TSLA_totaloperatingexpenses  \\\n",
       "date                                                                         \n",
       "2010-06-29         31241000.0     -34935000.0                   47130000.0   \n",
       "2010-06-30         31241000.0     -34935000.0                   47130000.0   \n",
       "2010-07-01         31241000.0     -34935000.0                   47130000.0   \n",
       "2010-07-02         31241000.0     -34935000.0                   47130000.0   \n",
       "2010-07-06         31241000.0     -34935000.0                   47130000.0   \n",
       "\n",
       "            TSLA_totalgrossprofit  TSLA_totaloperatingincome  percent_change  \n",
       "date                                                                          \n",
       "2010-06-29              9296000.0                -37834000.0       -0.251151  \n",
       "2010-06-30              9296000.0                -37834000.0       -7.847251  \n",
       "2010-07-01              9296000.0                -37834000.0      -12.568306  \n",
       "2010-07-02              9296000.0                -37834000.0      -16.093750  \n",
       "2010-07-06              9296000.0                -37834000.0       -1.924271  "
      ]
     },
     "execution_count": 74,
     "metadata": {},
     "output_type": "execute_result"
    }
   ],
   "source": [
    "df.head()"
   ]
  },
  {
   "cell_type": "code",
   "execution_count": 75,
   "metadata": {},
   "outputs": [
    {
     "name": "stdout",
     "output_type": "stream",
     "text": [
      "TSLA open                      0\n",
      "TSLA high                      0\n",
      "TSLA low                       0\n",
      "TSLA close                     0\n",
      "TSLA volume                    0\n",
      "housing_index                  0\n",
      "trade_value                    0\n",
      "conf_index                     0\n",
      "conf_index_SE                  0\n",
      "10 Yrs Rates                   0\n",
      "20-Yr Maturity Rate            0\n",
      "TSLA_operatingrevenue          0\n",
      "TSLA_totalrevenue              0\n",
      "TSLA_netincome                 0\n",
      "TSLA_totaloperatingexpenses    0\n",
      "TSLA_totalgrossprofit          0\n",
      "TSLA_totaloperatingincome      0\n",
      "percent_change                 1\n",
      "dtype: int64\n",
      "(2103, 18)\n"
     ]
    },
    {
     "data": {
      "text/plain": [
       "(2102, 18)"
      ]
     },
     "execution_count": 75,
     "metadata": {},
     "output_type": "execute_result"
    }
   ],
   "source": [
    "# For the last couple of months, tesla had a lot of missing fundamentals data, so we have th drop the null values.\n",
    "\n",
    "print(df.isnull().sum())\n",
    "print(df.shape)\n",
    "\n",
    "df = df.dropna()\n",
    "\n",
    "df.shape\n",
    "# loses about 60 observations."
   ]
  },
  {
   "cell_type": "markdown",
   "metadata": {},
   "source": [
    "### Multiple Features\n",
    "\n",
    "- Let's try to have multiple features in the notebook to see if that helps the model.\n",
    "- Time Series Forecasting As Supervised Learning:\n",
    "- reframing the time sereis allows the access to standard linear and nonlinear machine learning algorithms\n",
    "- Supervised learning: algorithm learning from the training dataset. Has specific features and targets with values.\n",
    "- We have to make a sliding window i.e. taking in the previous time steps as input variables, we use the next time step as the output variable.\n",
    "- Also knowns as sliding window method, window method or a lag method. \n",
    "- How the sliding window work would be we would have all 18 features to predict the percent change move. \n",
    "###### Multi-Step Forecasting:\n",
    "- One-Step Forecast: where the next day's percent change is predicted\n",
    "- Multi-Step Forecase: Two or more future time steps are to be predicted.\n"
   ]
  },
  {
   "cell_type": "markdown",
   "metadata": {},
   "source": [
    "##### Pandas shift() Function#####\n",
    "\n",
    "- in order to create lag observations to forecast observations for a time series dataset.\n",
    "- Typically, current time(t) and future times (t+1, t+n) are forecast times and past observations (t-1, t-n) are used to make forecasts.\n"
   ]
  },
  {
   "cell_type": "markdown",
   "metadata": {},
   "source": [
    "#### Normalize the dataset:"
   ]
  },
  {
   "cell_type": "code",
   "execution_count": 76,
   "metadata": {},
   "outputs": [],
   "source": [
    "dataset = df.values"
   ]
  },
  {
   "cell_type": "code",
   "execution_count": 77,
   "metadata": {},
   "outputs": [
    {
     "data": {
      "text/plain": [
       "array([[0.18358664],\n",
       "       [0.18358664],\n",
       "       [0.18358664],\n",
       "       ...,\n",
       "       [0.30644219],\n",
       "       [0.03711406],\n",
       "       [0.18358664]])"
      ]
     },
     "execution_count": 77,
     "metadata": {},
     "output_type": "execute_result"
    }
   ],
   "source": [
    "from sklearn.preprocessing import MinMaxScaler\n",
    "\n",
    "scaler = MinMaxScaler(feature_range=(0,1))\n",
    "scaler.fit_transform(dataset.reshape(-1,1))"
   ]
  },
  {
   "cell_type": "markdown",
   "metadata": {},
   "source": [
    "#### Split the dataset into train and test sets"
   ]
  },
  {
   "cell_type": "code",
   "execution_count": 78,
   "metadata": {},
   "outputs": [
    {
     "data": {
      "text/html": [
       "<div>\n",
       "<style scoped>\n",
       "    .dataframe tbody tr th:only-of-type {\n",
       "        vertical-align: middle;\n",
       "    }\n",
       "\n",
       "    .dataframe tbody tr th {\n",
       "        vertical-align: top;\n",
       "    }\n",
       "\n",
       "    .dataframe thead th {\n",
       "        text-align: right;\n",
       "    }\n",
       "</style>\n",
       "<table border=\"1\" class=\"dataframe\">\n",
       "  <thead>\n",
       "    <tr style=\"text-align: right;\">\n",
       "      <th></th>\n",
       "      <th>TSLA open</th>\n",
       "      <th>TSLA high</th>\n",
       "      <th>TSLA low</th>\n",
       "      <th>TSLA close</th>\n",
       "      <th>TSLA volume</th>\n",
       "      <th>housing_index</th>\n",
       "      <th>trade_value</th>\n",
       "      <th>conf_index</th>\n",
       "      <th>conf_index_SE</th>\n",
       "      <th>10 Yrs Rates</th>\n",
       "      <th>20-Yr Maturity Rate</th>\n",
       "      <th>TSLA_operatingrevenue</th>\n",
       "      <th>TSLA_totalrevenue</th>\n",
       "      <th>TSLA_netincome</th>\n",
       "      <th>TSLA_totaloperatingexpenses</th>\n",
       "      <th>TSLA_totalgrossprofit</th>\n",
       "      <th>TSLA_totaloperatingincome</th>\n",
       "      <th>percent_change</th>\n",
       "    </tr>\n",
       "    <tr>\n",
       "      <th>date</th>\n",
       "      <th></th>\n",
       "      <th></th>\n",
       "      <th></th>\n",
       "      <th></th>\n",
       "      <th></th>\n",
       "      <th></th>\n",
       "      <th></th>\n",
       "      <th></th>\n",
       "      <th></th>\n",
       "      <th></th>\n",
       "      <th></th>\n",
       "      <th></th>\n",
       "      <th></th>\n",
       "      <th></th>\n",
       "      <th></th>\n",
       "      <th></th>\n",
       "      <th></th>\n",
       "      <th></th>\n",
       "    </tr>\n",
       "  </thead>\n",
       "  <tbody>\n",
       "    <tr>\n",
       "      <th>2010-06-29</th>\n",
       "      <td>19.00</td>\n",
       "      <td>24.9984</td>\n",
       "      <td>17.54</td>\n",
       "      <td>23.89</td>\n",
       "      <td>18766300.0</td>\n",
       "      <td>147.031</td>\n",
       "      <td>104.0133</td>\n",
       "      <td>65.43</td>\n",
       "      <td>3.47</td>\n",
       "      <td>3.63</td>\n",
       "      <td>3.76</td>\n",
       "      <td>31241000.0</td>\n",
       "      <td>31241000.0</td>\n",
       "      <td>-34935000.0</td>\n",
       "      <td>47130000.0</td>\n",
       "      <td>9296000.0</td>\n",
       "      <td>-37834000.0</td>\n",
       "      <td>-0.251151</td>\n",
       "    </tr>\n",
       "    <tr>\n",
       "      <th>2010-06-30</th>\n",
       "      <td>25.79</td>\n",
       "      <td>30.4190</td>\n",
       "      <td>23.30</td>\n",
       "      <td>23.83</td>\n",
       "      <td>17187100.0</td>\n",
       "      <td>147.695</td>\n",
       "      <td>104.4167</td>\n",
       "      <td>65.64</td>\n",
       "      <td>3.40</td>\n",
       "      <td>3.61</td>\n",
       "      <td>3.74</td>\n",
       "      <td>31241000.0</td>\n",
       "      <td>31241000.0</td>\n",
       "      <td>-34935000.0</td>\n",
       "      <td>47130000.0</td>\n",
       "      <td>9296000.0</td>\n",
       "      <td>-37834000.0</td>\n",
       "      <td>-7.847251</td>\n",
       "    </tr>\n",
       "    <tr>\n",
       "      <th>2010-07-01</th>\n",
       "      <td>25.00</td>\n",
       "      <td>25.9200</td>\n",
       "      <td>20.27</td>\n",
       "      <td>21.96</td>\n",
       "      <td>8218800.0</td>\n",
       "      <td>147.695</td>\n",
       "      <td>104.4167</td>\n",
       "      <td>65.64</td>\n",
       "      <td>3.40</td>\n",
       "      <td>3.58</td>\n",
       "      <td>3.71</td>\n",
       "      <td>31241000.0</td>\n",
       "      <td>31241000.0</td>\n",
       "      <td>-34935000.0</td>\n",
       "      <td>47130000.0</td>\n",
       "      <td>9296000.0</td>\n",
       "      <td>-37834000.0</td>\n",
       "      <td>-12.568306</td>\n",
       "    </tr>\n",
       "    <tr>\n",
       "      <th>2010-07-02</th>\n",
       "      <td>23.00</td>\n",
       "      <td>23.0998</td>\n",
       "      <td>18.71</td>\n",
       "      <td>19.20</td>\n",
       "      <td>5139800.0</td>\n",
       "      <td>147.695</td>\n",
       "      <td>104.4167</td>\n",
       "      <td>65.64</td>\n",
       "      <td>3.40</td>\n",
       "      <td>3.64</td>\n",
       "      <td>3.77</td>\n",
       "      <td>31241000.0</td>\n",
       "      <td>31241000.0</td>\n",
       "      <td>-34935000.0</td>\n",
       "      <td>47130000.0</td>\n",
       "      <td>9296000.0</td>\n",
       "      <td>-37834000.0</td>\n",
       "      <td>-16.093750</td>\n",
       "    </tr>\n",
       "    <tr>\n",
       "      <th>2010-07-06</th>\n",
       "      <td>20.00</td>\n",
       "      <td>20.0000</td>\n",
       "      <td>15.83</td>\n",
       "      <td>16.11</td>\n",
       "      <td>6866900.0</td>\n",
       "      <td>147.695</td>\n",
       "      <td>104.4167</td>\n",
       "      <td>65.64</td>\n",
       "      <td>3.40</td>\n",
       "      <td>3.58</td>\n",
       "      <td>3.71</td>\n",
       "      <td>31241000.0</td>\n",
       "      <td>31241000.0</td>\n",
       "      <td>-34935000.0</td>\n",
       "      <td>47130000.0</td>\n",
       "      <td>9296000.0</td>\n",
       "      <td>-37834000.0</td>\n",
       "      <td>-1.924271</td>\n",
       "    </tr>\n",
       "  </tbody>\n",
       "</table>\n",
       "</div>"
      ],
      "text/plain": [
       "            TSLA open  TSLA high  TSLA low  TSLA close  TSLA volume  \\\n",
       "date                                                                  \n",
       "2010-06-29      19.00    24.9984     17.54       23.89   18766300.0   \n",
       "2010-06-30      25.79    30.4190     23.30       23.83   17187100.0   \n",
       "2010-07-01      25.00    25.9200     20.27       21.96    8218800.0   \n",
       "2010-07-02      23.00    23.0998     18.71       19.20    5139800.0   \n",
       "2010-07-06      20.00    20.0000     15.83       16.11    6866900.0   \n",
       "\n",
       "            housing_index  trade_value  conf_index  conf_index_SE  \\\n",
       "date                                                                \n",
       "2010-06-29        147.031     104.0133       65.43           3.47   \n",
       "2010-06-30        147.695     104.4167       65.64           3.40   \n",
       "2010-07-01        147.695     104.4167       65.64           3.40   \n",
       "2010-07-02        147.695     104.4167       65.64           3.40   \n",
       "2010-07-06        147.695     104.4167       65.64           3.40   \n",
       "\n",
       "            10 Yrs Rates  20-Yr Maturity Rate  TSLA_operatingrevenue  \\\n",
       "date                                                                   \n",
       "2010-06-29          3.63                 3.76             31241000.0   \n",
       "2010-06-30          3.61                 3.74             31241000.0   \n",
       "2010-07-01          3.58                 3.71             31241000.0   \n",
       "2010-07-02          3.64                 3.77             31241000.0   \n",
       "2010-07-06          3.58                 3.71             31241000.0   \n",
       "\n",
       "            TSLA_totalrevenue  TSLA_netincome  TSLA_totaloperatingexpenses  \\\n",
       "date                                                                         \n",
       "2010-06-29         31241000.0     -34935000.0                   47130000.0   \n",
       "2010-06-30         31241000.0     -34935000.0                   47130000.0   \n",
       "2010-07-01         31241000.0     -34935000.0                   47130000.0   \n",
       "2010-07-02         31241000.0     -34935000.0                   47130000.0   \n",
       "2010-07-06         31241000.0     -34935000.0                   47130000.0   \n",
       "\n",
       "            TSLA_totalgrossprofit  TSLA_totaloperatingincome  percent_change  \n",
       "date                                                                          \n",
       "2010-06-29              9296000.0                -37834000.0       -0.251151  \n",
       "2010-06-30              9296000.0                -37834000.0       -7.847251  \n",
       "2010-07-01              9296000.0                -37834000.0      -12.568306  \n",
       "2010-07-02              9296000.0                -37834000.0      -16.093750  \n",
       "2010-07-06              9296000.0                -37834000.0       -1.924271  "
      ]
     },
     "execution_count": 78,
     "metadata": {},
     "output_type": "execute_result"
    }
   ],
   "source": [
    "df.head()"
   ]
  },
  {
   "cell_type": "code",
   "execution_count": 66,
   "metadata": {},
   "outputs": [],
   "source": [
    "X = df.drop(columns='percent_change')\n",
    "y = df[['percent_change']].values"
   ]
  },
  {
   "cell_type": "code",
   "execution_count": 67,
   "metadata": {},
   "outputs": [],
   "source": [
    "#use Alex's code\n",
    "\n",
    "def split(train_cut, val_cut, X=X, y=y):\n",
    "    X_train, X_test, y_train, y_test = train_test_split(X, y, \n",
    "                                                        train_size=train_cut, \n",
    "                                                        shuffle=False)\n",
    "\n",
    "    X_test, X_val, y_test, y_val = train_test_split(X_test, y_test,\n",
    "                                                    train_size=val_cut,\n",
    "                                                    shuffle=False)\n",
    "    \n",
    "    return X_train, X_test, X_val, y_train, y_test, y_val\n"
   ]
  },
  {
   "cell_type": "code",
   "execution_count": 68,
   "metadata": {},
   "outputs": [
    {
     "name": "stderr",
     "output_type": "stream",
     "text": [
      "C:\\Users\\Billi\\Anaconda3\\lib\\site-packages\\sklearn\\model_selection\\_split.py:2179: FutureWarning: From version 0.21, test_size will always complement train_size unless both are specified.\n",
      "  FutureWarning)\n"
     ]
    }
   ],
   "source": [
    "X_train, X_test, X_val, y_train, y_test, y_val = split(train_cut=.8,\n",
    "                                                      val_cut=.6)\n"
   ]
  },
  {
   "cell_type": "code",
   "execution_count": 69,
   "metadata": {},
   "outputs": [],
   "source": [
    "train_data_generator = TimeseriesGenerator(X_train, y_train,\n",
    "                                     length=17,\n",
    "                                     sampling_rate=1,\n",
    "                                     stride=1,\n",
    "                                     batch_size=6)\n",
    "\n",
    "test_data_generator = TimeseriesGenerator(X_test, y_test, \n",
    "                                          length=17, \n",
    "                                          sampling_rate=1,\n",
    "                                          stride=1,\n",
    "                                          batch_size=6)\n",
    "\n",
    "val_data_generator = TimeseriesGenerator(X_val, y_val, \n",
    "                                          length=17, \n",
    "                                          sampling_rate=1,\n",
    "                                          stride=1,\n",
    "                                          batch_size=6)"
   ]
  },
  {
   "cell_type": "code",
   "execution_count": 79,
   "metadata": {},
   "outputs": [
    {
     "data": {
      "text/plain": [
       "(1682, 17)"
      ]
     },
     "execution_count": 79,
     "metadata": {},
     "output_type": "execute_result"
    }
   ],
   "source": [
    "X_train.shape"
   ]
  },
  {
   "cell_type": "code",
   "execution_count": 82,
   "metadata": {},
   "outputs": [],
   "source": [
    "scaled = scaler.transform(df)"
   ]
  },
  {
   "cell_type": "code",
   "execution_count": 83,
   "metadata": {},
   "outputs": [],
   "source": [
    "train = scaled[:1500, :]\n",
    "test = scaled[1500:, :]"
   ]
  },
  {
   "cell_type": "code",
   "execution_count": 84,
   "metadata": {},
   "outputs": [],
   "source": [
    "X_train, X_test = train[:1500,:17], test[:,:17] "
   ]
  },
  {
   "cell_type": "code",
   "execution_count": 85,
   "metadata": {},
   "outputs": [
    {
     "data": {
      "text/plain": [
       "((1500, 17), (602, 17))"
      ]
     },
     "execution_count": 85,
     "metadata": {},
     "output_type": "execute_result"
    }
   ],
   "source": [
    "X_train.shape, X_test.shape"
   ]
  },
  {
   "cell_type": "code",
   "execution_count": 86,
   "metadata": {},
   "outputs": [],
   "source": [
    "y_train, y_test = train[:1500, 17:18], test[:, 17:18]"
   ]
  },
  {
   "cell_type": "code",
   "execution_count": 87,
   "metadata": {},
   "outputs": [
    {
     "data": {
      "text/plain": [
       "((1500, 1), (602, 1))"
      ]
     },
     "execution_count": 87,
     "metadata": {},
     "output_type": "execute_result"
    }
   ],
   "source": [
    "y_train.shape, y_test.shape"
   ]
  },
  {
   "cell_type": "code",
   "execution_count": 88,
   "metadata": {},
   "outputs": [],
   "source": [
    "look_back = 7 # 7 dats"
   ]
  },
  {
   "cell_type": "markdown",
   "metadata": {},
   "source": [
    "### TimeseriesGenerator:\n",
    "Data: takes in data argument i.e. X_train, should be 2D, axis 0 is the time dimension and has timesteps.\n",
    "target: target for the model i.e. y_train\n",
    "length: lenght of output sequences (in number of timesteps)\n",
    "sampling_rate: period between successive timesteps within sequences.\n",
    "stride: sequence between successive output sequences.\n",
    "batch_size: number of timeseries samples in each batch, i.e. number of days you want to predict the target for.\n",
    "can also use:\n",
    "start_index: data points earlier than start_index would not be used in output sequence, this is to split the data for test or validation.\n",
    "end_index: data points later than end_index would not be used in the output sequences, useful to reserve the data for test or validation."
   ]
  },
  {
   "cell_type": "code",
   "execution_count": 89,
   "metadata": {},
   "outputs": [],
   "source": [
    "# sampling_rate, and stride essentially refer to daily time series and how many values do you want to include in each sample. since it is a daily time series, we can keep the sampling_rate and stride to 1."
   ]
  },
  {
   "cell_type": "code",
   "execution_count": 90,
   "metadata": {},
   "outputs": [],
   "source": [
    "train_data_generator = TimeseriesGenerator(X_train, y_train, \n",
    "                                           length=17,\n",
    "                                           sampling_rate=1, \n",
    "                                           stride=1, \n",
    "                                           batch_size=3)\n"
   ]
  },
  {
   "cell_type": "code",
   "execution_count": 91,
   "metadata": {},
   "outputs": [],
   "source": [
    "test_data_generator = TimeseriesGenerator(X_test, y_test, \n",
    "                                          length=17, \n",
    "                                          sampling_rate=1,\n",
    "                                          stride=1,\n",
    "                                          batch_size =3)"
   ]
  },
  {
   "cell_type": "markdown",
   "metadata": {},
   "source": [
    "### Let's Define the Model:"
   ]
  },
  {
   "cell_type": "code",
   "execution_count": 92,
   "metadata": {},
   "outputs": [],
   "source": [
    "from keras.models import Sequential\n",
    "from keras.layers import Dense\n",
    "from keras.layers import LSTM\n",
    "from keras.layers import Dropout"
   ]
  },
  {
   "cell_type": "code",
   "execution_count": 93,
   "metadata": {},
   "outputs": [
    {
     "name": "stdout",
     "output_type": "stream",
     "text": [
      "Epoch 1/20\n",
      "495/495 [==============================] - 24s 49ms/step - loss: 7.1782e-04\n",
      "Epoch 2/20\n",
      "495/495 [==============================] - 18s 36ms/step - loss: 1.8197e-04\n",
      "Epoch 3/20\n",
      "495/495 [==============================] - 19s 38ms/step - loss: 8.3650e-05\n",
      "Epoch 4/20\n",
      "495/495 [==============================] - 18s 36ms/step - loss: 4.8490e-05\n",
      "Epoch 5/20\n",
      "495/495 [==============================] - 18s 37ms/step - loss: 1.8845e-05\n",
      "Epoch 6/20\n",
      "495/495 [==============================] - 17s 35ms/step - loss: 7.5708e-06\n",
      "Epoch 7/20\n",
      "495/495 [==============================] - 18s 36ms/step - loss: 3.6748e-06\n",
      "Epoch 8/20\n",
      "495/495 [==============================] - 18s 36ms/step - loss: 1.5834e-06\n",
      "Epoch 9/20\n",
      "495/495 [==============================] - 19s 39ms/step - loss: 1.1187e-06\n",
      "Epoch 10/20\n",
      "495/495 [==============================] - 18s 37ms/step - loss: 6.9398e-07\n",
      "Epoch 11/20\n",
      "495/495 [==============================] - 18s 37ms/step - loss: 7.4149e-07\n",
      "Epoch 12/20\n",
      "495/495 [==============================] - 18s 36ms/step - loss: 8.2506e-07\n",
      "Epoch 13/20\n",
      "495/495 [==============================] - 18s 37ms/step - loss: 6.5534e-07\n",
      "Epoch 14/20\n",
      "495/495 [==============================] - 19s 38ms/step - loss: 9.7449e-07\n",
      "Epoch 15/20\n",
      "495/495 [==============================] - 18s 36ms/step - loss: 1.8966e-06\n",
      "Epoch 16/20\n",
      "495/495 [==============================] - 17s 35ms/step - loss: 1.6380e-06\n",
      "Epoch 17/20\n",
      "495/495 [==============================] - 18s 35ms/step - loss: 2.4156e-07\n",
      "Epoch 18/20\n",
      "495/495 [==============================] - 19s 37ms/step - loss: 5.4616e-07\n",
      "Epoch 19/20\n",
      "495/495 [==============================] - 21s 43ms/step - loss: 6.8790e-07\n",
      "Epoch 20/20\n",
      "495/495 [==============================] - 20s 41ms/step - loss: 5.2674e-07\n"
     ]
    }
   ],
   "source": [
    "\n",
    "regressor = Sequential()\n",
    "\n",
    "# Adding the LSTM layer\n",
    "\n",
    "regressor.add(LSTM(32, return_sequences=True, input_shape=(train_data_generator.length, X_train.shape[1])))\n",
    "regressor.add(Dropout(0.2))\n",
    "\n",
    "# Adding the second layer\n",
    "\n",
    "regressor.add(LSTM(32, return_sequences=True))\n",
    "regressor.add(Dropout(0.2))\n",
    "\n",
    "# Adding a third layer\n",
    "regressor.add(LSTM(32, return_sequences=False))\n",
    "regressor.add(Dropout(0.2))\n",
    "\n",
    "# Adding the output layer\n",
    "regressor.add(Dense(units=1))\n",
    "\n",
    "# Compiling the RNN\n",
    "regressor.compile(optimizer='adam', loss='mean_squared_error')\n",
    "\n",
    "# Fitting the RNN to the Training set\n",
    "\n",
    "history = regressor.fit_generator(train_data_generator, epochs=20)\n"
   ]
  },
  {
   "cell_type": "markdown",
   "metadata": {},
   "source": [
    "## To see what your model looks:\n",
    "\n",
    "from keras.utils import plot_model\n",
    "plot_model(model, to_file='model.png', show_shapes=True)\n",
    "from IPython.display import Image\n",
    "Image(filename='model.png')"
   ]
  },
  {
   "cell_type": "code",
   "execution_count": 170,
   "metadata": {},
   "outputs": [],
   "source": [
    "# history = model.fit_generator(train_data_generator, epochs=100).history"
   ]
  },
  {
   "cell_type": "code",
   "execution_count": 98,
   "metadata": {},
   "outputs": [],
   "source": [
    "from keras.models import load_model\n",
    "\n",
    "regressor.save('first_model.h')\n",
    "model = load_model('first_model.h')"
   ]
  },
  {
   "cell_type": "code",
   "execution_count": 99,
   "metadata": {},
   "outputs": [
    {
     "data": {
      "text/plain": [
       "1.405754124615937e-08"
      ]
     },
     "execution_count": 99,
     "metadata": {},
     "output_type": "execute_result"
    }
   ],
   "source": [
    "regressor.evaluate_generator(test_data_generator)"
   ]
  },
  {
   "cell_type": "code",
   "execution_count": 103,
   "metadata": {},
   "outputs": [
    {
     "data": {
      "text/plain": [
       "(585, 1)"
      ]
     },
     "execution_count": 103,
     "metadata": {},
     "output_type": "execute_result"
    }
   ],
   "source": [
    "train_pred = regressor.predict_generator(test_data_generator)\n",
    "train_pred.shape"
   ]
  },
  {
   "cell_type": "code",
   "execution_count": 104,
   "metadata": {},
   "outputs": [
    {
     "data": {
      "text/plain": [
       "(585, 1)"
      ]
     },
     "execution_count": 104,
     "metadata": {},
     "output_type": "execute_result"
    }
   ],
   "source": [
    "test_pred = model.predict_generator(test_data_generator)\n",
    "test_pred.shape"
   ]
  },
  {
   "cell_type": "code",
   "execution_count": 105,
   "metadata": {},
   "outputs": [],
   "source": [
    "## scale values back to real index/price range.\n",
    "\n",
    "y = scaler.inverse_transform(train_pred)\n",
    "test_pred = scaler.inverse_transform(test_pred)\n",
    "# dataset_y = scaler.inverse_transform(dataset_y)\n"
   ]
  },
  {
   "cell_type": "code",
   "execution_count": 106,
   "metadata": {},
   "outputs": [],
   "source": [
    "from sklearn.metrics import mean_squared_error"
   ]
  },
  {
   "cell_type": "code",
   "execution_count": 107,
   "metadata": {},
   "outputs": [
    {
     "ename": "ValueError",
     "evalue": "Found input variables with inconsistent numbers of samples: [1500, 585]",
     "output_type": "error",
     "traceback": [
      "\u001b[1;31m---------------------------------------------------------------------------\u001b[0m",
      "\u001b[1;31mValueError\u001b[0m                                Traceback (most recent call last)",
      "\u001b[1;32m<ipython-input-107-31928211fb89>\u001b[0m in \u001b[0;36m<module>\u001b[1;34m\u001b[0m\n\u001b[0;32m      1\u001b[0m \u001b[1;31m# calculating the room mean squared erro\u001b[0m\u001b[1;33m\u001b[0m\u001b[1;33m\u001b[0m\u001b[1;33m\u001b[0m\u001b[0m\n\u001b[0;32m      2\u001b[0m \u001b[1;33m\u001b[0m\u001b[0m\n\u001b[1;32m----> 3\u001b[1;33m \u001b[0mtrain_score\u001b[0m \u001b[1;33m=\u001b[0m \u001b[0mmath\u001b[0m\u001b[1;33m.\u001b[0m\u001b[0msqrt\u001b[0m\u001b[1;33m(\u001b[0m\u001b[0mmean_squared_error\u001b[0m\u001b[1;33m(\u001b[0m\u001b[0my_train\u001b[0m\u001b[1;33m[\u001b[0m\u001b[1;33m:\u001b[0m\u001b[1;33m,\u001b[0m\u001b[1;36m0\u001b[0m\u001b[1;33m]\u001b[0m\u001b[1;33m,\u001b[0m \u001b[0mtrain_pred\u001b[0m\u001b[1;33m[\u001b[0m\u001b[1;33m:\u001b[0m\u001b[1;33m,\u001b[0m\u001b[1;36m0\u001b[0m\u001b[1;33m]\u001b[0m\u001b[1;33m)\u001b[0m\u001b[1;33m)\u001b[0m\u001b[1;33m\u001b[0m\u001b[1;33m\u001b[0m\u001b[0m\n\u001b[0m\u001b[0;32m      4\u001b[0m \u001b[0mprint\u001b[0m\u001b[1;33m(\u001b[0m\u001b[1;34m'Train Score: %0.2f RMSE'\u001b[0m \u001b[1;33m%\u001b[0m \u001b[1;33m(\u001b[0m\u001b[0mtrain_score\u001b[0m\u001b[1;33m)\u001b[0m\u001b[1;33m)\u001b[0m\u001b[1;33m\u001b[0m\u001b[1;33m\u001b[0m\u001b[0m\n\u001b[0;32m      5\u001b[0m \u001b[1;33m\u001b[0m\u001b[0m\n",
      "\u001b[1;32m~\\Anaconda3\\lib\\site-packages\\sklearn\\metrics\\regression.py\u001b[0m in \u001b[0;36mmean_squared_error\u001b[1;34m(y_true, y_pred, sample_weight, multioutput)\u001b[0m\n\u001b[0;32m    237\u001b[0m     \"\"\"\n\u001b[0;32m    238\u001b[0m     y_type, y_true, y_pred, multioutput = _check_reg_targets(\n\u001b[1;32m--> 239\u001b[1;33m         y_true, y_pred, multioutput)\n\u001b[0m\u001b[0;32m    240\u001b[0m     \u001b[0mcheck_consistent_length\u001b[0m\u001b[1;33m(\u001b[0m\u001b[0my_true\u001b[0m\u001b[1;33m,\u001b[0m \u001b[0my_pred\u001b[0m\u001b[1;33m,\u001b[0m \u001b[0msample_weight\u001b[0m\u001b[1;33m)\u001b[0m\u001b[1;33m\u001b[0m\u001b[1;33m\u001b[0m\u001b[0m\n\u001b[0;32m    241\u001b[0m     output_errors = np.average((y_true - y_pred) ** 2, axis=0,\n",
      "\u001b[1;32m~\\Anaconda3\\lib\\site-packages\\sklearn\\metrics\\regression.py\u001b[0m in \u001b[0;36m_check_reg_targets\u001b[1;34m(y_true, y_pred, multioutput)\u001b[0m\n\u001b[0;32m     73\u001b[0m \u001b[1;33m\u001b[0m\u001b[0m\n\u001b[0;32m     74\u001b[0m     \"\"\"\n\u001b[1;32m---> 75\u001b[1;33m     \u001b[0mcheck_consistent_length\u001b[0m\u001b[1;33m(\u001b[0m\u001b[0my_true\u001b[0m\u001b[1;33m,\u001b[0m \u001b[0my_pred\u001b[0m\u001b[1;33m)\u001b[0m\u001b[1;33m\u001b[0m\u001b[1;33m\u001b[0m\u001b[0m\n\u001b[0m\u001b[0;32m     76\u001b[0m     \u001b[0my_true\u001b[0m \u001b[1;33m=\u001b[0m \u001b[0mcheck_array\u001b[0m\u001b[1;33m(\u001b[0m\u001b[0my_true\u001b[0m\u001b[1;33m,\u001b[0m \u001b[0mensure_2d\u001b[0m\u001b[1;33m=\u001b[0m\u001b[1;32mFalse\u001b[0m\u001b[1;33m)\u001b[0m\u001b[1;33m\u001b[0m\u001b[1;33m\u001b[0m\u001b[0m\n\u001b[0;32m     77\u001b[0m     \u001b[0my_pred\u001b[0m \u001b[1;33m=\u001b[0m \u001b[0mcheck_array\u001b[0m\u001b[1;33m(\u001b[0m\u001b[0my_pred\u001b[0m\u001b[1;33m,\u001b[0m \u001b[0mensure_2d\u001b[0m\u001b[1;33m=\u001b[0m\u001b[1;32mFalse\u001b[0m\u001b[1;33m)\u001b[0m\u001b[1;33m\u001b[0m\u001b[1;33m\u001b[0m\u001b[0m\n",
      "\u001b[1;32m~\\Anaconda3\\lib\\site-packages\\sklearn\\utils\\validation.py\u001b[0m in \u001b[0;36mcheck_consistent_length\u001b[1;34m(*arrays)\u001b[0m\n\u001b[0;32m    233\u001b[0m     \u001b[1;32mif\u001b[0m \u001b[0mlen\u001b[0m\u001b[1;33m(\u001b[0m\u001b[0muniques\u001b[0m\u001b[1;33m)\u001b[0m \u001b[1;33m>\u001b[0m \u001b[1;36m1\u001b[0m\u001b[1;33m:\u001b[0m\u001b[1;33m\u001b[0m\u001b[1;33m\u001b[0m\u001b[0m\n\u001b[0;32m    234\u001b[0m         raise ValueError(\"Found input variables with inconsistent numbers of\"\n\u001b[1;32m--> 235\u001b[1;33m                          \" samples: %r\" % [int(l) for l in lengths])\n\u001b[0m\u001b[0;32m    236\u001b[0m \u001b[1;33m\u001b[0m\u001b[0m\n\u001b[0;32m    237\u001b[0m \u001b[1;33m\u001b[0m\u001b[0m\n",
      "\u001b[1;31mValueError\u001b[0m: Found input variables with inconsistent numbers of samples: [1500, 585]"
     ]
    }
   ],
   "source": [
    "# calculating the room mean squared erro\n",
    "\n",
    "train_score = math.sqrt(mean_squared_error(y_train[:,0], train_pred[:,0]))\n",
    "print('Train Score: %0.2f RMSE' % (train_score))\n",
    "\n",
    "test_score = math.sqrt(mean_squared_error(y_test[:, 0], test_pred[:, 0]))\n",
    "print('Test Score: %.2f RMSE' % (test_score))\n",
    "\n",
    "# this would print out the RMSE score"
   ]
  },
  {
   "cell_type": "code",
   "execution_count": null,
   "metadata": {},
   "outputs": [],
   "source": [
    "# you can also plot the train and test predictions.\n"
   ]
  },
  {
   "cell_type": "markdown",
   "metadata": {},
   "source": [
    "### PREVIOUS MODEL:"
   ]
  },
  {
   "cell_type": "code",
   "execution_count": 42,
   "metadata": {},
   "outputs": [],
   "source": [
    "model = Sequential()\n",
    "model.add(LSTM(32, input_shape=(look_back, X_train.shape[1])))\n",
    "model.add(Dense(1))\n",
    "model.compile(loss='mean_squared_error', optimizer='adam')"
   ]
  },
  {
   "cell_type": "code",
   "execution_count": null,
   "metadata": {},
   "outputs": [],
   "source": []
  }
 ],
 "metadata": {
  "kernelspec": {
   "display_name": "Python 3",
   "language": "python",
   "name": "python3"
  },
  "language_info": {
   "codemirror_mode": {
    "name": "ipython",
    "version": 3
   },
   "file_extension": ".py",
   "mimetype": "text/x-python",
   "name": "python",
   "nbconvert_exporter": "python",
   "pygments_lexer": "ipython3",
   "version": "3.7.3"
  }
 },
 "nbformat": 4,
 "nbformat_minor": 2
}

{
 "cells": [
  {
   "cell_type": "code",
   "execution_count": 1,
   "metadata": {},
   "outputs": [],
   "source": [
    "import sys"
   ]
  },
  {
   "cell_type": "code",
   "execution_count": 2,
   "metadata": {},
   "outputs": [],
   "source": [
    "sys.path.insert(0, '/home/ec2-user/SageMaker/Data-Science/data')"
   ]
  },
  {
   "cell_type": "code",
   "execution_count": 3,
   "metadata": {},
   "outputs": [
    {
     "name": "stderr",
     "output_type": "stream",
     "text": [
      "Using TensorFlow backend.\n"
     ]
    }
   ],
   "source": [
    "from model import ModelMaker"
   ]
  },
  {
   "cell_type": "code",
   "execution_count": 4,
   "metadata": {},
   "outputs": [
    {
     "data": {
      "text/plain": [
       "['/home/ec2-user/SageMaker/Data-Science/data',\n",
       " '',\n",
       " '/home/ec2-user/anaconda3/envs/riskylobster/lib/python36.zip',\n",
       " '/home/ec2-user/anaconda3/envs/riskylobster/lib/python3.6',\n",
       " '/home/ec2-user/anaconda3/envs/riskylobster/lib/python3.6/lib-dynload',\n",
       " '/home/ec2-user/anaconda3/envs/riskylobster/lib/python3.6/site-packages',\n",
       " '/home/ec2-user/anaconda3/envs/riskylobster/lib/python3.6/site-packages/IPython/extensions',\n",
       " '/home/ec2-user/.ipython']"
      ]
     },
     "execution_count": 4,
     "metadata": {},
     "output_type": "execute_result"
    }
   ],
   "source": [
    "sys.path"
   ]
  },
  {
   "cell_type": "code",
   "execution_count": 5,
   "metadata": {},
   "outputs": [],
   "source": [
    "mm = ModelMaker(symbol='AAPL')"
   ]
  },
  {
   "cell_type": "code",
   "execution_count": 6,
   "metadata": {},
   "outputs": [],
   "source": [
    "lstm_layers = [[361, 196, 64], [300 ,200, 50]]\n",
    "dropouts = [[0.2, 0.2, 0.2]]\n",
    "l_rate = [.007, .025]\n",
    "p = [0.001]\n",
    "decay = [0.0001]\n",
    "loss = ['mean_squared_logarithmic_error']\n",
    "seq_length = [30]\n",
    "batch_size = [15]\n",
    "epochs = [30]\n",
    "from keras.models import Sequential\n",
    "\n",
    "p_grid = {'lstm_layers':lstm_layers, \n",
    "          'dropouts':dropouts,\n",
    "          'l_rate':l_rate,\n",
    "          'p':p,\n",
    "          'decay':decay,\n",
    "          'loss':loss,\n",
    "          'seq_length':seq_length,\n",
    "          'batch_size':batch_size,\n",
    "          'epochs':epochs\n",
    "         }"
   ]
  },
  {
   "cell_type": "code",
   "execution_count": 7,
   "metadata": {},
   "outputs": [
    {
     "name": "stdout",
     "output_type": "stream",
     "text": [
      "################################################################### \n",
      " Ticker:  AAPL \n",
      " Last Refreshed:  2019-09-24 13:28:05 \n",
      " Data Retrieved:  Daily Time Series with Splits and Dividend Events \n",
      " ###################################################################\n",
      "################################################################### \n",
      " Ticker:  AAPL \n",
      " Fundamentals Retrieved:  ['AAPL_open' 'AAPL_high' 'AAPL_low' 'AAPL_close' 'AAPL_adjusted_close'\n",
      " 'AAPL_volume' 'AAPL_dividend_amount' 'AAPL_totalrevenue'\n",
      " 'AAPL_totalcostofrevenue' 'AAPL_totalgrossprofit'\n",
      " 'AAPL_totalpretaxincome' 'AAPL_weightedavebasicdilutedsharesos'\n",
      " 'AAPL_cashdividendspershare'] \n",
      " ###################################################################\n",
      "################################################################### \n",
      " Ticker:  AAPL \n",
      " Retrieved Data Start Date:  2009-07-22 \n",
      " Retrieved Data End Date:  2019-07-31 \n",
      " Data Retrieved:  ['AAPL_totalrevenue', 'AAPL_totalcostofrevenue', 'AAPL_totalgrossprofit', 'AAPL_totalpretaxincome', 'AAPL_weightedavebasicdilutedsharesos', 'AAPL_cashdividendspershare'] \n",
      " ###################################################################\n",
      "################################################################### \n",
      " Ticker:  AAPL \n",
      " Last Refreshed:  Simple Moving Average (SMA) \n",
      " Data Retrieved:  2019-09-24 13:28:19 \n",
      " ###################################################################\n",
      "################################################################### \n",
      " Ticker:  AAPL \n",
      " Last Refreshed:  Weighted Moving Average (WMA) \n",
      " Data Retrieved:  2019-09-24 13:28:19 \n",
      " ###################################################################\n",
      "################################################################### \n",
      " Ticker:  AAPL \n",
      " Last Refreshed:  Stochastic (STOCH) \n",
      " Data Retrieved:  2019-09-24 13:28:19 \n",
      " ###################################################################\n",
      "################################################################### \n",
      " Ticker:  AAPL \n",
      " Last Refreshed:  Rate of change : ((price/prevPrice)-1)*100 \n",
      " Data Retrieved:  2019-09-24 13:28:21 \n",
      " ###################################################################\n",
      "################################################################### \n",
      " Ticker:  AAPL \n",
      " Last Refreshed:  Aroon (AROON) \n",
      " Data Retrieved:  2019-09-24 13:28:21 \n",
      " ###################################################################\n",
      "################################################################### \n",
      " Index: Nominal Home Price Index Added \n",
      " ###################################################################\n"
     ]
    },
    {
     "name": "stderr",
     "output_type": "stream",
     "text": [
      "/home/ec2-user/SageMaker/Data-Science/data/fin_data.py:295: UserWarning: The latest value available for Housing Index is from January 2019.\n",
      "  warnings.warn(\"The latest value available for Housing Index is from January 2019.\")\n"
     ]
    },
    {
     "name": "stdout",
     "output_type": "stream",
     "text": [
      "################################################################### \n",
      " Index: Yale Investor Behavior Project Added \n",
      " ###################################################################\n",
      "################################################################### \n",
      " Trade Weighted U.S. Dollar Index: Broad Added \n",
      " ###################################################################\n",
      "################################################################### \n",
      " US Treasury Bond Long-Term Rates Added \n",
      " ###################################################################\n",
      "################################################################### \n",
      " US Treasury Bond Short-Term Rates Added \n",
      " ###################################################################\n",
      "8_Wk_DR is missing  4227\n",
      "8_Wk_DR dropped\n",
      "8_Wk_CE is missing  4227\n",
      "8_Wk_CE dropped\n",
      "52_Wk_DR is missing  1610\n",
      "52_Wk_DR dropped\n",
      "52_Wk_CE is missing  1610\n",
      "52_Wk_CE dropped\n"
     ]
    },
    {
     "name": "stderr",
     "output_type": "stream",
     "text": [
      "/home/ec2-user/SageMaker/Data-Science/data/fin_data.py:336: UserWarning: Contains Null Values\n",
      "  warnings.warn(\"Contains Null Values\")\n"
     ]
    },
    {
     "name": "stdout",
     "output_type": "stream",
     "text": [
      "nulls in target =  0\n",
      "WARNING:tensorflow:From /home/ec2-user/anaconda3/envs/riskylobster/lib/python3.6/site-packages/tensorflow/python/framework/op_def_library.py:263: colocate_with (from tensorflow.python.framework.ops) is deprecated and will be removed in a future version.\n",
      "Instructions for updating:\n",
      "Colocations handled automatically by placer.\n"
     ]
    },
    {
     "name": "stderr",
     "output_type": "stream",
     "text": [
      "/home/ec2-user/anaconda3/envs/riskylobster/lib/python3.6/site-packages/sklearn/model_selection/_search.py:841: DeprecationWarning: The default of the `iid` parameter will change from True to False in version 0.22 and will be removed in 0.24. This will change numeric results when test-set sizes are unequal.\n",
      "  DeprecationWarning)\n"
     ]
    },
    {
     "name": "stdout",
     "output_type": "stream",
     "text": [
      "WARNING:tensorflow:From /home/ec2-user/anaconda3/envs/riskylobster/lib/python3.6/site-packages/keras/backend/tensorflow_backend.py:3445: calling dropout (from tensorflow.python.ops.nn_ops) with keep_prob is deprecated and will be removed in a future version.\n",
      "Instructions for updating:\n",
      "Please use `rate` instead of `keep_prob`. Rate should be set to `rate = 1 - keep_prob`.\n",
      "WARNING:tensorflow:From /home/ec2-user/anaconda3/envs/riskylobster/lib/python3.6/site-packages/tensorflow/python/ops/math_ops.py:3066: to_int32 (from tensorflow.python.ops.math_ops) is deprecated and will be removed in a future version.\n",
      "Instructions for updating:\n",
      "Use tf.cast instead.\n",
      "Epoch 1/30\n",
      " - 55s - loss: 1.3094 - val_loss: 0.7702\n",
      "\n",
      "Epoch 00001: val_loss improved from inf to 0.77016, saving model to /home/ec2-user/SageMaker/Data-Science/jupyter_notebooks/modeling/results/best_weights.01-0.77.hdf5\n",
      "Epoch 2/30\n",
      " - 50s - loss: 0.1462 - val_loss: 0.8398\n",
      "\n",
      "Epoch 00002: val_loss did not improve from 0.77016\n",
      "Epoch 3/30\n",
      " - 50s - loss: 0.0942 - val_loss: 0.3941\n",
      "\n",
      "Epoch 00003: val_loss improved from 0.77016 to 0.39406, saving model to /home/ec2-user/SageMaker/Data-Science/jupyter_notebooks/modeling/results/best_weights.03-0.39.hdf5\n",
      "Epoch 4/30\n",
      " - 50s - loss: 0.0750 - val_loss: 0.3383\n",
      "\n",
      "Epoch 00004: val_loss improved from 0.39406 to 0.33825, saving model to /home/ec2-user/SageMaker/Data-Science/jupyter_notebooks/modeling/results/best_weights.04-0.34.hdf5\n",
      "Epoch 5/30\n",
      " - 50s - loss: 0.0630 - val_loss: 0.2659\n",
      "\n",
      "Epoch 00005: val_loss improved from 0.33825 to 0.26594, saving model to /home/ec2-user/SageMaker/Data-Science/jupyter_notebooks/modeling/results/best_weights.05-0.27.hdf5\n",
      "Epoch 6/30\n",
      " - 50s - loss: 0.0629 - val_loss: 0.3229\n",
      "\n",
      "Epoch 00006: val_loss did not improve from 0.26594\n",
      "Epoch 7/30\n",
      " - 50s - loss: 0.0531 - val_loss: 0.2428\n",
      "\n",
      "Epoch 00007: val_loss improved from 0.26594 to 0.24277, saving model to /home/ec2-user/SageMaker/Data-Science/jupyter_notebooks/modeling/results/best_weights.07-0.24.hdf5\n",
      "Epoch 8/30\n",
      " - 50s - loss: 0.0540 - val_loss: 0.2347\n",
      "\n",
      "Epoch 00008: val_loss improved from 0.24277 to 0.23467, saving model to /home/ec2-user/SageMaker/Data-Science/jupyter_notebooks/modeling/results/best_weights.08-0.23.hdf5\n",
      "Epoch 9/30\n",
      " - 50s - loss: 0.0511 - val_loss: 0.3110\n",
      "\n",
      "Epoch 00009: val_loss did not improve from 0.23467\n",
      "Epoch 10/30\n",
      " - 50s - loss: 0.0475 - val_loss: 0.3410\n",
      "\n",
      "Epoch 00010: val_loss did not improve from 0.23467\n",
      "Epoch 11/30\n",
      " - 50s - loss: 0.0459 - val_loss: 0.2465\n",
      "\n",
      "Epoch 00011: val_loss did not improve from 0.23467\n",
      "Epoch 12/30\n",
      " - 50s - loss: 0.0456 - val_loss: 0.1918\n",
      "\n",
      "Epoch 00012: val_loss improved from 0.23467 to 0.19182, saving model to /home/ec2-user/SageMaker/Data-Science/jupyter_notebooks/modeling/results/best_weights.12-0.19.hdf5\n",
      "Epoch 13/30\n",
      " - 50s - loss: 0.0449 - val_loss: 0.2491\n",
      "\n",
      "Epoch 00013: val_loss did not improve from 0.19182\n",
      "Epoch 14/30\n",
      " - 50s - loss: 0.0423 - val_loss: 0.2258\n",
      "\n",
      "Epoch 00014: val_loss did not improve from 0.19182\n",
      "Epoch 15/30\n",
      " - 50s - loss: 0.0434 - val_loss: 0.2953\n",
      "\n",
      "Epoch 00015: val_loss did not improve from 0.19182\n",
      "Epoch 16/30\n",
      " - 50s - loss: 0.0416 - val_loss: 0.3032\n",
      "\n",
      "Epoch 00016: val_loss did not improve from 0.19182\n",
      "Epoch 17/30\n",
      " - 50s - loss: 0.0405 - val_loss: 0.2365\n",
      "\n",
      "Epoch 00017: val_loss did not improve from 0.19182\n",
      "Epoch 00017: early stopping\n"
     ]
    }
   ],
   "source": [
    "res, best = mm.fit_model(param_grid=p_grid)"
   ]
  },
  {
   "cell_type": "code",
   "execution_count": 15,
   "metadata": {},
   "outputs": [],
   "source": [
    "be = res.best_estimator_"
   ]
  },
  {
   "cell_type": "code",
   "execution_count": 16,
   "metadata": {},
   "outputs": [
    {
     "data": {
      "text/plain": [
       "['_KerasRegressorGenerator__history',\n",
       " '__class__',\n",
       " '__delattr__',\n",
       " '__dict__',\n",
       " '__dir__',\n",
       " '__doc__',\n",
       " '__eq__',\n",
       " '__format__',\n",
       " '__ge__',\n",
       " '__getattribute__',\n",
       " '__gt__',\n",
       " '__hash__',\n",
       " '__init__',\n",
       " '__init_subclass__',\n",
       " '__le__',\n",
       " '__lt__',\n",
       " '__module__',\n",
       " '__ne__',\n",
       " '__new__',\n",
       " '__reduce__',\n",
       " '__reduce_ex__',\n",
       " '__repr__',\n",
       " '__setattr__',\n",
       " '__sizeof__',\n",
       " '__slotnames__',\n",
       " '__str__',\n",
       " '__subclasshook__',\n",
       " '__weakref__',\n",
       " 'build_fn',\n",
       " 'check_params',\n",
       " 'create_gens',\n",
       " 'extract_data',\n",
       " 'filter_sk_params',\n",
       " 'fit',\n",
       " 'get_params',\n",
       " 'history',\n",
       " 'model',\n",
       " 'predict',\n",
       " 'score',\n",
       " 'set_params',\n",
       " 'sk_params',\n",
       " 'train_data_generator',\n",
       " 'val_data_generator']"
      ]
     },
     "execution_count": 16,
     "metadata": {},
     "output_type": "execute_result"
    }
   ],
   "source": [
    "dir(be)"
   ]
  },
  {
   "cell_type": "code",
   "execution_count": 27,
   "metadata": {},
   "outputs": [],
   "source": [
    "from keras.preprocessing.sequence import TimeseriesGenerator\n",
    "import numpy as np"
   ]
  },
  {
   "cell_type": "code",
   "execution_count": 28,
   "metadata": {},
   "outputs": [],
   "source": [
    "def create_gens(X, y, seq_length=30, batch_size=15):\n",
    "    generator = TimeseriesGenerator(X, y,\n",
    "                                    length=seq_length,\n",
    "                                    sampling_rate=1,\n",
    "                                    stride=1,\n",
    "                                    batch_size=batch_size)\n",
    "    return generator\n",
    "\n",
    "def extract_data(generator):\n",
    "    for i in np.arange(len(generator)):\n",
    "        if i == 0:\n",
    "            a, b = generator[i]\n",
    "        else:\n",
    "            c, d = generator[i]\n",
    "\n",
    "            a = np.vstack((a, c))\n",
    "            b = np.vstack((b, d))\n",
    "\n",
    "    return a, b"
   ]
  },
  {
   "cell_type": "code",
   "execution_count": 33,
   "metadata": {},
   "outputs": [],
   "source": [
    "X, y = extract_data(create_gens(mm.X_test, mm.y_test, seq_length=seq_length[0], batch_size=batch_size[0]))\n",
    "y_pred = be.predict(X)"
   ]
  },
  {
   "cell_type": "code",
   "execution_count": 32,
   "metadata": {},
   "outputs": [],
   "source": [
    "import matplotlib.pyplot as plt"
   ]
  },
  {
   "cell_type": "code",
   "execution_count": 34,
   "metadata": {},
   "outputs": [
    {
     "data": {
      "text/plain": [
       "[<matplotlib.lines.Line2D at 0x7f3424c25240>]"
      ]
     },
     "execution_count": 34,
     "metadata": {},
     "output_type": "execute_result"
    },
    {
     "data": {
      "image/png": "[encoded data removed]",
      "text/plain": [
       "<Figure size 432x288 with 1 Axes>"
      ]
     },
     "metadata": {
      "needs_background": "light"
     },
     "output_type": "display_data"
    }
   ],
   "source": [
    "plt.plot(y)\n",
    "plt.plot(y_pred)"
   ]
  },
  {
   "cell_type": "code",
   "execution_count": 35,
   "metadata": {},
   "outputs": [],
   "source": [
    "def individual_array(sample):\n",
    "    \n",
    "    # get the means for each sampling\n",
    "    for i in np.arange(len(sample[0])):\n",
    "        means = []\n",
    "        for j in np.arange(len (sample)):\n",
    "            means.append(sample[j][i])\n",
    "        s_value = np.array(np.mean(means))\n",
    "\n",
    "        if i == 0:\n",
    "            final_array = s_value\n",
    "        else:\n",
    "            final_array = np.hstack((final_array, s_value))\n",
    "            \n",
    "    return final_array"
   ]
  },
  {
   "cell_type": "code",
   "execution_count": 36,
   "metadata": {},
   "outputs": [],
   "source": [
    "def flatten_shap_values(shap_vals):\n",
    "    \n",
    "    #Pull the array out of the list. \n",
    "    sv = shap_vals[0]\n",
    "    \n",
    "    count = 0\n",
    "    for sample in sv: \n",
    "        sample_array = individual_array(sample)\n",
    "        if count == 0:\n",
    "            final_array = sample_array\n",
    "        else:\n",
    "            final_array = np.vstack((final_array, sample_array))\n",
    "        \n",
    "        count +=1\n",
    "        \n",
    "    return final_array"
   ]
  },
  {
   "cell_type": "code",
   "execution_count": 38,
   "metadata": {},
   "outputs": [],
   "source": [
    "from shap import DeepExplainer, summary_plot"
   ]
  },
  {
   "cell_type": "code",
   "execution_count": 42,
   "metadata": {},
   "outputs": [],
   "source": [
    "de = DeepExplainer(model = be.model, data=X)"
   ]
  },
  {
   "cell_type": "code",
   "execution_count": 43,
   "metadata": {},
   "outputs": [],
   "source": [
    "shap_vals = de.shap_values(X)"
   ]
  },
  {
   "cell_type": "code",
   "execution_count": 44,
   "metadata": {},
   "outputs": [
    {
     "name": "stdout",
     "output_type": "stream",
     "text": [
      "(478, 30, 32)\n",
      "(30, 32)\n",
      "(32,)\n"
     ]
    }
   ],
   "source": [
    "print(shap_vals[0].shape) \n",
    "print(shap_vals[0][0].shape)\n",
    "print(shap_vals[0][0][0].shape)"
   ]
  },
  {
   "cell_type": "code",
   "execution_count": 48,
   "metadata": {
    "collapsed": true,
    "jupyter": {
     "outputs_hidden": true
    }
   },
   "outputs": [
    {
     "data": {
      "image/png": "[encoded data removed]",
      "text/plain": [
       "<Figure size 576x684 with 1 Axes>"
      ]
     },
     "metadata": {
      "needs_background": "light"
     },
     "output_type": "display_data"
    }
   ],
   "source": [
    "summary_plot([shap_vals[0][100]], feature_names=mm.X_cols)"
   ]
  },
  {
   "cell_type": "code",
   "execution_count": 49,
   "metadata": {},
   "outputs": [
    {
     "data": {
      "image/png": "[encoded data removed]",
      "text/plain": [
       "<Figure size 576x684 with 1 Axes>"
      ]
     },
     "metadata": {
      "needs_background": "light"
     },
     "output_type": "display_data"
    }
   ],
   "source": [
    "summary_plot([flatten_shap_values(shap_vals)], \n",
    "             feature_names=(mm.X_cols))"
   ]
  },
  {
   "cell_type": "code",
   "execution_count": 47,
   "metadata": {},
   "outputs": [
    {
     "data": {
      "text/html": [
       "['X_cols', 'X_test', 'X_train', 'X_val', '__class__', '__delattr__', '__dict__', '__dir__', '__doc__', '__eq__', '__format__', '__ge__', '__getattribute__', '__gt__', '__hash__', '__init__', '__init_subclass__', '__le__', '__lt__', '__module__', '__ne__', '__new__', '__reduce__', '__reduce_ex__', '__repr__', '__setattr__', '__sizeof__', '__slotnames__', '__str__', '__subclasshook__', '__weakref__', 'create_model', 'fit_model', 'fundamentals', 'get_data', 'macros', 'shift', 'symbol', 'technicals', 'y_test', 'y_train', 'y_val']"
      ],
      "text/plain": [
       "['X_cols',\n",
       " 'X_test',\n",
       " 'X_train',\n",
       " 'X_val',\n",
       " '__class__',\n",
       " '__delattr__',\n",
       " '__dict__',\n",
       " '__dir__',\n",
       " '__doc__',\n",
       " '__eq__',\n",
       " '__format__',\n",
       " '__ge__',\n",
       " '__getattribute__',\n",
       " '__gt__',\n",
       " '__hash__',\n",
       " '__init__',\n",
       " '__init_subclass__',\n",
       " '__le__',\n",
       " '__lt__',\n",
       " '__module__',\n",
       " '__ne__',\n",
       " '__new__',\n",
       " '__reduce__',\n",
       " '__reduce_ex__',\n",
       " '__repr__',\n",
       " '__setattr__',\n",
       " '__sizeof__',\n",
       " '__slotnames__',\n",
       " '__str__',\n",
       " '__subclasshook__',\n",
       " '__weakref__',\n",
       " 'create_model',\n",
       " 'fit_model',\n",
       " 'fundamentals',\n",
       " 'get_data',\n",
       " 'macros',\n",
       " 'shift',\n",
       " 'symbol',\n",
       " 'technicals',\n",
       " 'y_test',\n",
       " 'y_train',\n",
       " 'y_val']"
      ]
     },
     "execution_count": 47,
     "metadata": {},
     "output_type": "execute_result"
    }
   ],
   "source": []
  },
  {
   "cell_type": "code",
   "execution_count": 1,
   "metadata": {},
   "outputs": [],
   "source": [
    "import os"
   ]
  },
  {
   "cell_type": "code",
   "execution_count": 12,
   "metadata": {},
   "outputs": [],
   "source": [
    "curdir = os.getcwd() + '/results'"
   ]
  },
  {
   "cell_type": "code",
   "execution_count": 13,
   "metadata": {},
   "outputs": [],
   "source": [
    "try:\n",
    "    os.stat(str(curdir))\n",
    "except:\n",
    "    os.mkdir(str(curdir))"
   ]
  },
  {
   "cell_type": "code",
   "execution_count": 14,
   "metadata": {},
   "outputs": [
    {
     "data": {
      "text/plain": [
       "'/mnt/sdd1/Documents/LambdaSchool/labs_ir/repos/automation/Data-Science/jupyter_notebooks/modeling/results'"
      ]
     },
     "execution_count": 14,
     "metadata": {},
     "output_type": "execute_result"
    }
   ],
   "source": [
    "curdir"
   ]
  },
  {
   "cell_type": "code",
   "execution_count": 15,
   "metadata": {},
   "outputs": [],
   "source": [
    "tdict = {'a':1, 'b': 2, 'c':3}"
   ]
  },
  {
   "cell_type": "code",
   "execution_count": 21,
   "metadata": {},
   "outputs": [
    {
     "name": "stdout",
     "output_type": "stream",
     "text": [
      "no\n"
     ]
    }
   ],
   "source": [
    "if 'd' in tdict:\n",
    "    print('yes')\n",
    "else:\n",
    "    print('no')"
   ]
  },
  {
   "cell_type": "code",
   "execution_count": 29,
   "metadata": {},
   "outputs": [],
   "source": [
    "def test_f(a, **kwargs):\n",
    "    if a not in kwargs:\n",
    "        print('no')\n",
    "    else:\n",
    "        print('ya')\n",
    "    print(kwargs.keys())"
   ]
  },
  {
   "cell_type": "code",
   "execution_count": 37,
   "metadata": {},
   "outputs": [
    {
     "name": "stdout",
     "output_type": "stream",
     "text": [
      "no\n",
      "dict_keys(['b', 'c', 'd'])\n"
     ]
    }
   ],
   "source": [
    "test_f('e', b=1, c=2, d=3)"
   ]
  },
  {
   "cell_type": "code",
   "execution_count": null,
   "metadata": {},
   "outputs": [],
   "source": []
  }
 ],
 "metadata": {
  "kernelspec": {
   "display_name": "Python 3",
   "language": "python",
   "name": "python3"
  },
  "language_info": {
   "codemirror_mode": {
    "name": "ipython",
    "version": 3
   },
   "file_extension": ".py",
   "mimetype": "text/x-python",
   "name": "python",
   "nbconvert_exporter": "python",
   "pygments_lexer": "ipython3",
   "version": "3.6.9"
  }
 },
 "nbformat": 4,
 "nbformat_minor": 4
}

{
 "cells": [
  {
   "cell_type": "code",
   "execution_count": 1,
   "metadata": {},
   "outputs": [],
   "source": [
    "import sys"
   ]
  },
  {
   "cell_type": "code",
   "execution_count": 2,
   "metadata": {},
   "outputs": [],
   "source": [
    "sys.path.insert(0, '/home/joe/Documents/LambdaSchool/labs_ir/repos/Data-Science/data')"
   ]
  },
  {
   "cell_type": "code",
   "execution_count": 4,
   "metadata": {},
   "outputs": [
    {
     "name": "stderr",
     "output_type": "stream",
     "text": [
      "Using TensorFlow backend.\n"
     ]
    }
   ],
   "source": [
    "from keras_wrapper import KerasRegressorGenerator"
   ]
  },
  {
   "cell_type": "code",
   "execution_count": 5,
   "metadata": {},
   "outputs": [],
   "source": [
    "from model import ModelMaker"
   ]
  },
  {
   "cell_type": "code",
   "execution_count": 3,
   "metadata": {},
   "outputs": [
    {
     "data": {
      "text/plain": [
       "['/home/joe/Documents/LambdaSchool/labs_ir/repos/Data-Science/data',\n",
       " '',\n",
       " '/home/joe/PythonRoot/anaconda3/envs/riskylobster/lib/python36.zip',\n",
       " '/home/joe/PythonRoot/anaconda3/envs/riskylobster/lib/python3.6',\n",
       " '/home/joe/PythonRoot/anaconda3/envs/riskylobster/lib/python3.6/lib-dynload',\n",
       " '/home/joe/PythonRoot/anaconda3/envs/riskylobster/lib/python3.6/site-packages',\n",
       " '/home/joe/PythonRoot/anaconda3/envs/riskylobster/lib/python3.6/site-packages/IPython/extensions',\n",
       " '/home/joe/.ipython']"
      ]
     },
     "execution_count": 3,
     "metadata": {},
     "output_type": "execute_result"
    }
   ],
   "source": [
    "sys.path"
   ]
  },
  {
   "cell_type": "code",
   "execution_count": null,
   "metadata": {},
   "outputs": [],
   "source": [
    "param_grid = \n",
    "\n",
    "krgmodel = KerasRegressorGenerator(build_fn=ModelMaker.create_model())"
   ]
  }
 ],
 "metadata": {
  "kernelspec": {
   "display_name": "Python 3",
   "language": "python",
   "name": "python3"
  },
  "language_info": {
   "codemirror_mode": {
    "name": "ipython",
    "version": 3
   },
   "file_extension": ".py",
   "mimetype": "text/x-python",
   "name": "python",
   "nbconvert_exporter": "python",
   "pygments_lexer": "ipython3",
   "version": "3.6.9"
  }
 },
 "nbformat": 4,
 "nbformat_minor": 4
}

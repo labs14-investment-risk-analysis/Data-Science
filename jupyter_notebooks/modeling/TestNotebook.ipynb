{
 "cells": [
  {
   "cell_type": "code",
   "execution_count": 1,
   "metadata": {},
   "outputs": [],
   "source": [
    "import sys"
   ]
  },
  {
   "cell_type": "code",
   "execution_count": 2,
   "metadata": {},
   "outputs": [],
   "source": [
    "sys.path.insert(0, '/home/joe/Documents/LambdaSchool/labs_ir/repos/Data-Science/data')"
   ]
  },
  {
   "cell_type": "code",
   "execution_count": 3,
   "metadata": {},
   "outputs": [
    {
     "name": "stderr",
     "output_type": "stream",
     "text": [
      "Using TensorFlow backend.\n"
     ]
    }
   ],
   "source": [
    "from keras_wrapper import KerasRegressorGenerator"
   ]
  },
  {
   "cell_type": "code",
   "execution_count": 3,
   "metadata": {},
   "outputs": [
    {
     "name": "stderr",
     "output_type": "stream",
     "text": [
      "Using TensorFlow backend.\n"
     ]
    }
   ],
   "source": [
    "from model import ModelMaker"
   ]
  },
  {
   "cell_type": "code",
   "execution_count": 4,
   "metadata": {},
   "outputs": [
    {
     "data": {
      "text/plain": [
       "['/home/joe/Documents/LambdaSchool/labs_ir/repos/Data-Science/data',\n",
       " '',\n",
       " '/home/joe/PythonRoot/anaconda3/envs/riskylobster/lib/python36.zip',\n",
       " '/home/joe/PythonRoot/anaconda3/envs/riskylobster/lib/python3.6',\n",
       " '/home/joe/PythonRoot/anaconda3/envs/riskylobster/lib/python3.6/lib-dynload',\n",
       " '/home/joe/PythonRoot/anaconda3/envs/riskylobster/lib/python3.6/site-packages',\n",
       " '/home/joe/PythonRoot/anaconda3/envs/riskylobster/lib/python3.6/site-packages/IPython/extensions',\n",
       " '/home/joe/.ipython']"
      ]
     },
     "execution_count": 4,
     "metadata": {},
     "output_type": "execute_result"
    }
   ],
   "source": [
    "sys.path"
   ]
  },
  {
   "cell_type": "code",
   "execution_count": 5,
   "metadata": {
    "collapsed": true,
    "jupyter": {
     "outputs_hidden": true
    }
   },
   "outputs": [
    {
     "ename": "NameError",
     "evalue": "name 'KerasRegressorGenerator' is not defined",
     "output_type": "error",
     "traceback": [
      "\u001b[0;31m---------------------------------------------------------------------------\u001b[0m",
      "\u001b[0;31mNameError\u001b[0m                                 Traceback (most recent call last)",
      "\u001b[0;32m<ipython-input-5-d3eaa3a6fb9a>\u001b[0m in \u001b[0;36m<module>\u001b[0;34m()\u001b[0m\n\u001b[0;32m----> 1\u001b[0;31m \u001b[0mkrgmodel\u001b[0m \u001b[0;34m=\u001b[0m \u001b[0mKerasRegressorGenerator\u001b[0m\u001b[0;34m(\u001b[0m\u001b[0mbuild_fn\u001b[0m\u001b[0;34m=\u001b[0m\u001b[0mModelMaker\u001b[0m\u001b[0;34m.\u001b[0m\u001b[0mcreate_model\u001b[0m\u001b[0;34m)\u001b[0m\u001b[0;34m\u001b[0m\u001b[0;34m\u001b[0m\u001b[0m\n\u001b[0m",
      "\u001b[0;31mNameError\u001b[0m: name 'KerasRegressorGenerator' is not defined"
     ]
    }
   ],
   "source": []
  },
  {
   "cell_type": "code",
   "execution_count": 5,
   "metadata": {},
   "outputs": [],
   "source": [
    "mm = ModelMaker(symbol='AAPL')"
   ]
  },
  {
   "cell_type": "code",
   "execution_count": 6,
   "metadata": {},
   "outputs": [],
   "source": [
    "lstm_layers = [[361, 196, 81, 64], [300 ,200, 100, 50]]\n",
    "dropouts = [[0.2, 0.2, 0.2, 0.2], [0.3, 0.3, 0.3, 0.3]]\n",
    "l_rate = [.005, .015, .025]\n",
    "p = [0.001, 0.01, 0.05]\n",
    "decay = [0.0001, 0.0002]\n",
    "loss = ['mse', 'mean_squared_logarithmic_error']\n",
    "seq_length = [30]\n",
    "batch_size = [30]\n",
    "epochs = [50]\n",
    "\n",
    "p_grid = {'lstm_layers':lstm_layers, \n",
    "          'dropouts':dropouts,\n",
    "          'l_rate':l_rate,\n",
    "          'p':p,\n",
    "          'decay':decay,\n",
    "          'loss':loss,\n",
    "          'seq_length':seq_length,\n",
    "          'batch_size':batch_size,\n",
    "          'epochs':epochs\n",
    "         }"
   ]
  },
  {
   "cell_type": "code",
   "execution_count": null,
   "metadata": {},
   "outputs": [
    {
     "name": "stdout",
     "output_type": "stream",
     "text": [
      "################################################################### \n",
      " Ticker:  AAPL \n",
      " Last Refreshed:  2019-09-20 \n",
      " Data Retrieved:  Daily Time Series with Splits and Dividend Events \n",
      " ###################################################################\n",
      "################################################################### \n",
      " Ticker:  AAPL \n",
      " Fundamentals Retrieved:  ['AAPL_open' 'AAPL_high' 'AAPL_low' 'AAPL_close' 'AAPL_adjusted_close'\n",
      " 'AAPL_volume' 'AAPL_dividend_amount' 'AAPL_totalrevenue'\n",
      " 'AAPL_totalcostofrevenue' 'AAPL_totalgrossprofit'\n",
      " 'AAPL_totalpretaxincome' 'AAPL_weightedavebasicdilutedsharesos'\n",
      " 'AAPL_cashdividendspershare'] \n",
      " ###################################################################\n",
      "################################################################### \n",
      " Ticker:  AAPL \n",
      " Retrieved Data Start Date:  2009-07-22 \n",
      " Retrieved Data End Date:  2019-07-31 \n",
      " Data Retrieved:  ['AAPL_totalrevenue', 'AAPL_totalcostofrevenue', 'AAPL_totalgrossprofit', 'AAPL_totalpretaxincome', 'AAPL_weightedavebasicdilutedsharesos', 'AAPL_cashdividendspershare'] \n",
      " ###################################################################\n",
      "################################################################### \n",
      " Ticker:  AAPL \n",
      " Last Refreshed:  Simple Moving Average (SMA) \n",
      " Data Retrieved:  2019-09-20 \n",
      " ###################################################################\n",
      "################################################################### \n",
      " Ticker:  AAPL \n",
      " Last Refreshed:  Weighted Moving Average (WMA) \n",
      " Data Retrieved:  2019-09-20 \n",
      " ###################################################################\n",
      "################################################################### \n",
      " Ticker:  AAPL \n",
      " Last Refreshed:  Stochastic (STOCH) \n",
      " Data Retrieved:  2019-09-20 \n",
      " ###################################################################\n",
      "################################################################### \n",
      " Ticker:  AAPL \n",
      " Last Refreshed:  Rate of change : ((price/prevPrice)-1)*100 \n",
      " Data Retrieved:  2019-09-20 \n",
      " ###################################################################\n",
      "################################################################### \n",
      " Ticker:  AAPL \n",
      " Last Refreshed:  Aroon (AROON) \n",
      " Data Retrieved:  2019-09-20 \n",
      " ###################################################################\n",
      "################################################################### \n",
      " Index: Nominal Home Price Index Added \n",
      " ###################################################################\n"
     ]
    },
    {
     "name": "stderr",
     "output_type": "stream",
     "text": [
      "/home/joe/Documents/LambdaSchool/labs_ir/repos/Data-Science/data/fin_data.py:295: UserWarning: The latest value available for Housing Index is from January 2019.\n",
      "  warnings.warn(\"The latest value available for Housing Index is from January 2019.\")\n"
     ]
    },
    {
     "name": "stdout",
     "output_type": "stream",
     "text": [
      "################################################################### \n",
      " Index: Yale Investor Behavior Project Added \n",
      " ###################################################################\n",
      "################################################################### \n",
      " Trade Weighted U.S. Dollar Index: Broad Added \n",
      " ###################################################################\n",
      "################################################################### \n",
      " US Treasury Bond Long-Term Rates Added \n",
      " ###################################################################\n",
      "################################################################### \n",
      " US Treasury Bond Short-Term Rates Added \n",
      " ###################################################################\n",
      "8_Wk_DR is missing  4227\n",
      "8_Wk_DR dropped\n",
      "8_Wk_CE is missing  4227\n",
      "8_Wk_CE dropped\n",
      "52_Wk_DR is missing  1610\n",
      "52_Wk_DR dropped\n",
      "52_Wk_CE is missing  1610\n",
      "52_Wk_CE dropped\n"
     ]
    },
    {
     "name": "stderr",
     "output_type": "stream",
     "text": [
      "/home/joe/Documents/LambdaSchool/labs_ir/repos/Data-Science/data/fin_data.py:336: UserWarning: Contains Null Values\n",
      "  warnings.warn(\"Contains Null Values\")\n"
     ]
    },
    {
     "name": "stdout",
     "output_type": "stream",
     "text": [
      "nulls in target =  0\n"
     ]
    }
   ],
   "source": [
    "res, best = mm.fit_model(param_grid=p_grid)"
   ]
  },
  {
   "cell_type": "code",
   "execution_count": 11,
   "metadata": {},
   "outputs": [
    {
     "data": {
      "text/plain": [
       "[200, 100]"
      ]
     },
     "execution_count": 11,
     "metadata": {},
     "output_type": "execute_result"
    }
   ],
   "source": []
  },
  {
   "cell_type": "code",
   "execution_count": null,
   "metadata": {},
   "outputs": [],
   "source": []
  }
 ],
 "metadata": {
  "kernelspec": {
   "display_name": "Python 3",
   "language": "python",
   "name": "python3"
  },
  "language_info": {
   "codemirror_mode": {
    "name": "ipython",
    "version": 3
   },
   "file_extension": ".py",
   "mimetype": "text/x-python",
   "name": "python",
   "nbconvert_exporter": "python",
   "pygments_lexer": "ipython3",
   "version": "3.6.9"
  }
 },
 "nbformat": 4,
 "nbformat_minor": 4
}

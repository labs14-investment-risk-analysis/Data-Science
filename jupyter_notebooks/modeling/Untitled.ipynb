{
 "cells": [
  {
   "cell_type": "code",
   "execution_count": 2,
   "metadata": {},
   "outputs": [],
   "source": [
    "import sys"
   ]
  },
  {
   "cell_type": "code",
   "execution_count": 3,
   "metadata": {},
   "outputs": [],
   "source": [
    "sys.path.insert(0, '/home/joe2/Documents/LambdaSchool/labs_ir/repos/Data-Science/data')"
   ]
  },
  {
   "cell_type": "code",
   "execution_count": 4,
   "metadata": {},
   "outputs": [
    {
     "name": "stderr",
     "output_type": "stream",
     "text": [
      "Using TensorFlow backend.\n"
     ]
    }
   ],
   "source": [
    "from fin_data import DailyTimeSeries\n",
    "import numpy as np\n",
    "import matplotlib.pyplot as plt\n",
    "import seaborn as sns; sns.set()\n",
    "import scipy as sp\n",
    "from sklearn.decomposition import PCA\n",
    "from sklearn.preprocessing import MinMaxScaler\n",
    "from numpy import array\n",
    "from numpy import hstack\n",
    "from keras.models import Sequential\n",
    "from keras.layers import Dense, Dropout, Embedding, LSTM\n",
    "%matplotlib inline"
   ]
  },
  {
   "cell_type": "code",
   "execution_count": 12,
   "metadata": {},
   "outputs": [],
   "source": [
    "from keras.preprocessing.sequence import TimeseriesGenerator\n"
   ]
  },
  {
   "cell_type": "code",
   "execution_count": 5,
   "metadata": {},
   "outputs": [
    {
     "name": "stdout",
     "output_type": "stream",
     "text": [
      "################################################################### \n",
      " Ticker:  AAPL \n",
      " Last Refreshed:  2019-09-03 \n",
      " Data Retrieved:  Daily Prices (open, high, low, close) and Volumes \n",
      " ###################################################################\n"
     ]
    },
    {
     "data": {
      "text/plain": [
       "['operatingrevenue',\n",
       " 'totalrevenue',\n",
       " 'operatingcostofrevenue',\n",
       " 'totalcostofrevenue',\n",
       " 'totalgrossprofit',\n",
       " 'sgaexpense',\n",
       " 'rdexpense',\n",
       " 'totaloperatingexpenses',\n",
       " 'totaloperatingincome',\n",
       " 'otherincome',\n",
       " 'totalotherincome',\n",
       " 'totalpretaxincome',\n",
       " 'incometaxexpense',\n",
       " 'netincomecontinuing',\n",
       " 'netincome',\n",
       " 'netincometocommon',\n",
       " 'weightedavebasicsharesos',\n",
       " 'basiceps',\n",
       " 'weightedavedilutedsharesos',\n",
       " 'dilutedeps',\n",
       " 'weightedavebasicdilutedsharesos',\n",
       " 'basicdilutedeps',\n",
       " 'cashdividendspershare',\n",
       " 'date',\n",
       " 'fiscal_year',\n",
       " 'quarter']"
      ]
     },
     "execution_count": 5,
     "metadata": {},
     "output_type": "execute_result"
    }
   ],
   "source": [
    "apple = DailyTimeSeries('AAPL')\n",
    "dfaapl = apple.initiate()\n",
    "apple.list_available_fundamentals()"
   ]
  },
  {
   "cell_type": "code",
   "execution_count": 6,
   "metadata": {},
   "outputs": [],
   "source": [
    "funs = ['totalrevenue',  'totalcostofrevenue', 'totalgrossprofit', 'totalpretaxincome', 'weightedavebasicdilutedsharesos', 'cashdividendspershare', 'quarter']\n",
    "techs = ['SMA', 'WMA', 'STOCH', 'ROC', 'AROON']\n",
    "macros = ['housing_index', 'confidence_index', 'trade_index', 'longterm_rates', 'shortterm_rates']"
   ]
  },
  {
   "cell_type": "code",
   "execution_count": 7,
   "metadata": {},
   "outputs": [
    {
     "name": "stdout",
     "output_type": "stream",
     "text": [
      "################################################################### \n",
      " Ticker:  AAPL \n",
      " Fundamentals Retrieved:  ['AAPL open' 'AAPL high' 'AAPL low' 'AAPL close' 'AAPL volume'\n",
      " 'AAPL_totalrevenue' 'AAPL_totalcostofrevenue' 'AAPL_totalgrossprofit'\n",
      " 'AAPL_totalpretaxincome' 'AAPL_weightedavebasicdilutedsharesos'\n",
      " 'AAPL_cashdividendspershare' 'AAPL_quarter'] \n",
      " ###################################################################\n",
      "################################################################### \n",
      " Ticker:  AAPL \n",
      " Retrieved Data Start Date:  2009-07-22 \n",
      " Retrieved Data End Date:  2019-07-31 \n",
      " Data Retrieved:  ['AAPL_totalrevenue', 'AAPL_totalcostofrevenue', 'AAPL_totalgrossprofit', 'AAPL_totalpretaxincome', 'AAPL_weightedavebasicdilutedsharesos', 'AAPL_cashdividendspershare', 'AAPL_quarter'] \n",
      " ###################################################################\n",
      "################################################################### \n",
      " Ticker:  AAPL \n",
      " Last Refreshed:  Simple Moving Average (SMA) \n",
      " Data Retrieved:  2019-09-03 \n",
      " ###################################################################\n",
      "################################################################### \n",
      " Ticker:  AAPL \n",
      " Last Refreshed:  Weighted Moving Average (WMA) \n",
      " Data Retrieved:  2019-09-03 \n",
      " ###################################################################\n",
      "################################################################### \n",
      " Ticker:  AAPL \n",
      " Last Refreshed:  Stochastic (STOCH) \n",
      " Data Retrieved:  2019-09-03 \n",
      " ###################################################################\n",
      "################################################################### \n",
      " Ticker:  AAPL \n",
      " Last Refreshed:  Rate of change : ((price/prevPrice)-1)*100 \n",
      " Data Retrieved:  2019-09-03 \n",
      " ###################################################################\n",
      "################################################################### \n",
      " Ticker:  AAPL \n",
      " Last Refreshed:  Aroon (AROON) \n",
      " Data Retrieved:  2019-09-03 \n",
      " ###################################################################\n",
      "################################################################### \n",
      " Index: Nominal Home Price Index Added \n",
      " ###################################################################\n"
     ]
    },
    {
     "name": "stderr",
     "output_type": "stream",
     "text": [
      "/home/joe2/Documents/LambdaSchool/labs_ir/repos/Data-Science/data/fin_data.py:293: UserWarning: The latest value available for Housing Index is from January 2019.\n",
      "  warnings.warn(\"The latest value available for Housing Index is from January 2019.\")\n"
     ]
    },
    {
     "name": "stdout",
     "output_type": "stream",
     "text": [
      "################################################################### \n",
      " Index: Yale Investor Behavior Project Added \n",
      " ###################################################################\n",
      "################################################################### \n",
      " Trade Weighted U.S. Dollar Index: Broad Added \n",
      " ###################################################################\n",
      "################################################################### \n",
      " US Treasury Bond Long-Term Rates Added \n",
      " ###################################################################\n",
      "################################################################### \n",
      " US Treasury Bond Short-Term Rates Added \n",
      " ###################################################################\n"
     ]
    },
    {
     "name": "stderr",
     "output_type": "stream",
     "text": [
      "/home/joe2/Documents/LambdaSchool/labs_ir/repos/Data-Science/data/fin_data.py:334: UserWarning: Contains Null Values\n",
      "  warnings.warn(\"Contains Null Values\")\n"
     ]
    }
   ],
   "source": [
    "dfaapl = apple.add_fundamentals(dfaapl, funs)\n",
    "dfaapl = apple.add_technicals(techs, dfaapl)\n",
    "dfaapl = apple.add_macro(dfaapl, macros)"
   ]
  },
  {
   "cell_type": "code",
   "execution_count": 8,
   "metadata": {},
   "outputs": [
    {
     "data": {
      "text/html": [
       "<div>\n",
       "<style scoped>\n",
       "    .dataframe tbody tr th:only-of-type {\n",
       "        vertical-align: middle;\n",
       "    }\n",
       "\n",
       "    .dataframe tbody tr th {\n",
       "        vertical-align: top;\n",
       "    }\n",
       "\n",
       "    .dataframe thead th {\n",
       "        text-align: right;\n",
       "    }\n",
       "</style>\n",
       "<table border=\"1\" class=\"dataframe\">\n",
       "  <thead>\n",
       "    <tr style=\"text-align: right;\">\n",
       "      <th></th>\n",
       "      <th>AAPL open</th>\n",
       "      <th>AAPL high</th>\n",
       "      <th>AAPL low</th>\n",
       "      <th>AAPL close</th>\n",
       "      <th>AAPL volume</th>\n",
       "      <th>AAPL_totalrevenue</th>\n",
       "      <th>AAPL_totalcostofrevenue</th>\n",
       "      <th>AAPL_totalgrossprofit</th>\n",
       "      <th>AAPL_totalpretaxincome</th>\n",
       "      <th>AAPL_weightedavebasicdilutedsharesos</th>\n",
       "      <th>...</th>\n",
       "      <th>4_Wk_DR</th>\n",
       "      <th>4_Wk_CE</th>\n",
       "      <th>8_Wk_DR</th>\n",
       "      <th>8_Wk_CE</th>\n",
       "      <th>13_Wk_DR</th>\n",
       "      <th>13_Wk_CE</th>\n",
       "      <th>26_Wk_DR</th>\n",
       "      <th>26_Wk_CE</th>\n",
       "      <th>52_Wk_DR</th>\n",
       "      <th>52_Wk_CE</th>\n",
       "    </tr>\n",
       "    <tr>\n",
       "      <th>date</th>\n",
       "      <th></th>\n",
       "      <th></th>\n",
       "      <th></th>\n",
       "      <th></th>\n",
       "      <th></th>\n",
       "      <th></th>\n",
       "      <th></th>\n",
       "      <th></th>\n",
       "      <th></th>\n",
       "      <th></th>\n",
       "      <th></th>\n",
       "      <th></th>\n",
       "      <th></th>\n",
       "      <th></th>\n",
       "      <th></th>\n",
       "      <th></th>\n",
       "      <th></th>\n",
       "      <th></th>\n",
       "      <th></th>\n",
       "      <th></th>\n",
       "      <th></th>\n",
       "    </tr>\n",
       "  </thead>\n",
       "  <tbody>\n",
       "    <tr>\n",
       "      <td>2019-01-31</td>\n",
       "      <td>166.11</td>\n",
       "      <td>169.00</td>\n",
       "      <td>164.56</td>\n",
       "      <td>166.44</td>\n",
       "      <td>40739600.0</td>\n",
       "      <td>8.829300e+10</td>\n",
       "      <td>5.438100e+10</td>\n",
       "      <td>3.391200e+10</td>\n",
       "      <td>2.703000e+10</td>\n",
       "      <td>5.118600e+09</td>\n",
       "      <td>...</td>\n",
       "      <td>2.38</td>\n",
       "      <td>2.42</td>\n",
       "      <td>2.39</td>\n",
       "      <td>2.43</td>\n",
       "      <td>2.36</td>\n",
       "      <td>2.41</td>\n",
       "      <td>2.40</td>\n",
       "      <td>2.46</td>\n",
       "      <td>2.47</td>\n",
       "      <td>2.55</td>\n",
       "    </tr>\n",
       "    <tr>\n",
       "      <td>2019-01-30</td>\n",
       "      <td>163.25</td>\n",
       "      <td>166.15</td>\n",
       "      <td>160.23</td>\n",
       "      <td>165.25</td>\n",
       "      <td>61109800.0</td>\n",
       "      <td>8.829300e+10</td>\n",
       "      <td>5.438100e+10</td>\n",
       "      <td>3.391200e+10</td>\n",
       "      <td>2.703000e+10</td>\n",
       "      <td>5.118600e+09</td>\n",
       "      <td>...</td>\n",
       "      <td>2.36</td>\n",
       "      <td>2.40</td>\n",
       "      <td>2.35</td>\n",
       "      <td>2.39</td>\n",
       "      <td>2.37</td>\n",
       "      <td>2.42</td>\n",
       "      <td>2.44</td>\n",
       "      <td>2.50</td>\n",
       "      <td>2.49</td>\n",
       "      <td>2.57</td>\n",
       "    </tr>\n",
       "    <tr>\n",
       "      <td>2019-01-29</td>\n",
       "      <td>156.25</td>\n",
       "      <td>158.13</td>\n",
       "      <td>154.11</td>\n",
       "      <td>154.68</td>\n",
       "      <td>41587200.0</td>\n",
       "      <td>4.540800e+10</td>\n",
       "      <td>2.792000e+10</td>\n",
       "      <td>1.748800e+10</td>\n",
       "      <td>1.130800e+10</td>\n",
       "      <td>5.188700e+09</td>\n",
       "      <td>...</td>\n",
       "      <td>2.35</td>\n",
       "      <td>2.39</td>\n",
       "      <td>2.37</td>\n",
       "      <td>2.41</td>\n",
       "      <td>2.37</td>\n",
       "      <td>2.42</td>\n",
       "      <td>2.45</td>\n",
       "      <td>2.52</td>\n",
       "      <td>2.52</td>\n",
       "      <td>2.60</td>\n",
       "    </tr>\n",
       "    <tr>\n",
       "      <td>2019-01-28</td>\n",
       "      <td>155.79</td>\n",
       "      <td>156.33</td>\n",
       "      <td>153.66</td>\n",
       "      <td>156.30</td>\n",
       "      <td>26192100.0</td>\n",
       "      <td>4.540800e+10</td>\n",
       "      <td>2.792000e+10</td>\n",
       "      <td>1.748800e+10</td>\n",
       "      <td>1.130800e+10</td>\n",
       "      <td>5.188700e+09</td>\n",
       "      <td>...</td>\n",
       "      <td>2.35</td>\n",
       "      <td>2.39</td>\n",
       "      <td>2.37</td>\n",
       "      <td>2.41</td>\n",
       "      <td>2.37</td>\n",
       "      <td>2.42</td>\n",
       "      <td>2.45</td>\n",
       "      <td>2.52</td>\n",
       "      <td>2.52</td>\n",
       "      <td>2.60</td>\n",
       "    </tr>\n",
       "    <tr>\n",
       "      <td>2019-01-25</td>\n",
       "      <td>155.48</td>\n",
       "      <td>158.13</td>\n",
       "      <td>154.32</td>\n",
       "      <td>157.76</td>\n",
       "      <td>33535500.0</td>\n",
       "      <td>4.540800e+10</td>\n",
       "      <td>2.792000e+10</td>\n",
       "      <td>1.748800e+10</td>\n",
       "      <td>1.130800e+10</td>\n",
       "      <td>5.188700e+09</td>\n",
       "      <td>...</td>\n",
       "      <td>2.32</td>\n",
       "      <td>2.36</td>\n",
       "      <td>2.37</td>\n",
       "      <td>2.41</td>\n",
       "      <td>2.34</td>\n",
       "      <td>2.39</td>\n",
       "      <td>2.45</td>\n",
       "      <td>2.51</td>\n",
       "      <td>2.52</td>\n",
       "      <td>2.60</td>\n",
       "    </tr>\n",
       "  </tbody>\n",
       "</table>\n",
       "<p>5 rows × 35 columns</p>\n",
       "</div>"
      ],
      "text/plain": [
       "            AAPL open  AAPL high  AAPL low  AAPL close  AAPL volume  \\\n",
       "date                                                                  \n",
       "2019-01-31     166.11     169.00    164.56      166.44   40739600.0   \n",
       "2019-01-30     163.25     166.15    160.23      165.25   61109800.0   \n",
       "2019-01-29     156.25     158.13    154.11      154.68   41587200.0   \n",
       "2019-01-28     155.79     156.33    153.66      156.30   26192100.0   \n",
       "2019-01-25     155.48     158.13    154.32      157.76   33535500.0   \n",
       "\n",
       "            AAPL_totalrevenue  AAPL_totalcostofrevenue  AAPL_totalgrossprofit  \\\n",
       "date                                                                            \n",
       "2019-01-31       8.829300e+10             5.438100e+10           3.391200e+10   \n",
       "2019-01-30       8.829300e+10             5.438100e+10           3.391200e+10   \n",
       "2019-01-29       4.540800e+10             2.792000e+10           1.748800e+10   \n",
       "2019-01-28       4.540800e+10             2.792000e+10           1.748800e+10   \n",
       "2019-01-25       4.540800e+10             2.792000e+10           1.748800e+10   \n",
       "\n",
       "            AAPL_totalpretaxincome  AAPL_weightedavebasicdilutedsharesos  ...  \\\n",
       "date                                                                      ...   \n",
       "2019-01-31            2.703000e+10                          5.118600e+09  ...   \n",
       "2019-01-30            2.703000e+10                          5.118600e+09  ...   \n",
       "2019-01-29            1.130800e+10                          5.188700e+09  ...   \n",
       "2019-01-28            1.130800e+10                          5.188700e+09  ...   \n",
       "2019-01-25            1.130800e+10                          5.188700e+09  ...   \n",
       "\n",
       "            4_Wk_DR 4_Wk_CE  8_Wk_DR  8_Wk_CE  13_Wk_DR  13_Wk_CE  26_Wk_DR  \\\n",
       "date                                                                          \n",
       "2019-01-31     2.38    2.42     2.39     2.43      2.36      2.41      2.40   \n",
       "2019-01-30     2.36    2.40     2.35     2.39      2.37      2.42      2.44   \n",
       "2019-01-29     2.35    2.39     2.37     2.41      2.37      2.42      2.45   \n",
       "2019-01-28     2.35    2.39     2.37     2.41      2.37      2.42      2.45   \n",
       "2019-01-25     2.32    2.36     2.37     2.41      2.34      2.39      2.45   \n",
       "\n",
       "            26_Wk_CE  52_Wk_DR  52_Wk_CE  \n",
       "date                                      \n",
       "2019-01-31      2.46      2.47      2.55  \n",
       "2019-01-30      2.50      2.49      2.57  \n",
       "2019-01-29      2.52      2.52      2.60  \n",
       "2019-01-28      2.52      2.52      2.60  \n",
       "2019-01-25      2.51      2.52      2.60  \n",
       "\n",
       "[5 rows x 35 columns]"
      ]
     },
     "execution_count": 8,
     "metadata": {},
     "output_type": "execute_result"
    }
   ],
   "source": [
    "dfaapl.head()"
   ]
  },
  {
   "cell_type": "code",
   "execution_count": 9,
   "metadata": {},
   "outputs": [
    {
     "data": {
      "text/plain": [
       "AAPL open                                  0\n",
       "AAPL high                                  0\n",
       "AAPL low                                   0\n",
       "AAPL close                                 0\n",
       "AAPL volume                                0\n",
       "AAPL_totalrevenue                       1901\n",
       "AAPL_totalcostofrevenue                 1901\n",
       "AAPL_totalgrossprofit                   1901\n",
       "AAPL_totalpretaxincome                  1901\n",
       "AAPL_weightedavebasicdilutedsharesos    1901\n",
       "AAPL_cashdividendspershare              1901\n",
       "AAPL_quarter                            1901\n",
       "AAPL_SMA                                   0\n",
       "AAPL_WMA                                   0\n",
       "AAPL_SlowD                                 0\n",
       "AAPL_SlowK                                 0\n",
       "AAPL_ROC                                   0\n",
       "AAPL_Aroon Up                              0\n",
       "AAPL_Aroon Down                            0\n",
       "housing_index                              0\n",
       "conf_index                                 0\n",
       "conf_index_SE                              0\n",
       "trade_value                                0\n",
       "10 Yrs Rates                               0\n",
       "20-Yr Maturity Rate                        0\n",
       "4_Wk_DR                                    1\n",
       "4_Wk_CE                                    1\n",
       "8_Wk_DR                                 4227\n",
       "8_Wk_CE                                 4227\n",
       "13_Wk_DR                                   0\n",
       "13_Wk_CE                                   0\n",
       "26_Wk_DR                                   0\n",
       "26_Wk_CE                                   0\n",
       "52_Wk_DR                                1610\n",
       "52_Wk_CE                                1610\n",
       "dtype: int64"
      ]
     },
     "execution_count": 9,
     "metadata": {},
     "output_type": "execute_result"
    }
   ],
   "source": [
    "dfaapl.isnull().sum()"
   ]
  },
  {
   "cell_type": "code",
   "execution_count": 10,
   "metadata": {},
   "outputs": [],
   "source": [
    "dfaapl = dfaapl.drop(labels=['8_Wk_DR', '8_Wk_CE'], axis=1)"
   ]
  },
  {
   "cell_type": "code",
   "execution_count": 11,
   "metadata": {},
   "outputs": [],
   "source": [
    "dfaapl = dfaapl.dropna(axis=0)"
   ]
  },
  {
   "cell_type": "code",
   "execution_count": null,
   "metadata": {},
   "outputs": [],
   "source": [
    "scaler = MinMaxScaler(feature_range=(0, 1))\n",
    "generator = TimeseriesGenerator()"
   ]
  }
 ],
 "metadata": {
  "kernelspec": {
   "display_name": "Python 3",
   "language": "python",
   "name": "python3"
  },
  "language_info": {
   "codemirror_mode": {
    "name": "ipython",
    "version": 3
   },
   "file_extension": ".py",
   "mimetype": "text/x-python",
   "name": "python",
   "nbconvert_exporter": "python",
   "pygments_lexer": "ipython3",
   "version": "3.6.9"
  }
 },
 "nbformat": 4,
 "nbformat_minor": 4
}

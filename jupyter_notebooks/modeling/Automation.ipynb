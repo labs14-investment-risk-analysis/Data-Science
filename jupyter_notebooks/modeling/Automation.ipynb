{
 "cells": [
  {
   "cell_type": "code",
   "execution_count": 1,
   "metadata": {},
   "outputs": [],
   "source": [
    "import sys"
   ]
  },
  {
   "cell_type": "code",
   "execution_count": 2,
   "metadata": {},
   "outputs": [],
   "source": [
    "sys.path.insert(0, '/home/joe/Documents/LambdaSchool/labs_ir/repos/Data-Science/data')"
   ]
  },
  {
   "cell_type": "code",
   "execution_count": 3,
   "metadata": {},
   "outputs": [
    {
     "data": {
      "text/plain": [
       "['/home/joe/Documents/LambdaSchool/labs_ir/repos/Data-Science/data',\n",
       " '',\n",
       " '/home/joe/PythonRoot/anaconda3/envs/riskylobster/lib/python36.zip',\n",
       " '/home/joe/PythonRoot/anaconda3/envs/riskylobster/lib/python3.6',\n",
       " '/home/joe/PythonRoot/anaconda3/envs/riskylobster/lib/python3.6/lib-dynload',\n",
       " '/home/joe/PythonRoot/anaconda3/envs/riskylobster/lib/python3.6/site-packages',\n",
       " '/home/joe/PythonRoot/anaconda3/envs/riskylobster/lib/python3.6/site-packages/IPython/extensions',\n",
       " '/home/joe/.ipython']"
      ]
     },
     "execution_count": 3,
     "metadata": {},
     "output_type": "execute_result"
    }
   ],
   "source": [
    "sys.path"
   ]
  },
  {
   "cell_type": "code",
   "execution_count": 4,
   "metadata": {},
   "outputs": [],
   "source": [
    "sys.path.remove('')"
   ]
  },
  {
   "cell_type": "code",
   "execution_count": 5,
   "metadata": {},
   "outputs": [],
   "source": [
    "import csv\n",
    "from time import sleep"
   ]
  },
  {
   "cell_type": "code",
   "execution_count": 6,
   "metadata": {},
   "outputs": [
    {
     "name": "stderr",
     "output_type": "stream",
     "text": [
      "Using TensorFlow backend.\n"
     ]
    }
   ],
   "source": [
    "from fin_data import DailyTimeSeries\n",
    "from fracdiff import FractionalDifferentiation as fd\n",
    "\n",
    "import numpy as np\n",
    "import pandas as pd\n",
    "import os, sys\n",
    "import matplotlib.pyplot as plt\n",
    "\n",
    "from sklearn.preprocessing import MinMaxScaler\n",
    "\n",
    "from keras.models import Sequential\n",
    "from keras.layers import LSTM\n",
    "from keras.layers import Dense\n",
    "from keras.layers import RepeatVector\n",
    "from keras.layers import TimeDistributed\n",
    "\n",
    "from sklearn.model_selection import train_test_split\n",
    "from sklearn.metrics import r2_score\n",
    "\n",
    "from keras.preprocessing.sequence import TimeseriesGenerator\n",
    "from keras.callbacks import ModelCheckpoint \n",
    "\n",
    "    \n",
    "class HiddenPrints:\n",
    "    def __enter__(self):\n",
    "        self._original_stdout = sys.stdout\n",
    "        sys.stdout = open(os.devnull, 'w')\n",
    "\n",
    "    def __exit__(self, exc_type, exc_val, exc_tb):\n",
    "        sys.stdout.close()\n",
    "        sys.stdout = self._original_stdout\n",
    "\n",
    "\n",
    "pd.options.display.max_rows = 999\n",
    "pd.options.display.max_columns = 999\n",
    "\n",
    "import warnings\n",
    "warnings.simplefilter(action='ignore', category=FutureWarning)\n",
    "%matplotlib inline"
   ]
  },
  {
   "cell_type": "code",
   "execution_count": 23,
   "metadata": {},
   "outputs": [],
   "source": [
    "def generate_df_fracdiff_target(symbol, return_type='generator', shift=1):\n",
    "    # Ininialize class\n",
    "    dts = DailyTimeSeries(symbol)\n",
    "    df = dts.initiate()\n",
    "    funs = ['totalrevenue',  'totalcostofrevenue', 'totalgrossprofit', 'totalpretaxincome', 'weightedavebasicdilutedsharesos', 'cashdividendspershare']\n",
    "    techs = ['SMA', 'WMA', 'STOCH', 'ROC', 'AROON']\n",
    "    macros = ['housing_index', 'confidence_index', 'trade_index', 'longterm_rates', 'shortterm_rates']\n",
    "    df = dts.add_fundamentals(df, funs)\n",
    "    sleep(5)\n",
    "    df = dts.add_technicals(techs, df)\n",
    "    sleep(15)\n",
    "    df = dts.add_macro(df, macros)\n",
    "    todrop = []\n",
    "    for col in df.columns:\n",
    "        if df[col].isnull().sum()/len(df) >  .25:\n",
    "            print('{} is missing '.format(col), df[col].isnull().sum())\n",
    "            print('{} dropped'.format(col))\n",
    "            todrop.append(col)\n",
    "\n",
    "    df = df.drop(labels=todrop, axis=1)\n",
    "    df = df.dropna(axis=0)\n",
    "    \n",
    "    if str(symbol + '_adjusted_close') in df.columns:\n",
    "        df['target'] = fd.frac_diff_ffd(df[[str(symbol + '_adjusted_close')]], .35).shift(-1)[str(symbol + '_adjusted_close')]\n",
    "    else:\n",
    "        df['target'] = fd.frac_diff_ffd(df[[str(symbol + '_close')]], .35).shift(-1)[str(symbol + '_close')]\n",
    "\n",
    "    df = df.fillna(value=0)\n",
    "    X = df.drop(columns='target')\n",
    "    y = df[['target']].values\n",
    "\n",
    "    X_train, X_test, y_train, y_test = train_test_split(X, y, \n",
    "                                                    train_size=.8, \n",
    "                                                    shuffle=False)\n",
    "\n",
    "    scaler = MinMaxScaler()\n",
    "    scaler.fit(X_train)\n",
    "\n",
    "\n",
    "    X_train = scaler.transform(X_train)\n",
    "    X_test = scaler.transform(X_test)\n",
    "    if return_type == 'generator':\n",
    "        train_data_generator = TimeseriesGenerator(X_train, y_train, \n",
    "                                           length=30,\n",
    "                                           sampling_rate=1, \n",
    "                                           stride=1, \n",
    "                                           batch_size=30)\n",
    "\n",
    "        test_data_generator = TimeseriesGenerator(X_test, y_test, \n",
    "                                                  length=30, \n",
    "                                                  sampling_rate=1,\n",
    "                                                  stride=1,\n",
    "                                                  batch_size=30)\n",
    "        \n",
    "        return(train_data_generator, test_data_generator)\n",
    "    \n",
    "    elif return_type == 'Xy_trte':\n",
    "        return(X_train, X_test, y_train, y_test)\n",
    "    \n",
    "    elif return_type == 'df':\n",
    "        return(df)\n",
    "    else:\n",
    "        return(df)\n"
   ]
  },
  {
   "cell_type": "code",
   "execution_count": 8,
   "metadata": {},
   "outputs": [],
   "source": [
    "csv500 = open('constituents_csv.csv','r')\n",
    "sp500 = []\n",
    "\n",
    "next(csv500)\n",
    "\n",
    "for sym in csv.reader(csv500, delimiter=','):\n",
    "    sp500.append(sym[0])"
   ]
  },
  {
   "cell_type": "code",
   "execution_count": null,
   "metadata": {},
   "outputs": [],
   "source": [
    "data_dict = {}"
   ]
  },
  {
   "cell_type": "code",
   "execution_count": 25,
   "metadata": {},
   "outputs": [
    {
     "data": {
      "text/plain": [
       "['AMG', 'AFL']"
      ]
     },
     "execution_count": 25,
     "metadata": {},
     "output_type": "execute_result"
    }
   ],
   "source": [
    "sp500[12:14]"
   ]
  },
  {
   "cell_type": "code",
   "execution_count": 26,
   "metadata": {},
   "outputs": [
    {
     "name": "stdout",
     "output_type": "stream",
     "text": [
      "################################################################### \n",
      " Ticker:  AMG \n",
      " Last Refreshed:  2019-09-19 \n",
      " Data Retrieved:  Daily Time Series with Splits and Dividend Events \n",
      " ###################################################################\n",
      "################################################################### \n",
      " Ticker:  AMG \n",
      " Fundamentals Retrieved:  ['AMG_open' 'AMG_high' 'AMG_low' 'AMG_close' 'AMG_adjusted_close'\n",
      " 'AMG_volume' 'AMG_dividend_amount' 'AMG_totalrevenue'\n",
      " 'AMG_totalcostofrevenue' 'AMG_totalgrossprofit' 'AMG_totalpretaxincome'\n",
      " 'AMG_weightedavebasicdilutedsharesos' 'AMG_cashdividendspershare'] \n",
      " ###################################################################\n",
      "################################################################### \n",
      " Ticker:  AMG \n",
      " Retrieved Data Start Date:  2010-08-09 \n",
      " Retrieved Data End Date:  2019-08-09 \n",
      " Data Retrieved:  ['AMG_totalrevenue', 'AMG_totalcostofrevenue', 'AMG_totalgrossprofit', 'AMG_totalpretaxincome', 'AMG_weightedavebasicdilutedsharesos', 'AMG_cashdividendspershare'] \n",
      " ###################################################################\n",
      "################################################################### \n",
      " Ticker:  AMG \n",
      " Last Refreshed:  Simple Moving Average (SMA) \n",
      " Data Retrieved:  2019-09-19 \n",
      " ###################################################################\n",
      "################################################################### \n",
      " Ticker:  AMG \n",
      " Last Refreshed:  Weighted Moving Average (WMA) \n",
      " Data Retrieved:  2019-09-19 \n",
      " ###################################################################\n",
      "################################################################### \n",
      " Ticker:  AMG \n",
      " Last Refreshed:  Stochastic (STOCH) \n",
      " Data Retrieved:  2019-09-19 \n",
      " ###################################################################\n",
      "################################################################### \n",
      " Ticker:  AMG \n",
      " Last Refreshed:  Rate of change : ((price/prevPrice)-1)*100 \n",
      " Data Retrieved:  2019-09-19 \n",
      " ###################################################################\n",
      "################################################################### \n",
      " Ticker:  AMG \n",
      " Last Refreshed:  Aroon (AROON) \n",
      " Data Retrieved:  2019-09-19 \n",
      " ###################################################################\n",
      "################################################################### \n",
      " Index: Nominal Home Price Index Added \n",
      " ###################################################################\n"
     ]
    },
    {
     "name": "stderr",
     "output_type": "stream",
     "text": [
      "/home/joe/Documents/LambdaSchool/labs_ir/repos/Data-Science/data/fin_data.py:295: UserWarning: The latest value available for Housing Index is from January 2019.\n",
      "  warnings.warn(\"The latest value available for Housing Index is from January 2019.\")\n"
     ]
    },
    {
     "name": "stdout",
     "output_type": "stream",
     "text": [
      "################################################################### \n",
      " Index: Yale Investor Behavior Project Added \n",
      " ###################################################################\n",
      "################################################################### \n",
      " Trade Weighted U.S. Dollar Index: Broad Added \n",
      " ###################################################################\n",
      "################################################################### \n",
      " US Treasury Bond Long-Term Rates Added \n",
      " ###################################################################\n",
      "################################################################### \n",
      " US Treasury Bond Short-Term Rates Added \n",
      " ###################################################################\n",
      "8_Wk_DR is missing  4227\n",
      "8_Wk_DR dropped\n",
      "8_Wk_CE is missing  4227\n",
      "8_Wk_CE dropped\n",
      "52_Wk_DR is missing  1610\n",
      "52_Wk_DR dropped\n",
      "52_Wk_CE is missing  1610\n",
      "52_Wk_CE dropped\n"
     ]
    },
    {
     "name": "stderr",
     "output_type": "stream",
     "text": [
      "/home/joe/Documents/LambdaSchool/labs_ir/repos/Data-Science/data/fin_data.py:336: UserWarning: Contains Null Values\n",
      "  warnings.warn(\"Contains Null Values\")\n"
     ]
    },
    {
     "name": "stdout",
     "output_type": "stream",
     "text": [
      "################################################################### \n",
      " Ticker:  AFL \n",
      " Last Refreshed:  2019-09-19 \n",
      " Data Retrieved:  Daily Time Series with Splits and Dividend Events \n",
      " ###################################################################\n",
      "################################################################### \n",
      " Ticker:  AFL \n",
      " Fundamentals Retrieved:  ['AFL_open' 'AFL_high' 'AFL_low' 'AFL_close' 'AFL_adjusted_close'\n",
      " 'AFL_volume' 'AFL_dividend_amount' 'AFL_totalrevenue'\n",
      " 'AFL_totalcostofrevenue' 'AFL_totalgrossprofit' 'AFL_totalpretaxincome'\n",
      " 'AFL_weightedavebasicdilutedsharesos' 'AFL_cashdividendspershare'] \n",
      " ###################################################################\n",
      "################################################################### \n",
      " Ticker:  AFL \n",
      " Retrieved Data Start Date:  2009-08-07 \n",
      " Retrieved Data End Date:  2019-07-26 \n",
      " Data Retrieved:  ['AFL_totalrevenue', 'AFL_totalcostofrevenue', 'AFL_totalgrossprofit', 'AFL_totalpretaxincome', 'AFL_weightedavebasicdilutedsharesos', 'AFL_cashdividendspershare'] \n",
      " ###################################################################\n",
      "################################################################### \n",
      " Ticker:  AFL \n",
      " Last Refreshed:  Simple Moving Average (SMA) \n",
      " Data Retrieved:  2019-09-19 \n",
      " ###################################################################\n",
      "################################################################### \n",
      " Ticker:  AFL \n",
      " Last Refreshed:  Weighted Moving Average (WMA) \n",
      " Data Retrieved:  2019-09-19 \n",
      " ###################################################################\n",
      "################################################################### \n",
      " Ticker:  AFL \n",
      " Last Refreshed:  Stochastic (STOCH) \n",
      " Data Retrieved:  2019-09-19 \n",
      " ###################################################################\n",
      "################################################################### \n",
      " Ticker:  AFL \n",
      " Last Refreshed:  Rate of change : ((price/prevPrice)-1)*100 \n",
      " Data Retrieved:  2019-09-19 \n",
      " ###################################################################\n",
      "################################################################### \n",
      " Ticker:  AFL \n",
      " Last Refreshed:  Aroon (AROON) \n",
      " Data Retrieved:  2019-09-19 \n",
      " ###################################################################\n",
      "################################################################### \n",
      " Index: Nominal Home Price Index Added \n",
      " ###################################################################\n"
     ]
    },
    {
     "name": "stderr",
     "output_type": "stream",
     "text": [
      "/home/joe/Documents/LambdaSchool/labs_ir/repos/Data-Science/data/fin_data.py:295: UserWarning: The latest value available for Housing Index is from January 2019.\n",
      "  warnings.warn(\"The latest value available for Housing Index is from January 2019.\")\n"
     ]
    },
    {
     "name": "stdout",
     "output_type": "stream",
     "text": [
      "################################################################### \n",
      " Index: Yale Investor Behavior Project Added \n",
      " ###################################################################\n",
      "################################################################### \n",
      " Trade Weighted U.S. Dollar Index: Broad Added \n",
      " ###################################################################\n",
      "################################################################### \n",
      " US Treasury Bond Long-Term Rates Added \n",
      " ###################################################################\n",
      "################################################################### \n",
      " US Treasury Bond Short-Term Rates Added \n",
      " ###################################################################\n",
      "8_Wk_DR is missing  4227\n",
      "8_Wk_DR dropped\n",
      "8_Wk_CE is missing  4227\n",
      "8_Wk_CE dropped\n",
      "52_Wk_DR is missing  1610\n",
      "52_Wk_DR dropped\n",
      "52_Wk_CE is missing  1610\n",
      "52_Wk_CE dropped\n"
     ]
    },
    {
     "name": "stderr",
     "output_type": "stream",
     "text": [
      "/home/joe/Documents/LambdaSchool/labs_ir/repos/Data-Science/data/fin_data.py:336: UserWarning: Contains Null Values\n",
      "  warnings.warn(\"Contains Null Values\")\n"
     ]
    },
    {
     "name": "stdout",
     "output_type": "stream",
     "text": [
      "################################################################### \n",
      " Ticker:  A \n",
      " Last Refreshed:  2019-09-19 \n",
      " Data Retrieved:  Daily Time Series with Splits and Dividend Events \n",
      " ###################################################################\n",
      "################################################################### \n",
      " Ticker:  A \n",
      " Fundamentals Retrieved:  ['A_open' 'A_high' 'A_low' 'A_close' 'A_adjusted_close' 'A_volume'\n",
      " 'A_dividend_amount' 'A_totalrevenue' 'A_totalcostofrevenue'\n",
      " 'A_totalgrossprofit' 'A_totalpretaxincome'\n",
      " 'A_weightedavebasicdilutedsharesos' 'A_cashdividendspershare'] \n",
      " ###################################################################\n",
      "################################################################### \n",
      " Ticker:  A \n",
      " Retrieved Data Start Date:  2009-10-05 \n",
      " Retrieved Data End Date:  2019-08-30 \n",
      " Data Retrieved:  ['A_totalrevenue', 'A_totalcostofrevenue', 'A_totalgrossprofit', 'A_totalpretaxincome', 'A_weightedavebasicdilutedsharesos', 'A_cashdividendspershare'] \n",
      " ###################################################################\n",
      "################################################################### \n",
      " Ticker:  A \n",
      " Last Refreshed:  Simple Moving Average (SMA) \n",
      " Data Retrieved:  2019-09-19 \n",
      " ###################################################################\n",
      "################################################################### \n",
      " Ticker:  A \n",
      " Last Refreshed:  Weighted Moving Average (WMA) \n",
      " Data Retrieved:  2019-09-19 \n",
      " ###################################################################\n",
      "################################################################### \n",
      " Ticker:  A \n",
      " Last Refreshed:  Stochastic (STOCH) \n",
      " Data Retrieved:  2019-09-19 \n",
      " ###################################################################\n",
      "################################################################### \n",
      " Ticker:  A \n",
      " Last Refreshed:  Rate of change : ((price/prevPrice)-1)*100 \n",
      " Data Retrieved:  2019-09-19 \n",
      " ###################################################################\n",
      "################################################################### \n",
      " Ticker:  A \n",
      " Last Refreshed:  Aroon (AROON) \n",
      " Data Retrieved:  2019-09-19 \n",
      " ###################################################################\n",
      "################################################################### \n",
      " Index: Nominal Home Price Index Added \n",
      " ###################################################################\n"
     ]
    },
    {
     "name": "stderr",
     "output_type": "stream",
     "text": [
      "/home/joe/Documents/LambdaSchool/labs_ir/repos/Data-Science/data/fin_data.py:295: UserWarning: The latest value available for Housing Index is from January 2019.\n",
      "  warnings.warn(\"The latest value available for Housing Index is from January 2019.\")\n"
     ]
    },
    {
     "name": "stdout",
     "output_type": "stream",
     "text": [
      "################################################################### \n",
      " Index: Yale Investor Behavior Project Added \n",
      " ###################################################################\n",
      "################################################################### \n",
      " Trade Weighted U.S. Dollar Index: Broad Added \n",
      " ###################################################################\n",
      "################################################################### \n",
      " US Treasury Bond Long-Term Rates Added \n",
      " ###################################################################\n",
      "################################################################### \n",
      " US Treasury Bond Short-Term Rates Added \n",
      " ###################################################################\n",
      "8_Wk_DR is missing  4227\n",
      "8_Wk_DR dropped\n",
      "8_Wk_CE is missing  4227\n",
      "8_Wk_CE dropped\n",
      "52_Wk_DR is missing  1610\n",
      "52_Wk_DR dropped\n",
      "52_Wk_CE is missing  1610\n",
      "52_Wk_CE dropped\n"
     ]
    },
    {
     "name": "stderr",
     "output_type": "stream",
     "text": [
      "/home/joe/Documents/LambdaSchool/labs_ir/repos/Data-Science/data/fin_data.py:336: UserWarning: Contains Null Values\n",
      "  warnings.warn(\"Contains Null Values\")\n"
     ]
    },
    {
     "name": "stdout",
     "output_type": "stream",
     "text": [
      "################################################################### \n",
      " Ticker:  APD \n",
      " Last Refreshed:  2019-09-19 \n",
      " Data Retrieved:  Daily Time Series with Splits and Dividend Events \n",
      " ###################################################################\n",
      "################################################################### \n",
      " Ticker:  APD \n",
      " Fundamentals Retrieved:  ['APD_open' 'APD_high' 'APD_low' 'APD_close' 'APD_adjusted_close'\n",
      " 'APD_volume' 'APD_dividend_amount' 'APD_totalrevenue'\n",
      " 'APD_totalcostofrevenue' 'APD_totalgrossprofit' 'APD_totalpretaxincome'\n",
      " 'APD_weightedavebasicdilutedsharesos' 'APD_cashdividendspershare'] \n",
      " ###################################################################\n",
      "################################################################### \n",
      " Ticker:  APD \n",
      " Retrieved Data Start Date:  2009-07-24 \n",
      " Retrieved Data End Date:  2019-07-25 \n",
      " Data Retrieved:  ['APD_totalrevenue', 'APD_totalcostofrevenue', 'APD_totalgrossprofit', 'APD_totalpretaxincome', 'APD_weightedavebasicdilutedsharesos', 'APD_cashdividendspershare'] \n",
      " ###################################################################\n",
      "################################################################### \n",
      " Ticker:  APD \n",
      " Last Refreshed:  Simple Moving Average (SMA) \n",
      " Data Retrieved:  2019-09-19 \n",
      " ###################################################################\n",
      "################################################################### \n",
      " Ticker:  APD \n",
      " Last Refreshed:  Weighted Moving Average (WMA) \n",
      " Data Retrieved:  2019-09-19 \n",
      " ###################################################################\n",
      "################################################################### \n",
      " Ticker:  APD \n",
      " Last Refreshed:  Stochastic (STOCH) \n",
      " Data Retrieved:  2019-09-19 \n",
      " ###################################################################\n",
      "################################################################### \n",
      " Ticker:  APD \n",
      " Last Refreshed:  Rate of change : ((price/prevPrice)-1)*100 \n",
      " Data Retrieved:  2019-09-19 \n",
      " ###################################################################\n",
      "################################################################### \n",
      " Ticker:  APD \n",
      " Last Refreshed:  Aroon (AROON) \n",
      " Data Retrieved:  2019-09-19 \n",
      " ###################################################################\n",
      "################################################################### \n",
      " Index: Nominal Home Price Index Added \n",
      " ###################################################################\n"
     ]
    },
    {
     "name": "stderr",
     "output_type": "stream",
     "text": [
      "/home/joe/Documents/LambdaSchool/labs_ir/repos/Data-Science/data/fin_data.py:295: UserWarning: The latest value available for Housing Index is from January 2019.\n",
      "  warnings.warn(\"The latest value available for Housing Index is from January 2019.\")\n"
     ]
    },
    {
     "name": "stdout",
     "output_type": "stream",
     "text": [
      "################################################################### \n",
      " Index: Yale Investor Behavior Project Added \n",
      " ###################################################################\n",
      "################################################################### \n",
      " Trade Weighted U.S. Dollar Index: Broad Added \n",
      " ###################################################################\n",
      "################################################################### \n",
      " US Treasury Bond Long-Term Rates Added \n",
      " ###################################################################\n",
      "################################################################### \n",
      " US Treasury Bond Short-Term Rates Added \n",
      " ###################################################################\n",
      "8_Wk_DR is missing  4227\n",
      "8_Wk_DR dropped\n",
      "8_Wk_CE is missing  4227\n",
      "8_Wk_CE dropped\n",
      "52_Wk_DR is missing  1610\n",
      "52_Wk_DR dropped\n",
      "52_Wk_CE is missing  1610\n",
      "52_Wk_CE dropped\n"
     ]
    },
    {
     "name": "stderr",
     "output_type": "stream",
     "text": [
      "/home/joe/Documents/LambdaSchool/labs_ir/repos/Data-Science/data/fin_data.py:336: UserWarning: Contains Null Values\n",
      "  warnings.warn(\"Contains Null Values\")\n"
     ]
    }
   ],
   "source": [
    "# Note: attempting to get data from alpha-vantage for 'AES' causes api error\n",
    "# Todo: wrap in try except in case of similar errors.\n",
    "for sym in sp500[12:16]:\n",
    "    if sym not in data_dict.keys():\n",
    "        X_train, X_test, y_train, y_test = generate_df_fracdiff_target(sym, return_type='Xy_trte', shift=1)\n",
    "        data_dict[sym] = [X_train, X_test, y_train, y_test]\n",
    "        sleep(30)\n",
    "    else:\n",
    "        print('Already have data for ', sym)"
   ]
  },
  {
   "cell_type": "code",
   "execution_count": 20,
   "metadata": {},
   "outputs": [
    {
     "data": {
      "text/plain": [
       "dict_keys(['MMM', 'AOS'])"
      ]
     },
     "execution_count": 20,
     "metadata": {},
     "output_type": "execute_result"
    }
   ],
   "source": [
    "data_dict.keys()"
   ]
  },
  {
   "cell_type": "code",
   "execution_count": 27,
   "metadata": {},
   "outputs": [
    {
     "name": "stdout",
     "output_type": "stream",
     "text": [
      "(3439, 32)\n",
      "(860, 32)\n",
      "(3439, 1)\n",
      "(860, 1)\n",
      "(3439, 32)\n",
      "(860, 32)\n",
      "(3439, 1)\n",
      "(860, 1)\n",
      "(3439, 32)\n",
      "(860, 32)\n",
      "(3439, 1)\n",
      "(860, 1)\n",
      "(1208, 34)\n",
      "(303, 34)\n",
      "(1208, 1)\n",
      "(303, 1)\n",
      "(3439, 32)\n",
      "(860, 32)\n",
      "(3439, 1)\n",
      "(860, 1)\n",
      "(3439, 32)\n",
      "(860, 32)\n",
      "(3439, 1)\n",
      "(860, 1)\n",
      "(3439, 32)\n",
      "(860, 32)\n",
      "(3439, 1)\n",
      "(860, 1)\n",
      "(3439, 32)\n",
      "(860, 32)\n",
      "(3439, 1)\n",
      "(860, 1)\n",
      "(3439, 32)\n",
      "(860, 32)\n",
      "(3439, 1)\n",
      "(860, 1)\n",
      "(3439, 32)\n",
      "(860, 32)\n",
      "(3439, 1)\n",
      "(860, 1)\n",
      "(3439, 32)\n",
      "(860, 32)\n",
      "(3439, 1)\n",
      "(860, 1)\n",
      "(3439, 32)\n",
      "(860, 32)\n",
      "(3439, 1)\n",
      "(860, 1)\n",
      "(3439, 32)\n",
      "(860, 32)\n",
      "(3439, 1)\n",
      "(860, 1)\n",
      "(3439, 32)\n",
      "(860, 32)\n",
      "(3439, 1)\n",
      "(860, 1)\n",
      "(3439, 32)\n",
      "(860, 32)\n",
      "(3439, 1)\n",
      "(860, 1)\n"
     ]
    }
   ],
   "source": [
    "for k in data_dict.keys():\n",
    "    for i in data_dict[k]:\n",
    "        print(i.shape)"
   ]
  },
  {
   "cell_type": "code",
   "execution_count": 32,
   "metadata": {},
   "outputs": [
    {
     "name": "stdout",
     "output_type": "stream",
     "text": [
      "<class 'list'>\n",
      "<class 'list'>\n",
      "<class 'list'>\n",
      "<class 'list'>\n",
      "<class 'list'>\n",
      "<class 'list'>\n",
      "<class 'list'>\n",
      "<class 'list'>\n",
      "<class 'list'>\n",
      "<class 'list'>\n",
      "<class 'list'>\n",
      "<class 'list'>\n",
      "<class 'list'>\n",
      "<class 'list'>\n",
      "<class 'list'>\n"
     ]
    }
   ],
   "source": [
    "for data in data_dict:\n",
    "    plt.plot(data_dict[data][2])\n",
    "    plt.plot(data_dict[data][3])"
   ]
  },
  {
   "cell_type": "code",
   "execution_count": 33,
   "metadata": {},
   "outputs": [
    {
     "data": {
      "text/plain": [
       "[<matplotlib.lines.Line2D at 0x7fb51721edd8>]"
      ]
     },
     "execution_count": 33,
     "metadata": {},
     "output_type": "execute_result"
    },
    {
     "data": {
      "image/png": "[encoded data removed]",
      "text/plain": [
       "<Figure size 432x288 with 1 Axes>"
      ]
     },
     "metadata": {
      "needs_background": "light"
     },
     "output_type": "display_data"
    }
   ],
   "source": [
    "    plt.plot(data_dict['MMM'][2])\n",
    "    plt.plot(data_dict['MMM'][3])"
   ]
  },
  {
   "cell_type": "code",
   "execution_count": 34,
   "metadata": {},
   "outputs": [
    {
     "data": {
      "text/plain": [
       "array([[0.        ],\n",
       "       [0.        ],\n",
       "       [0.        ],\n",
       "       ...,\n",
       "       [7.69445422],\n",
       "       [5.57765271],\n",
       "       [2.86909068]])"
      ]
     },
     "execution_count": 34,
     "metadata": {},
     "output_type": "execute_result"
    }
   ],
   "source": [
    "data_dict['MMM'][2]"
   ]
  },
  {
   "cell_type": "code",
   "execution_count": 38,
   "metadata": {},
   "outputs": [
    {
     "name": "stdout",
     "output_type": "stream",
     "text": [
      "1824\n",
      "1824\n",
      "1824\n",
      "1208\n",
      "1824\n",
      "1824\n",
      "1824\n",
      "1824\n",
      "1824\n",
      "1824\n",
      "1824\n",
      "1824\n",
      "1824\n",
      "1824\n",
      "1824\n"
     ]
    }
   ],
   "source": [
    "for data in data_dict:\n",
    "    print(len(data_dict[data][2]) - np.count_nonzero(data_dict[data][2]))"
   ]
  },
  {
   "cell_type": "code",
   "execution_count": null,
   "metadata": {},
   "outputs": [],
   "source": []
  }
 ],
 "metadata": {
  "kernelspec": {
   "display_name": "Python 3",
   "language": "python",
   "name": "python3"
  },
  "language_info": {
   "codemirror_mode": {
    "name": "ipython",
    "version": 3
   },
   "file_extension": ".py",
   "mimetype": "text/x-python",
   "name": "python",
   "nbconvert_exporter": "python",
   "pygments_lexer": "ipython3",
   "version": "3.6.9"
  }
 },
 "nbformat": 4,
 "nbformat_minor": 4
}

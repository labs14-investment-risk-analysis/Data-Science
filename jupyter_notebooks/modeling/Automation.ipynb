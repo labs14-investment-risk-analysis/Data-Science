{
 "cells": [
  {
   "cell_type": "code",
   "execution_count": 1,
   "metadata": {},
   "outputs": [],
   "source": [
    "import sys"
   ]
  },
  {
   "cell_type": "code",
   "execution_count": 2,
   "metadata": {},
   "outputs": [],
   "source": [
    "sys.path.insert(0, '/home/joe/Documents/LambdaSchool/labs_ir/repos/Data-Science/data')"
   ]
  },
  {
   "cell_type": "code",
   "execution_count": 3,
   "metadata": {},
   "outputs": [
    {
     "data": {
      "text/plain": [
       "['/home/joe/Documents/LambdaSchool/labs_ir/repos/Data-Science/data',\n",
       " '',\n",
       " '/home/joe/PythonRoot/anaconda3/envs/riskylobster/lib/python36.zip',\n",
       " '/home/joe/PythonRoot/anaconda3/envs/riskylobster/lib/python3.6',\n",
       " '/home/joe/PythonRoot/anaconda3/envs/riskylobster/lib/python3.6/lib-dynload',\n",
       " '/home/joe/PythonRoot/anaconda3/envs/riskylobster/lib/python3.6/site-packages',\n",
       " '/home/joe/PythonRoot/anaconda3/envs/riskylobster/lib/python3.6/site-packages/IPython/extensions',\n",
       " '/home/joe/.ipython']"
      ]
     },
     "execution_count": 3,
     "metadata": {},
     "output_type": "execute_result"
    }
   ],
   "source": [
    "sys.path"
   ]
  },
  {
   "cell_type": "code",
   "execution_count": 4,
   "metadata": {},
   "outputs": [],
   "source": [
    "sys.path.remove('')"
   ]
  },
  {
   "cell_type": "code",
   "execution_count": 5,
   "metadata": {},
   "outputs": [],
   "source": [
    "import csv\n",
    "from time import sleep"
   ]
  },
  {
   "cell_type": "code",
   "execution_count": 6,
   "metadata": {},
   "outputs": [
    {
     "name": "stderr",
     "output_type": "stream",
     "text": [
      "Using TensorFlow backend.\n"
     ]
    }
   ],
   "source": [
    "from fin_data import DailyTimeSeries\n",
    "from fracdiff import FractionalDifferentiation as fd\n",
    "\n",
    "import numpy as np\n",
    "import pandas as pd\n",
    "import os, sys\n",
    "import matplotlib.pyplot as plt\n",
    "\n",
    "from sklearn.preprocessing import MinMaxScaler\n",
    "\n",
    "from keras.models import Sequential\n",
    "from keras.layers import LSTM\n",
    "from keras.layers import Dense\n",
    "from keras.layers import RepeatVector\n",
    "from keras.layers import TimeDistributed\n",
    "\n",
    "from sklearn.model_selection import train_test_split\n",
    "from sklearn.metrics import r2_score\n",
    "\n",
    "from keras.preprocessing.sequence import TimeseriesGenerator\n",
    "from keras.callbacks import ModelCheckpoint \n",
    "\n",
    "    \n",
    "class HiddenPrints:\n",
    "    def __enter__(self):\n",
    "        self._original_stdout = sys.stdout\n",
    "        sys.stdout = open(os.devnull, 'w')\n",
    "\n",
    "    def __exit__(self, exc_type, exc_val, exc_tb):\n",
    "        sys.stdout.close()\n",
    "        sys.stdout = self._original_stdout\n",
    "\n",
    "\n",
    "pd.options.display.max_rows = 999\n",
    "pd.options.display.max_columns = 999\n",
    "\n",
    "import warnings\n",
    "warnings.simplefilter(action='ignore', category=FutureWarning)\n",
    "%matplotlib inline"
   ]
  },
  {
   "cell_type": "code",
   "execution_count": 18,
   "metadata": {},
   "outputs": [],
   "source": [
    "def generate_df_fracdiff_target(symbol, return_type='generator', shift=1):\n",
    "    # Ininialize class\n",
    "    dts = DailyTimeSeries(symbol)\n",
    "    df = dts.initiate()\n",
    "    funs = ['totalrevenue',  'totalcostofrevenue', 'totalgrossprofit', 'totalpretaxincome', 'weightedavebasicdilutedsharesos', 'cashdividendspershare']\n",
    "    techs = ['SMA', 'WMA', 'STOCH', 'ROC', 'AROON']\n",
    "    macros = ['housing_index', 'confidence_index', 'trade_index', 'longterm_rates', 'shortterm_rates']\n",
    "    df = dts.add_fundamentals(df, funs)\n",
    "    sleep(5)\n",
    "    df = dts.add_technicals(techs, df)\n",
    "    sleep(15)\n",
    "    df = dts.add_macro(df, macros)\n",
    "    todrop = []\n",
    "    for col in df.columns:\n",
    "        if df[col].isnull().sum()/len(df) >  .25:\n",
    "            print('{} is missing '.format(col), df[col].isnull().sum())\n",
    "            print('{} dropped'.format(col))\n",
    "            todrop.append(col)\n",
    "\n",
    "    df = df.drop(labels=todrop, axis=1)\n",
    "    df = df.dropna(axis=0)\n",
    "    \n",
    "    if str(symbol + '_adjusted_close') in df.columns:\n",
    "        df['target'] = fd.frac_diff_ffd(df[[str(symbol + '_adjusted_close')]], .35).shift(-1)[str(symbol + '_adjusted_close')]\n",
    "    else:\n",
    "        df['target'] = fd.frac_diff_ffd(df[[str(symbol + '_close')]], .35).shift(-1)[str(symbol + '_close')]\n",
    "\n",
    "    df = df.fillna(value=0)\n",
    "    X = df.drop(columns='target')\n",
    "    y = df[['target']].values\n",
    "\n",
    "    X_train, X_test, y_train, y_test = train_test_split(X, y, \n",
    "                                                    train_size=.8, \n",
    "                                                    shuffle=False)\n",
    "\n",
    "    scaler = MinMaxScaler()\n",
    "    scaler.fit(X_train)\n",
    "\n",
    "\n",
    "    X_train = scaler.transform(X_train)\n",
    "    X_test = scaler.transform(X_test)\n",
    "    if return_type == 'generator':\n",
    "        train_data_generator = TimeseriesGenerator(X_train, y_train, \n",
    "                                           length=30,\n",
    "                                           sampling_rate=1, \n",
    "                                           stride=1, \n",
    "                                           batch_size=30)\n",
    "\n",
    "        test_data_generator = TimeseriesGenerator(X_test, y_test, \n",
    "                                                  length=30, \n",
    "                                                  sampling_rate=1,\n",
    "                                                  stride=1,\n",
    "                                                  batch_size=30)\n",
    "        \n",
    "        return(train_data_generator, test_data_generator)\n",
    "    \n",
    "    elif return_type == 'Xy_trte':\n",
    "        return(X_train, X_test, y_train, y_test)\n",
    "    \n",
    "    elif return_type == 'df':\n",
    "        return(df)\n",
    "    else:\n",
    "        return(df)\n"
   ]
  },
  {
   "cell_type": "code",
   "execution_count": 8,
   "metadata": {},
   "outputs": [],
   "source": [
    "csv500 = open('constituents_csv.csv','r')\n",
    "sp500 = []\n",
    "\n",
    "next(csv500)\n",
    "\n",
    "for sym in csv.reader(csv500, delimiter=','):\n",
    "    sp500.append(sym[0])"
   ]
  },
  {
   "cell_type": "code",
   "execution_count": null,
   "metadata": {},
   "outputs": [],
   "source": [
    "data_dict = {}"
   ]
  },
  {
   "cell_type": "code",
   "execution_count": 22,
   "metadata": {},
   "outputs": [
    {
     "name": "stdout",
     "output_type": "stream",
     "text": [
      "Already have data for  MMM\n",
      "Already have data for  AOS\n",
      "################################################################### \n",
      " Ticker:  ABT \n",
      " Last Refreshed:  2019-09-19 \n",
      " Data Retrieved:  Daily Time Series with Splits and Dividend Events \n",
      " ###################################################################\n",
      "################################################################### \n",
      " Ticker:  ABT \n",
      " Fundamentals Retrieved:  ['ABT_open' 'ABT_high' 'ABT_low' 'ABT_close' 'ABT_adjusted_close'\n",
      " 'ABT_volume' 'ABT_dividend_amount' 'ABT_totalrevenue'\n",
      " 'ABT_totalcostofrevenue' 'ABT_totalgrossprofit' 'ABT_totalpretaxincome'\n",
      " 'ABT_weightedavebasicdilutedsharesos' 'ABT_cashdividendspershare'] \n",
      " ###################################################################\n",
      "################################################################### \n",
      " Ticker:  ABT \n",
      " Retrieved Data Start Date:  2009-08-07 \n",
      " Retrieved Data End Date:  2019-08-01 \n",
      " Data Retrieved:  ['ABT_totalrevenue', 'ABT_totalcostofrevenue', 'ABT_totalgrossprofit', 'ABT_totalpretaxincome', 'ABT_weightedavebasicdilutedsharesos', 'ABT_cashdividendspershare'] \n",
      " ###################################################################\n",
      "################################################################### \n",
      " Ticker:  ABT \n",
      " Last Refreshed:  Simple Moving Average (SMA) \n",
      " Data Retrieved:  2019-09-19 \n",
      " ###################################################################\n",
      "################################################################### \n",
      " Ticker:  ABT \n",
      " Last Refreshed:  Weighted Moving Average (WMA) \n",
      " Data Retrieved:  2019-09-19 \n",
      " ###################################################################\n",
      "################################################################### \n",
      " Ticker:  ABT \n",
      " Last Refreshed:  Stochastic (STOCH) \n",
      " Data Retrieved:  2019-09-19 \n",
      " ###################################################################\n",
      "################################################################### \n",
      " Ticker:  ABT \n",
      " Last Refreshed:  Rate of change : ((price/prevPrice)-1)*100 \n",
      " Data Retrieved:  2019-09-19 \n",
      " ###################################################################\n",
      "################################################################### \n",
      " Ticker:  ABT \n",
      " Last Refreshed:  Aroon (AROON) \n",
      " Data Retrieved:  2019-09-19 \n",
      " ###################################################################\n",
      "################################################################### \n",
      " Index: Nominal Home Price Index Added \n",
      " ###################################################################\n"
     ]
    },
    {
     "name": "stderr",
     "output_type": "stream",
     "text": [
      "/home/joe/Documents/LambdaSchool/labs_ir/repos/Data-Science/data/fin_data.py:295: UserWarning: The latest value available for Housing Index is from January 2019.\n",
      "  warnings.warn(\"The latest value available for Housing Index is from January 2019.\")\n"
     ]
    },
    {
     "name": "stdout",
     "output_type": "stream",
     "text": [
      "################################################################### \n",
      " Index: Yale Investor Behavior Project Added \n",
      " ###################################################################\n",
      "################################################################### \n",
      " Trade Weighted U.S. Dollar Index: Broad Added \n",
      " ###################################################################\n",
      "################################################################### \n",
      " US Treasury Bond Long-Term Rates Added \n",
      " ###################################################################\n",
      "################################################################### \n",
      " US Treasury Bond Short-Term Rates Added \n",
      " ###################################################################\n",
      "8_Wk_DR is missing  4227\n",
      "8_Wk_DR dropped\n",
      "8_Wk_CE is missing  4227\n",
      "8_Wk_CE dropped\n",
      "52_Wk_DR is missing  1610\n",
      "52_Wk_DR dropped\n",
      "52_Wk_CE is missing  1610\n",
      "52_Wk_CE dropped\n"
     ]
    },
    {
     "name": "stderr",
     "output_type": "stream",
     "text": [
      "/home/joe/Documents/LambdaSchool/labs_ir/repos/Data-Science/data/fin_data.py:336: UserWarning: Contains Null Values\n",
      "  warnings.warn(\"Contains Null Values\")\n"
     ]
    },
    {
     "name": "stdout",
     "output_type": "stream",
     "text": [
      "################################################################### \n",
      " Ticker:  ABBV \n",
      " Last Refreshed:  2019-09-19 \n",
      " Data Retrieved:  Daily Time Series with Splits and Dividend Events \n",
      " ###################################################################\n",
      "################################################################### \n",
      " Ticker:  ABBV \n",
      " Fundamentals Retrieved:  ['ABBV_open' 'ABBV_high' 'ABBV_low' 'ABBV_close' 'ABBV_adjusted_close'\n",
      " 'ABBV_volume' 'ABBV_dividend_amount' 'ABBV_totalrevenue'\n",
      " 'ABBV_totalcostofrevenue' 'ABBV_totalgrossprofit'\n",
      " 'ABBV_totalpretaxincome' 'ABBV_weightedavebasicdilutedsharesos'\n",
      " 'ABBV_cashdividendspershare'] \n",
      " ###################################################################\n",
      "################################################################### \n",
      " Ticker:  ABBV \n",
      " Retrieved Data Start Date:  2014-08-07 \n",
      " Retrieved Data End Date:  2019-08-05 \n",
      " Data Retrieved:  ['ABBV_totalrevenue', 'ABBV_totalcostofrevenue', 'ABBV_totalgrossprofit', 'ABBV_totalpretaxincome', 'ABBV_weightedavebasicdilutedsharesos', 'ABBV_cashdividendspershare'] \n",
      " ###################################################################\n",
      "################################################################### \n",
      " Ticker:  ABBV \n",
      " Last Refreshed:  Simple Moving Average (SMA) \n",
      " Data Retrieved:  2019-09-19 \n",
      " ###################################################################\n",
      "################################################################### \n",
      " Ticker:  ABBV \n",
      " Last Refreshed:  Weighted Moving Average (WMA) \n",
      " Data Retrieved:  2019-09-19 \n",
      " ###################################################################\n",
      "################################################################### \n",
      " Ticker:  ABBV \n",
      " Last Refreshed:  Stochastic (STOCH) \n",
      " Data Retrieved:  2019-09-19 \n",
      " ###################################################################\n",
      "################################################################### \n",
      " Ticker:  ABBV \n",
      " Last Refreshed:  Rate of change : ((price/prevPrice)-1)*100 \n",
      " Data Retrieved:  2019-09-19 \n",
      " ###################################################################\n",
      "################################################################### \n",
      " Ticker:  ABBV \n",
      " Last Refreshed:  Aroon (AROON) \n",
      " Data Retrieved:  2019-09-19 \n",
      " ###################################################################\n",
      "################################################################### \n",
      " Index: Nominal Home Price Index Added \n",
      " ###################################################################\n"
     ]
    },
    {
     "name": "stderr",
     "output_type": "stream",
     "text": [
      "/home/joe/Documents/LambdaSchool/labs_ir/repos/Data-Science/data/fin_data.py:295: UserWarning: The latest value available for Housing Index is from January 2019.\n",
      "  warnings.warn(\"The latest value available for Housing Index is from January 2019.\")\n"
     ]
    },
    {
     "name": "stdout",
     "output_type": "stream",
     "text": [
      "################################################################### \n",
      " Index: Yale Investor Behavior Project Added \n",
      " ###################################################################\n",
      "################################################################### \n",
      " Trade Weighted U.S. Dollar Index: Broad Added \n",
      " ###################################################################\n",
      "################################################################### \n",
      " US Treasury Bond Long-Term Rates Added \n",
      " ###################################################################\n",
      "################################################################### \n",
      " US Treasury Bond Short-Term Rates Added \n",
      " ###################################################################\n",
      "8_Wk_DR is missing  1438\n",
      "8_Wk_DR dropped\n",
      "8_Wk_CE is missing  1438\n",
      "8_Wk_CE dropped\n"
     ]
    },
    {
     "name": "stderr",
     "output_type": "stream",
     "text": [
      "/home/joe/Documents/LambdaSchool/labs_ir/repos/Data-Science/data/fin_data.py:336: UserWarning: Contains Null Values\n",
      "  warnings.warn(\"Contains Null Values\")\n"
     ]
    },
    {
     "name": "stdout",
     "output_type": "stream",
     "text": [
      "################################################################### \n",
      " Ticker:  ACN \n",
      " Last Refreshed:  2019-09-19 \n",
      " Data Retrieved:  Daily Time Series with Splits and Dividend Events \n",
      " ###################################################################\n",
      "################################################################### \n",
      " Ticker:  ACN \n",
      " Fundamentals Retrieved:  ['ACN_open' 'ACN_high' 'ACN_low' 'ACN_close' 'ACN_adjusted_close'\n",
      " 'ACN_volume' 'ACN_dividend_amount' 'ACN_totalrevenue'\n",
      " 'ACN_totalcostofrevenue' 'ACN_totalgrossprofit' 'ACN_totalpretaxincome'\n",
      " 'ACN_weightedavebasicdilutedsharesos' 'ACN_cashdividendspershare'] \n",
      " ###################################################################\n",
      "################################################################### \n",
      " Ticker:  ACN \n",
      " Retrieved Data Start Date:  2009-12-18 \n",
      " Retrieved Data End Date:  2019-06-27 \n",
      " Data Retrieved:  ['ACN_totalrevenue', 'ACN_totalcostofrevenue', 'ACN_totalgrossprofit', 'ACN_totalpretaxincome', 'ACN_weightedavebasicdilutedsharesos', 'ACN_cashdividendspershare'] \n",
      " ###################################################################\n",
      "################################################################### \n",
      " Ticker:  ACN \n",
      " Last Refreshed:  Simple Moving Average (SMA) \n",
      " Data Retrieved:  2019-09-19 \n",
      " ###################################################################\n",
      "################################################################### \n",
      " Ticker:  ACN \n",
      " Last Refreshed:  Weighted Moving Average (WMA) \n",
      " Data Retrieved:  2019-09-19 \n",
      " ###################################################################\n",
      "################################################################### \n",
      " Ticker:  ACN \n",
      " Last Refreshed:  Stochastic (STOCH) \n",
      " Data Retrieved:  2019-09-19 \n",
      " ###################################################################\n",
      "################################################################### \n",
      " Ticker:  ACN \n",
      " Last Refreshed:  Rate of change : ((price/prevPrice)-1)*100 \n",
      " Data Retrieved:  2019-09-19 \n",
      " ###################################################################\n",
      "################################################################### \n",
      " Ticker:  ACN \n",
      " Last Refreshed:  Aroon (AROON) \n",
      " Data Retrieved:  2019-09-19 \n",
      " ###################################################################\n",
      "################################################################### \n",
      " Index: Nominal Home Price Index Added \n",
      " ###################################################################\n"
     ]
    },
    {
     "name": "stderr",
     "output_type": "stream",
     "text": [
      "/home/joe/Documents/LambdaSchool/labs_ir/repos/Data-Science/data/fin_data.py:295: UserWarning: The latest value available for Housing Index is from January 2019.\n",
      "  warnings.warn(\"The latest value available for Housing Index is from January 2019.\")\n"
     ]
    },
    {
     "name": "stdout",
     "output_type": "stream",
     "text": [
      "################################################################### \n",
      " Index: Yale Investor Behavior Project Added \n",
      " ###################################################################\n",
      "################################################################### \n",
      " Trade Weighted U.S. Dollar Index: Broad Added \n",
      " ###################################################################\n",
      "################################################################### \n",
      " US Treasury Bond Long-Term Rates Added \n",
      " ###################################################################\n",
      "################################################################### \n",
      " US Treasury Bond Short-Term Rates Added \n",
      " ###################################################################\n",
      "8_Wk_DR is missing  4227\n",
      "8_Wk_DR dropped\n",
      "8_Wk_CE is missing  4227\n",
      "8_Wk_CE dropped\n",
      "52_Wk_DR is missing  1610\n",
      "52_Wk_DR dropped\n",
      "52_Wk_CE is missing  1610\n",
      "52_Wk_CE dropped\n"
     ]
    },
    {
     "name": "stderr",
     "output_type": "stream",
     "text": [
      "/home/joe/Documents/LambdaSchool/labs_ir/repos/Data-Science/data/fin_data.py:336: UserWarning: Contains Null Values\n",
      "  warnings.warn(\"Contains Null Values\")\n"
     ]
    },
    {
     "name": "stdout",
     "output_type": "stream",
     "text": [
      "################################################################### \n",
      " Ticker:  ATVI \n",
      " Last Refreshed:  2019-09-19 \n",
      " Data Retrieved:  Daily Time Series with Splits and Dividend Events \n",
      " ###################################################################\n",
      "################################################################### \n",
      " Ticker:  ATVI \n",
      " Fundamentals Retrieved:  ['ATVI_open' 'ATVI_high' 'ATVI_low' 'ATVI_close' 'ATVI_adjusted_close'\n",
      " 'ATVI_volume' 'ATVI_dividend_amount' 'ATVI_totalrevenue'\n",
      " 'ATVI_totalcostofrevenue' 'ATVI_totalgrossprofit'\n",
      " 'ATVI_totalpretaxincome' 'ATVI_weightedavebasicdilutedsharesos'\n",
      " 'ATVI_cashdividendspershare'] \n",
      " ###################################################################\n",
      "################################################################### \n",
      " Ticker:  ATVI \n",
      " Retrieved Data Start Date:  2009-08-07 \n",
      " Retrieved Data End Date:  2019-08-08 \n",
      " Data Retrieved:  ['ATVI_totalrevenue', 'ATVI_totalcostofrevenue', 'ATVI_totalgrossprofit', 'ATVI_totalpretaxincome', 'ATVI_weightedavebasicdilutedsharesos', 'ATVI_cashdividendspershare'] \n",
      " ###################################################################\n",
      "################################################################### \n",
      " Ticker:  ATVI \n",
      " Last Refreshed:  Simple Moving Average (SMA) \n",
      " Data Retrieved:  2019-09-19 \n",
      " ###################################################################\n",
      "################################################################### \n",
      " Ticker:  ATVI \n",
      " Last Refreshed:  Weighted Moving Average (WMA) \n",
      " Data Retrieved:  2019-09-19 \n",
      " ###################################################################\n",
      "################################################################### \n",
      " Ticker:  ATVI \n",
      " Last Refreshed:  Stochastic (STOCH) \n",
      " Data Retrieved:  2019-09-19 \n",
      " ###################################################################\n",
      "################################################################### \n",
      " Ticker:  ATVI \n",
      " Last Refreshed:  Rate of change : ((price/prevPrice)-1)*100 \n",
      " Data Retrieved:  2019-09-19 \n",
      " ###################################################################\n",
      "################################################################### \n",
      " Ticker:  ATVI \n",
      " Last Refreshed:  Aroon (AROON) \n",
      " Data Retrieved:  2019-09-19 \n",
      " ###################################################################\n",
      "################################################################### \n",
      " Index: Nominal Home Price Index Added \n",
      " ###################################################################\n"
     ]
    },
    {
     "name": "stderr",
     "output_type": "stream",
     "text": [
      "/home/joe/Documents/LambdaSchool/labs_ir/repos/Data-Science/data/fin_data.py:295: UserWarning: The latest value available for Housing Index is from January 2019.\n",
      "  warnings.warn(\"The latest value available for Housing Index is from January 2019.\")\n"
     ]
    },
    {
     "name": "stdout",
     "output_type": "stream",
     "text": [
      "################################################################### \n",
      " Index: Yale Investor Behavior Project Added \n",
      " ###################################################################\n",
      "################################################################### \n",
      " Trade Weighted U.S. Dollar Index: Broad Added \n",
      " ###################################################################\n",
      "################################################################### \n",
      " US Treasury Bond Long-Term Rates Added \n",
      " ###################################################################\n",
      "################################################################### \n",
      " US Treasury Bond Short-Term Rates Added \n",
      " ###################################################################\n",
      "8_Wk_DR is missing  4227\n",
      "8_Wk_DR dropped\n",
      "8_Wk_CE is missing  4227\n",
      "8_Wk_CE dropped\n",
      "52_Wk_DR is missing  1610\n",
      "52_Wk_DR dropped\n",
      "52_Wk_CE is missing  1610\n",
      "52_Wk_CE dropped\n"
     ]
    },
    {
     "name": "stderr",
     "output_type": "stream",
     "text": [
      "/home/joe/Documents/LambdaSchool/labs_ir/repos/Data-Science/data/fin_data.py:336: UserWarning: Contains Null Values\n",
      "  warnings.warn(\"Contains Null Values\")\n"
     ]
    },
    {
     "name": "stdout",
     "output_type": "stream",
     "text": [
      "################################################################### \n",
      " Ticker:  AYI \n",
      " Last Refreshed:  2019-09-19 \n",
      " Data Retrieved:  Daily Time Series with Splits and Dividend Events \n",
      " ###################################################################\n",
      "################################################################### \n",
      " Ticker:  AYI \n",
      " Fundamentals Retrieved:  ['AYI_open' 'AYI_high' 'AYI_low' 'AYI_close' 'AYI_adjusted_close'\n",
      " 'AYI_volume' 'AYI_dividend_amount' 'AYI_totalrevenue'\n",
      " 'AYI_totalcostofrevenue' 'AYI_totalgrossprofit' 'AYI_totalpretaxincome'\n",
      " 'AYI_weightedavebasicdilutedsharesos' 'AYI_cashdividendspershare'] \n",
      " ###################################################################\n",
      "################################################################### \n",
      " Ticker:  AYI \n",
      " Retrieved Data Start Date:  2011-01-10 \n",
      " Retrieved Data End Date:  2019-07-02 \n",
      " Data Retrieved:  ['AYI_totalrevenue', 'AYI_totalcostofrevenue', 'AYI_totalgrossprofit', 'AYI_totalpretaxincome', 'AYI_weightedavebasicdilutedsharesos', 'AYI_cashdividendspershare'] \n",
      " ###################################################################\n",
      "################################################################### \n",
      " Ticker:  AYI \n",
      " Last Refreshed:  Simple Moving Average (SMA) \n",
      " Data Retrieved:  2019-09-19 \n",
      " ###################################################################\n",
      "################################################################### \n",
      " Ticker:  AYI \n",
      " Last Refreshed:  Weighted Moving Average (WMA) \n",
      " Data Retrieved:  2019-09-19 \n",
      " ###################################################################\n",
      "################################################################### \n",
      " Ticker:  AYI \n",
      " Last Refreshed:  Stochastic (STOCH) \n",
      " Data Retrieved:  2019-09-19 \n",
      " ###################################################################\n",
      "################################################################### \n",
      " Ticker:  AYI \n",
      " Last Refreshed:  Rate of change : ((price/prevPrice)-1)*100 \n",
      " Data Retrieved:  2019-09-19 \n",
      " ###################################################################\n",
      "################################################################### \n",
      " Ticker:  AYI \n",
      " Last Refreshed:  Aroon (AROON) \n",
      " Data Retrieved:  2019-09-19 \n",
      " ###################################################################\n",
      "################################################################### \n",
      " Index: Nominal Home Price Index Added \n",
      " ###################################################################\n"
     ]
    },
    {
     "name": "stderr",
     "output_type": "stream",
     "text": [
      "/home/joe/Documents/LambdaSchool/labs_ir/repos/Data-Science/data/fin_data.py:295: UserWarning: The latest value available for Housing Index is from January 2019.\n",
      "  warnings.warn(\"The latest value available for Housing Index is from January 2019.\")\n"
     ]
    },
    {
     "name": "stdout",
     "output_type": "stream",
     "text": [
      "################################################################### \n",
      " Index: Yale Investor Behavior Project Added \n",
      " ###################################################################\n",
      "################################################################### \n",
      " Trade Weighted U.S. Dollar Index: Broad Added \n",
      " ###################################################################\n",
      "################################################################### \n",
      " US Treasury Bond Long-Term Rates Added \n",
      " ###################################################################\n",
      "################################################################### \n",
      " US Treasury Bond Short-Term Rates Added \n",
      " ###################################################################\n",
      "8_Wk_DR is missing  4227\n",
      "8_Wk_DR dropped\n",
      "8_Wk_CE is missing  4227\n",
      "8_Wk_CE dropped\n",
      "52_Wk_DR is missing  1610\n",
      "52_Wk_DR dropped\n",
      "52_Wk_CE is missing  1610\n",
      "52_Wk_CE dropped\n"
     ]
    },
    {
     "name": "stderr",
     "output_type": "stream",
     "text": [
      "/home/joe/Documents/LambdaSchool/labs_ir/repos/Data-Science/data/fin_data.py:336: UserWarning: Contains Null Values\n",
      "  warnings.warn(\"Contains Null Values\")\n"
     ]
    },
    {
     "name": "stdout",
     "output_type": "stream",
     "text": [
      "################################################################### \n",
      " Ticker:  ADBE \n",
      " Last Refreshed:  2019-09-19 \n",
      " Data Retrieved:  Daily Time Series with Splits and Dividend Events \n",
      " ###################################################################\n",
      "################################################################### \n",
      " Ticker:  ADBE \n",
      " Fundamentals Retrieved:  ['ADBE_open' 'ADBE_high' 'ADBE_low' 'ADBE_close' 'ADBE_adjusted_close'\n",
      " 'ADBE_volume' 'ADBE_dividend_amount' 'ADBE_totalrevenue'\n",
      " 'ADBE_totalcostofrevenue' 'ADBE_totalgrossprofit'\n",
      " 'ADBE_totalpretaxincome' 'ADBE_weightedavebasicdilutedsharesos'\n",
      " 'ADBE_cashdividendspershare'] \n",
      " ###################################################################\n",
      "################################################################### \n",
      " Ticker:  ADBE \n",
      " Retrieved Data Start Date:  2009-10-01 \n",
      " Retrieved Data End Date:  2019-06-27 \n",
      " Data Retrieved:  ['ADBE_totalrevenue', 'ADBE_totalcostofrevenue', 'ADBE_totalgrossprofit', 'ADBE_totalpretaxincome', 'ADBE_weightedavebasicdilutedsharesos', 'ADBE_cashdividendspershare'] \n",
      " ###################################################################\n",
      "################################################################### \n",
      " Ticker:  ADBE \n",
      " Last Refreshed:  Simple Moving Average (SMA) \n",
      " Data Retrieved:  2019-09-19 \n",
      " ###################################################################\n",
      "################################################################### \n",
      " Ticker:  ADBE \n",
      " Last Refreshed:  Weighted Moving Average (WMA) \n",
      " Data Retrieved:  2019-09-19 \n",
      " ###################################################################\n",
      "################################################################### \n",
      " Ticker:  ADBE \n",
      " Last Refreshed:  Stochastic (STOCH) \n",
      " Data Retrieved:  2019-09-19 \n",
      " ###################################################################\n",
      "################################################################### \n",
      " Ticker:  ADBE \n",
      " Last Refreshed:  Rate of change : ((price/prevPrice)-1)*100 \n",
      " Data Retrieved:  2019-09-19 \n",
      " ###################################################################\n",
      "################################################################### \n",
      " Ticker:  ADBE \n",
      " Last Refreshed:  Aroon (AROON) \n",
      " Data Retrieved:  2019-09-19 \n",
      " ###################################################################\n",
      "################################################################### \n",
      " Index: Nominal Home Price Index Added \n",
      " ###################################################################\n"
     ]
    },
    {
     "name": "stderr",
     "output_type": "stream",
     "text": [
      "/home/joe/Documents/LambdaSchool/labs_ir/repos/Data-Science/data/fin_data.py:295: UserWarning: The latest value available for Housing Index is from January 2019.\n",
      "  warnings.warn(\"The latest value available for Housing Index is from January 2019.\")\n"
     ]
    },
    {
     "name": "stdout",
     "output_type": "stream",
     "text": [
      "################################################################### \n",
      " Index: Yale Investor Behavior Project Added \n",
      " ###################################################################\n",
      "################################################################### \n",
      " Trade Weighted U.S. Dollar Index: Broad Added \n",
      " ###################################################################\n",
      "################################################################### \n",
      " US Treasury Bond Long-Term Rates Added \n",
      " ###################################################################\n",
      "################################################################### \n",
      " US Treasury Bond Short-Term Rates Added \n",
      " ###################################################################\n",
      "8_Wk_DR is missing  4227\n",
      "8_Wk_DR dropped\n",
      "8_Wk_CE is missing  4227\n",
      "8_Wk_CE dropped\n",
      "52_Wk_DR is missing  1610\n",
      "52_Wk_DR dropped\n",
      "52_Wk_CE is missing  1610\n",
      "52_Wk_CE dropped\n"
     ]
    },
    {
     "name": "stderr",
     "output_type": "stream",
     "text": [
      "/home/joe/Documents/LambdaSchool/labs_ir/repos/Data-Science/data/fin_data.py:336: UserWarning: Contains Null Values\n",
      "  warnings.warn(\"Contains Null Values\")\n"
     ]
    },
    {
     "name": "stdout",
     "output_type": "stream",
     "text": [
      "################################################################### \n",
      " Ticker:  AAP \n",
      " Last Refreshed:  2019-09-19 \n",
      " Data Retrieved:  Daily Time Series with Splits and Dividend Events \n",
      " ###################################################################\n",
      "################################################################### \n",
      " Ticker:  AAP \n",
      " Fundamentals Retrieved:  ['AAP_open' 'AAP_high' 'AAP_low' 'AAP_close' 'AAP_adjusted_close'\n",
      " 'AAP_volume' 'AAP_dividend_amount' 'AAP_totalrevenue'\n",
      " 'AAP_totalcostofrevenue' 'AAP_totalgrossprofit' 'AAP_totalpretaxincome'\n",
      " 'AAP_weightedavebasicdilutedsharesos' 'AAP_cashdividendspershare'] \n",
      " ###################################################################\n",
      "################################################################### \n",
      " Ticker:  AAP \n",
      " Retrieved Data Start Date:  2010-06-02 \n",
      " Retrieved Data End Date:  2019-08-22 \n",
      " Data Retrieved:  ['AAP_totalrevenue', 'AAP_totalcostofrevenue', 'AAP_totalgrossprofit', 'AAP_totalpretaxincome', 'AAP_weightedavebasicdilutedsharesos', 'AAP_cashdividendspershare'] \n",
      " ###################################################################\n",
      "################################################################### \n",
      " Ticker:  AAP \n",
      " Last Refreshed:  Simple Moving Average (SMA) \n",
      " Data Retrieved:  2019-09-19 \n",
      " ###################################################################\n",
      "################################################################### \n",
      " Ticker:  AAP \n",
      " Last Refreshed:  Weighted Moving Average (WMA) \n",
      " Data Retrieved:  2019-09-19 \n",
      " ###################################################################\n",
      "################################################################### \n",
      " Ticker:  AAP \n",
      " Last Refreshed:  Stochastic (STOCH) \n",
      " Data Retrieved:  2019-09-19 \n",
      " ###################################################################\n",
      "################################################################### \n",
      " Ticker:  AAP \n",
      " Last Refreshed:  Rate of change : ((price/prevPrice)-1)*100 \n",
      " Data Retrieved:  2019-09-19 \n",
      " ###################################################################\n",
      "################################################################### \n",
      " Ticker:  AAP \n",
      " Last Refreshed:  Aroon (AROON) \n",
      " Data Retrieved:  2019-09-19 \n",
      " ###################################################################\n",
      "################################################################### \n",
      " Index: Nominal Home Price Index Added \n",
      " ###################################################################\n"
     ]
    },
    {
     "name": "stderr",
     "output_type": "stream",
     "text": [
      "/home/joe/Documents/LambdaSchool/labs_ir/repos/Data-Science/data/fin_data.py:295: UserWarning: The latest value available for Housing Index is from January 2019.\n",
      "  warnings.warn(\"The latest value available for Housing Index is from January 2019.\")\n"
     ]
    },
    {
     "name": "stdout",
     "output_type": "stream",
     "text": [
      "################################################################### \n",
      " Index: Yale Investor Behavior Project Added \n",
      " ###################################################################\n",
      "################################################################### \n",
      " Trade Weighted U.S. Dollar Index: Broad Added \n",
      " ###################################################################\n",
      "################################################################### \n",
      " US Treasury Bond Long-Term Rates Added \n",
      " ###################################################################\n",
      "################################################################### \n",
      " US Treasury Bond Short-Term Rates Added \n",
      " ###################################################################\n",
      "8_Wk_DR is missing  4227\n",
      "8_Wk_DR dropped\n",
      "8_Wk_CE is missing  4227\n",
      "8_Wk_CE dropped\n",
      "52_Wk_DR is missing  1610\n",
      "52_Wk_DR dropped\n",
      "52_Wk_CE is missing  1610\n",
      "52_Wk_CE dropped\n"
     ]
    },
    {
     "name": "stderr",
     "output_type": "stream",
     "text": [
      "/home/joe/Documents/LambdaSchool/labs_ir/repos/Data-Science/data/fin_data.py:336: UserWarning: Contains Null Values\n",
      "  warnings.warn(\"Contains Null Values\")\n"
     ]
    },
    {
     "name": "stdout",
     "output_type": "stream",
     "text": [
      "################################################################### \n",
      " Ticker:  AMD \n",
      " Last Refreshed:  2019-09-19 \n",
      " Data Retrieved:  Daily Time Series with Splits and Dividend Events \n",
      " ###################################################################\n",
      "################################################################### \n",
      " Ticker:  AMD \n",
      " Fundamentals Retrieved:  ['AMD_open' 'AMD_high' 'AMD_low' 'AMD_close' 'AMD_adjusted_close'\n",
      " 'AMD_volume' 'AMD_dividend_amount' 'AMD_totalrevenue'\n",
      " 'AMD_totalcostofrevenue' 'AMD_totalgrossprofit' 'AMD_totalpretaxincome'\n",
      " 'AMD_weightedavebasicdilutedsharesos' 'AMD_cashdividendspershare'] \n",
      " ###################################################################\n",
      "################################################################### \n",
      " Ticker:  AMD \n",
      " Retrieved Data Start Date:  2010-08-04 \n",
      " Retrieved Data End Date:  2019-08-01 \n",
      " Data Retrieved:  ['AMD_totalrevenue', 'AMD_totalcostofrevenue', 'AMD_totalgrossprofit', 'AMD_totalpretaxincome', 'AMD_weightedavebasicdilutedsharesos', 'AMD_cashdividendspershare'] \n",
      " ###################################################################\n",
      "################################################################### \n",
      " Ticker:  AMD \n",
      " Last Refreshed:  Simple Moving Average (SMA) \n",
      " Data Retrieved:  2019-09-19 \n",
      " ###################################################################\n",
      "################################################################### \n",
      " Ticker:  AMD \n",
      " Last Refreshed:  Weighted Moving Average (WMA) \n",
      " Data Retrieved:  2019-09-19 \n",
      " ###################################################################\n",
      "################################################################### \n",
      " Ticker:  AMD \n",
      " Last Refreshed:  Stochastic (STOCH) \n",
      " Data Retrieved:  2019-09-19 \n",
      " ###################################################################\n",
      "################################################################### \n",
      " Ticker:  AMD \n",
      " Last Refreshed:  Rate of change : ((price/prevPrice)-1)*100 \n",
      " Data Retrieved:  2019-09-19 \n",
      " ###################################################################\n",
      "################################################################### \n",
      " Ticker:  AMD \n",
      " Last Refreshed:  Aroon (AROON) \n",
      " Data Retrieved:  2019-09-19 \n",
      " ###################################################################\n",
      "################################################################### \n",
      " Index: Nominal Home Price Index Added \n",
      " ###################################################################\n"
     ]
    },
    {
     "name": "stderr",
     "output_type": "stream",
     "text": [
      "/home/joe/Documents/LambdaSchool/labs_ir/repos/Data-Science/data/fin_data.py:295: UserWarning: The latest value available for Housing Index is from January 2019.\n",
      "  warnings.warn(\"The latest value available for Housing Index is from January 2019.\")\n"
     ]
    },
    {
     "name": "stdout",
     "output_type": "stream",
     "text": [
      "################################################################### \n",
      " Index: Yale Investor Behavior Project Added \n",
      " ###################################################################\n",
      "################################################################### \n",
      " Trade Weighted U.S. Dollar Index: Broad Added \n",
      " ###################################################################\n",
      "################################################################### \n",
      " US Treasury Bond Long-Term Rates Added \n",
      " ###################################################################\n",
      "################################################################### \n",
      " US Treasury Bond Short-Term Rates Added \n",
      " ###################################################################\n",
      "8_Wk_DR is missing  4227\n",
      "8_Wk_DR dropped\n",
      "8_Wk_CE is missing  4227\n",
      "8_Wk_CE dropped\n",
      "52_Wk_DR is missing  1610\n",
      "52_Wk_DR dropped\n",
      "52_Wk_CE is missing  1610\n",
      "52_Wk_CE dropped\n"
     ]
    },
    {
     "name": "stderr",
     "output_type": "stream",
     "text": [
      "/home/joe/Documents/LambdaSchool/labs_ir/repos/Data-Science/data/fin_data.py:336: UserWarning: Contains Null Values\n",
      "  warnings.warn(\"Contains Null Values\")\n"
     ]
    },
    {
     "name": "stdout",
     "output_type": "stream",
     "text": [
      "################################################################### \n",
      " Ticker:  AES \n",
      " Last Refreshed:  2019-09-19 \n",
      " Data Retrieved:  Daily Time Series with Splits and Dividend Events \n",
      " ###################################################################\n",
      "################################################################### \n",
      " Ticker:  AES \n",
      " Fundamentals Retrieved:  ['AES_open' 'AES_high' 'AES_low' 'AES_close' 'AES_adjusted_close'\n",
      " 'AES_volume' 'AES_dividend_amount' 'AES_totalrevenue'\n",
      " 'AES_totalcostofrevenue' 'AES_totalgrossprofit' 'AES_totalpretaxincome'\n",
      " 'AES_weightedavebasicdilutedsharesos' 'AES_cashdividendspershare'] \n",
      " ###################################################################\n",
      "################################################################### \n",
      " Ticker:  AES \n",
      " Retrieved Data Start Date:  2009-08-07 \n",
      " Retrieved Data End Date:  2019-08-06 \n",
      " Data Retrieved:  ['AES_totalrevenue', 'AES_totalcostofrevenue', 'AES_totalgrossprofit', 'AES_totalpretaxincome', 'AES_weightedavebasicdilutedsharesos', 'AES_cashdividendspershare'] \n",
      " ###################################################################\n",
      "################################################################### \n",
      " Ticker:  AES \n",
      " Last Refreshed:  Simple Moving Average (SMA) \n",
      " Data Retrieved:  2019-09-19 \n",
      " ###################################################################\n",
      "################################################################### \n",
      " Ticker:  AES \n",
      " Last Refreshed:  Weighted Moving Average (WMA) \n",
      " Data Retrieved:  2019-09-19 \n",
      " ###################################################################\n",
      "################################################################### \n",
      " Ticker:  AES \n",
      " Last Refreshed:  Stochastic (STOCH) \n",
      " Data Retrieved:  2019-09-19 \n",
      " ###################################################################\n",
      "################################################################### \n",
      " Ticker:  AES \n",
      " Last Refreshed:  Rate of change : ((price/prevPrice)-1)*100 \n",
      " Data Retrieved:  2019-09-19 \n",
      " ###################################################################\n",
      "################################################################### \n",
      " Ticker:  AES \n",
      " Last Refreshed:  Aroon (AROON) \n",
      " Data Retrieved:  2019-09-19 \n",
      " ###################################################################\n",
      "################################################################### \n",
      " Index: Nominal Home Price Index Added \n",
      " ###################################################################\n"
     ]
    },
    {
     "name": "stderr",
     "output_type": "stream",
     "text": [
      "/home/joe/Documents/LambdaSchool/labs_ir/repos/Data-Science/data/fin_data.py:295: UserWarning: The latest value available for Housing Index is from January 2019.\n",
      "  warnings.warn(\"The latest value available for Housing Index is from January 2019.\")\n"
     ]
    },
    {
     "name": "stdout",
     "output_type": "stream",
     "text": [
      "################################################################### \n",
      " Index: Yale Investor Behavior Project Added \n",
      " ###################################################################\n",
      "################################################################### \n",
      " Trade Weighted U.S. Dollar Index: Broad Added \n",
      " ###################################################################\n",
      "################################################################### \n",
      " US Treasury Bond Long-Term Rates Added \n",
      " ###################################################################\n",
      "################################################################### \n",
      " US Treasury Bond Short-Term Rates Added \n",
      " ###################################################################\n",
      "8_Wk_DR is missing  4227\n",
      "8_Wk_DR dropped\n",
      "8_Wk_CE is missing  4227\n",
      "8_Wk_CE dropped\n",
      "52_Wk_DR is missing  1610\n",
      "52_Wk_DR dropped\n",
      "52_Wk_CE is missing  1610\n",
      "52_Wk_CE dropped\n"
     ]
    },
    {
     "name": "stderr",
     "output_type": "stream",
     "text": [
      "/home/joe/Documents/LambdaSchool/labs_ir/repos/Data-Science/data/fin_data.py:336: UserWarning: Contains Null Values\n",
      "  warnings.warn(\"Contains Null Values\")\n"
     ]
    },
    {
     "ename": "ValueError",
     "evalue": "Invalid API call. Please retry or visit the documentation (https://www.alphavantage.co/documentation/) for TIME_SERIES_DAILY_ADJUSTED.",
     "output_type": "error",
     "traceback": [
      "\u001b[0;31m---------------------------------------------------------------------------\u001b[0m",
      "\u001b[0;31mValueError\u001b[0m                                Traceback (most recent call last)",
      "\u001b[0;32m<ipython-input-22-9f8f10125f17>\u001b[0m in \u001b[0;36m<module>\u001b[0;34m()\u001b[0m\n\u001b[1;32m      1\u001b[0m \u001b[0;32mfor\u001b[0m \u001b[0msym\u001b[0m \u001b[0;32min\u001b[0m \u001b[0msp500\u001b[0m\u001b[0;34m[\u001b[0m\u001b[0;34m:\u001b[0m\u001b[0;36m12\u001b[0m\u001b[0;34m]\u001b[0m\u001b[0;34m:\u001b[0m\u001b[0;34m\u001b[0m\u001b[0;34m\u001b[0m\u001b[0m\n\u001b[1;32m      2\u001b[0m     \u001b[0;32mif\u001b[0m \u001b[0msym\u001b[0m \u001b[0;32mnot\u001b[0m \u001b[0;32min\u001b[0m \u001b[0mdata_dict\u001b[0m\u001b[0;34m.\u001b[0m\u001b[0mkeys\u001b[0m\u001b[0;34m(\u001b[0m\u001b[0;34m)\u001b[0m\u001b[0;34m:\u001b[0m\u001b[0;34m\u001b[0m\u001b[0;34m\u001b[0m\u001b[0m\n\u001b[0;32m----> 3\u001b[0;31m         \u001b[0mX_train\u001b[0m\u001b[0;34m,\u001b[0m \u001b[0mX_test\u001b[0m\u001b[0;34m,\u001b[0m \u001b[0my_train\u001b[0m\u001b[0;34m,\u001b[0m \u001b[0my_test\u001b[0m \u001b[0;34m=\u001b[0m \u001b[0mgenerate_df_fracdiff_target\u001b[0m\u001b[0;34m(\u001b[0m\u001b[0msym\u001b[0m\u001b[0;34m,\u001b[0m \u001b[0mreturn_type\u001b[0m\u001b[0;34m=\u001b[0m\u001b[0;34m'Xy_trte'\u001b[0m\u001b[0;34m,\u001b[0m \u001b[0mshift\u001b[0m\u001b[0;34m=\u001b[0m\u001b[0;36m1\u001b[0m\u001b[0;34m)\u001b[0m\u001b[0;34m\u001b[0m\u001b[0;34m\u001b[0m\u001b[0m\n\u001b[0m\u001b[1;32m      4\u001b[0m         \u001b[0mdata_dict\u001b[0m\u001b[0;34m[\u001b[0m\u001b[0msym\u001b[0m\u001b[0;34m]\u001b[0m \u001b[0;34m=\u001b[0m \u001b[0;34m[\u001b[0m\u001b[0mX_train\u001b[0m\u001b[0;34m,\u001b[0m \u001b[0mX_test\u001b[0m\u001b[0;34m,\u001b[0m \u001b[0my_train\u001b[0m\u001b[0;34m,\u001b[0m \u001b[0my_test\u001b[0m\u001b[0;34m]\u001b[0m\u001b[0;34m\u001b[0m\u001b[0;34m\u001b[0m\u001b[0m\n\u001b[1;32m      5\u001b[0m         \u001b[0msleep\u001b[0m\u001b[0;34m(\u001b[0m\u001b[0;36m30\u001b[0m\u001b[0;34m)\u001b[0m\u001b[0;34m\u001b[0m\u001b[0;34m\u001b[0m\u001b[0m\n",
      "\u001b[0;32m<ipython-input-18-3ff9a14eb97d>\u001b[0m in \u001b[0;36mgenerate_df_fracdiff_target\u001b[0;34m(symbol, return_type, shift)\u001b[0m\n\u001b[1;32m      2\u001b[0m     \u001b[0;31m# Ininialize class\u001b[0m\u001b[0;34m\u001b[0m\u001b[0;34m\u001b[0m\u001b[0;34m\u001b[0m\u001b[0m\n\u001b[1;32m      3\u001b[0m     \u001b[0mdts\u001b[0m \u001b[0;34m=\u001b[0m \u001b[0mDailyTimeSeries\u001b[0m\u001b[0;34m(\u001b[0m\u001b[0msymbol\u001b[0m\u001b[0;34m)\u001b[0m\u001b[0;34m\u001b[0m\u001b[0;34m\u001b[0m\u001b[0m\n\u001b[0;32m----> 4\u001b[0;31m     \u001b[0mdf\u001b[0m \u001b[0;34m=\u001b[0m \u001b[0mdts\u001b[0m\u001b[0;34m.\u001b[0m\u001b[0minitiate\u001b[0m\u001b[0;34m(\u001b[0m\u001b[0;34m)\u001b[0m\u001b[0;34m\u001b[0m\u001b[0;34m\u001b[0m\u001b[0m\n\u001b[0m\u001b[1;32m      5\u001b[0m     \u001b[0mfuns\u001b[0m \u001b[0;34m=\u001b[0m \u001b[0;34m[\u001b[0m\u001b[0;34m'totalrevenue'\u001b[0m\u001b[0;34m,\u001b[0m  \u001b[0;34m'totalcostofrevenue'\u001b[0m\u001b[0;34m,\u001b[0m \u001b[0;34m'totalgrossprofit'\u001b[0m\u001b[0;34m,\u001b[0m \u001b[0;34m'totalpretaxincome'\u001b[0m\u001b[0;34m,\u001b[0m \u001b[0;34m'weightedavebasicdilutedsharesos'\u001b[0m\u001b[0;34m,\u001b[0m \u001b[0;34m'cashdividendspershare'\u001b[0m\u001b[0;34m]\u001b[0m\u001b[0;34m\u001b[0m\u001b[0;34m\u001b[0m\u001b[0m\n\u001b[1;32m      6\u001b[0m     \u001b[0mtechs\u001b[0m \u001b[0;34m=\u001b[0m \u001b[0;34m[\u001b[0m\u001b[0;34m'SMA'\u001b[0m\u001b[0;34m,\u001b[0m \u001b[0;34m'WMA'\u001b[0m\u001b[0;34m,\u001b[0m \u001b[0;34m'STOCH'\u001b[0m\u001b[0;34m,\u001b[0m \u001b[0;34m'ROC'\u001b[0m\u001b[0;34m,\u001b[0m \u001b[0;34m'AROON'\u001b[0m\u001b[0;34m]\u001b[0m\u001b[0;34m\u001b[0m\u001b[0;34m\u001b[0m\u001b[0m\n",
      "\u001b[0;32m/home/joe/Documents/LambdaSchool/labs_ir/repos/Data-Science/data/fin_data.py\u001b[0m in \u001b[0;36minitiate\u001b[0;34m(self)\u001b[0m\n\u001b[1;32m    113\u001b[0m         \u001b[0;31m# API Call\u001b[0m\u001b[0;34m\u001b[0m\u001b[0;34m\u001b[0m\u001b[0;34m\u001b[0m\u001b[0m\n\u001b[1;32m    114\u001b[0m         data, meta_data = ts.get_daily_adjusted(symbol=self.symbol,\n\u001b[0;32m--> 115\u001b[0;31m                                        outputsize=self.outputsize)\n\u001b[0m\u001b[1;32m    116\u001b[0m \u001b[0;34m\u001b[0m\u001b[0m\n\u001b[1;32m    117\u001b[0m         \u001b[0mdata\u001b[0m \u001b[0;34m=\u001b[0m \u001b[0mdata\u001b[0m\u001b[0;34m.\u001b[0m\u001b[0mdrop\u001b[0m\u001b[0;34m(\u001b[0m\u001b[0mcolumns\u001b[0m\u001b[0;34m=\u001b[0m\u001b[0;34m'8. split coefficient'\u001b[0m\u001b[0;34m)\u001b[0m\u001b[0;34m\u001b[0m\u001b[0;34m\u001b[0m\u001b[0m\n",
      "\u001b[0;32m/home/joe/PythonRoot/anaconda3/envs/riskylobster/lib/python3.6/site-packages/alpha_vantage/alphavantage.py\u001b[0m in \u001b[0;36m_format_wrapper\u001b[0;34m(self, *args, **kwargs)\u001b[0m\n\u001b[1;32m    159\u001b[0m         \u001b[0;32mdef\u001b[0m \u001b[0m_format_wrapper\u001b[0m\u001b[0;34m(\u001b[0m\u001b[0mself\u001b[0m\u001b[0;34m,\u001b[0m \u001b[0;34m*\u001b[0m\u001b[0margs\u001b[0m\u001b[0;34m,\u001b[0m \u001b[0;34m**\u001b[0m\u001b[0mkwargs\u001b[0m\u001b[0;34m)\u001b[0m\u001b[0;34m:\u001b[0m\u001b[0;34m\u001b[0m\u001b[0;34m\u001b[0m\u001b[0m\n\u001b[1;32m    160\u001b[0m             call_response, data_key, meta_data_key = func(\n\u001b[0;32m--> 161\u001b[0;31m                 self, *args, **kwargs)\n\u001b[0m\u001b[1;32m    162\u001b[0m             \u001b[0;32mif\u001b[0m \u001b[0;34m'json'\u001b[0m \u001b[0;32min\u001b[0m \u001b[0mself\u001b[0m\u001b[0;34m.\u001b[0m\u001b[0moutput_format\u001b[0m\u001b[0;34m.\u001b[0m\u001b[0mlower\u001b[0m\u001b[0;34m(\u001b[0m\u001b[0;34m)\u001b[0m \u001b[0;32mor\u001b[0m \u001b[0;34m'pandas'\u001b[0m\u001b[0;31m \u001b[0m\u001b[0;31m\\\u001b[0m\u001b[0;34m\u001b[0m\u001b[0;34m\u001b[0m\u001b[0m\n\u001b[1;32m    163\u001b[0m                     \u001b[0;32min\u001b[0m \u001b[0mself\u001b[0m\u001b[0;34m.\u001b[0m\u001b[0moutput_format\u001b[0m\u001b[0;34m.\u001b[0m\u001b[0mlower\u001b[0m\u001b[0;34m(\u001b[0m\u001b[0;34m)\u001b[0m\u001b[0;34m:\u001b[0m\u001b[0;34m\u001b[0m\u001b[0;34m\u001b[0m\u001b[0m\n",
      "\u001b[0;32m/home/joe/PythonRoot/anaconda3/envs/riskylobster/lib/python3.6/site-packages/alpha_vantage/alphavantage.py\u001b[0m in \u001b[0;36m_call_wrapper\u001b[0;34m(self, *args, **kwargs)\u001b[0m\n\u001b[1;32m    144\u001b[0m             \u001b[0;32melse\u001b[0m\u001b[0;34m:\u001b[0m\u001b[0;34m\u001b[0m\u001b[0;34m\u001b[0m\u001b[0m\n\u001b[1;32m    145\u001b[0m                 \u001b[0murl\u001b[0m \u001b[0;34m=\u001b[0m \u001b[0;34m'{}&apikey={}'\u001b[0m\u001b[0;34m.\u001b[0m\u001b[0mformat\u001b[0m\u001b[0;34m(\u001b[0m\u001b[0murl\u001b[0m\u001b[0;34m,\u001b[0m \u001b[0mself\u001b[0m\u001b[0;34m.\u001b[0m\u001b[0mkey\u001b[0m\u001b[0;34m)\u001b[0m\u001b[0;34m\u001b[0m\u001b[0;34m\u001b[0m\u001b[0m\n\u001b[0;32m--> 146\u001b[0;31m             \u001b[0;32mreturn\u001b[0m \u001b[0mself\u001b[0m\u001b[0;34m.\u001b[0m\u001b[0m_handle_api_call\u001b[0m\u001b[0;34m(\u001b[0m\u001b[0murl\u001b[0m\u001b[0;34m)\u001b[0m\u001b[0;34m,\u001b[0m \u001b[0mdata_key\u001b[0m\u001b[0;34m,\u001b[0m \u001b[0mmeta_data_key\u001b[0m\u001b[0;34m\u001b[0m\u001b[0;34m\u001b[0m\u001b[0m\n\u001b[0m\u001b[1;32m    147\u001b[0m         \u001b[0;32mreturn\u001b[0m \u001b[0m_call_wrapper\u001b[0m\u001b[0;34m\u001b[0m\u001b[0;34m\u001b[0m\u001b[0m\n\u001b[1;32m    148\u001b[0m \u001b[0;34m\u001b[0m\u001b[0m\n",
      "\u001b[0;32m/home/joe/PythonRoot/anaconda3/envs/riskylobster/lib/python3.6/site-packages/alpha_vantage/alphavantage.py\u001b[0m in \u001b[0;36m_handle_api_call\u001b[0;34m(self, url)\u001b[0m\n\u001b[1;32m    260\u001b[0m             \u001b[0mjson_response\u001b[0m \u001b[0;34m=\u001b[0m \u001b[0mresponse\u001b[0m\u001b[0;34m.\u001b[0m\u001b[0mjson\u001b[0m\u001b[0;34m(\u001b[0m\u001b[0;34m)\u001b[0m\u001b[0;34m\u001b[0m\u001b[0;34m\u001b[0m\u001b[0m\n\u001b[1;32m    261\u001b[0m             \u001b[0;32mif\u001b[0m \u001b[0;34m\"Error Message\"\u001b[0m \u001b[0;32min\u001b[0m \u001b[0mjson_response\u001b[0m\u001b[0;34m:\u001b[0m\u001b[0;34m\u001b[0m\u001b[0;34m\u001b[0m\u001b[0m\n\u001b[0;32m--> 262\u001b[0;31m                 \u001b[0;32mraise\u001b[0m \u001b[0mValueError\u001b[0m\u001b[0;34m(\u001b[0m\u001b[0mjson_response\u001b[0m\u001b[0;34m[\u001b[0m\u001b[0;34m\"Error Message\"\u001b[0m\u001b[0;34m]\u001b[0m\u001b[0;34m)\u001b[0m\u001b[0;34m\u001b[0m\u001b[0;34m\u001b[0m\u001b[0m\n\u001b[0m\u001b[1;32m    263\u001b[0m             \u001b[0;32melif\u001b[0m \u001b[0;34m\"Information\"\u001b[0m \u001b[0;32min\u001b[0m \u001b[0mjson_response\u001b[0m \u001b[0;32mand\u001b[0m \u001b[0mself\u001b[0m\u001b[0;34m.\u001b[0m\u001b[0mtreat_info_as_error\u001b[0m\u001b[0;34m:\u001b[0m\u001b[0;34m\u001b[0m\u001b[0;34m\u001b[0m\u001b[0m\n\u001b[1;32m    264\u001b[0m                 \u001b[0;32mraise\u001b[0m \u001b[0mValueError\u001b[0m\u001b[0;34m(\u001b[0m\u001b[0mjson_response\u001b[0m\u001b[0;34m[\u001b[0m\u001b[0;34m\"Information\"\u001b[0m\u001b[0;34m]\u001b[0m\u001b[0;34m)\u001b[0m\u001b[0;34m\u001b[0m\u001b[0;34m\u001b[0m\u001b[0m\n",
      "\u001b[0;31mValueError\u001b[0m: Invalid API call. Please retry or visit the documentation (https://www.alphavantage.co/documentation/) for TIME_SERIES_DAILY_ADJUSTED."
     ]
    }
   ],
   "source": [
    "for sym in sp500[:12]:\n",
    "    if sym not in data_dict.keys():\n",
    "        X_train, X_test, y_train, y_test = generate_df_fracdiff_target(sym, return_type='Xy_trte', shift=1)\n",
    "        data_dict[sym] = [X_train, X_test, y_train, y_test]\n",
    "        sleep(30)\n",
    "    else:\n",
    "        print('Already have data for ', sym)"
   ]
  },
  {
   "cell_type": "code",
   "execution_count": 20,
   "metadata": {},
   "outputs": [
    {
     "data": {
      "text/plain": [
       "dict_keys(['MMM', 'AOS'])"
      ]
     },
     "execution_count": 20,
     "metadata": {},
     "output_type": "execute_result"
    }
   ],
   "source": [
    "data_dict.keys()"
   ]
  },
  {
   "cell_type": "code",
   "execution_count": 21,
   "metadata": {},
   "outputs": [
    {
     "name": "stdout",
     "output_type": "stream",
     "text": [
      "(3439, 32)\n",
      "(860, 32)\n",
      "(3439, 1)\n",
      "(860, 1)\n",
      "(3439, 32)\n",
      "(860, 32)\n",
      "(3439, 1)\n",
      "(860, 1)\n"
     ]
    }
   ],
   "source": [
    "for k in data_dict.keys():\n",
    "    for i in data_dict[k]:\n",
    "        print(i.shape)"
   ]
  },
  {
   "cell_type": "code",
   "execution_count": null,
   "metadata": {},
   "outputs": [],
   "source": []
  }
 ],
 "metadata": {
  "kernelspec": {
   "display_name": "Python 3",
   "language": "python",
   "name": "python3"
  },
  "language_info": {
   "codemirror_mode": {
    "name": "ipython",
    "version": 3
   },
   "file_extension": ".py",
   "mimetype": "text/x-python",
   "name": "python",
   "nbconvert_exporter": "python",
   "pygments_lexer": "ipython3",
   "version": "3.6.9"
  }
 },
 "nbformat": 4,
 "nbformat_minor": 4
}

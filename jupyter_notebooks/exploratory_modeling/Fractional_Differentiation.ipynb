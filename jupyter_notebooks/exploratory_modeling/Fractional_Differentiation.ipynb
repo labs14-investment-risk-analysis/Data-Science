{
  "nbformat": 4,
  "nbformat_minor": 0,
  "metadata": {
    "colab": {
      "name": "Fractional Differentiation.ipynb",
      "version": "0.3.2",
      "provenance": []
    },
    "kernelspec": {
      "name": "python3",
      "display_name": "Python 3"
    }
  },
  "cells": [
    {
      "cell_type": "code",
      "metadata": {
        "id": "1hg-WwVPKAZ5",
        "colab_type": "code",
        "colab": {}
      },
      "source": [
        "import pandas as pd\n",
        "import numpy as np\n",
        "import matplotlib as mpl"
      ],
      "execution_count": 0,
      "outputs": []
    },
    {
      "cell_type": "code",
      "metadata": {
        "id": "jw1NaECVIXhq",
        "colab_type": "code",
        "colab": {}
      },
      "source": [
        "def getWeights(d,size):\n",
        "    # thres>0 drops insignificant weights\n",
        "   w=[1.]\n",
        "   for k in range(1,size):\n",
        "      w_=-w[-1]/k*(d-k+1)\n",
        "      w.append(w_) \n",
        "   w=np.array(w[::-1]).reshape(-1,1) \n",
        "   return w"
      ],
      "execution_count": 0,
      "outputs": []
    },
    {
      "cell_type": "code",
      "metadata": {
        "id": "iykdQtY_bLSV",
        "colab_type": "code",
        "colab": {
          "base_uri": "https://localhost:8080/",
          "height": 68
        },
        "outputId": "480b215a-504d-438f-c3e5-c90db0277e2d"
      },
      "source": [
        ""
      ],
      "execution_count": 37,
      "outputs": [
        {
          "output_type": "stream",
          "text": [
            "Collecting pickle\n",
            "\u001b[31m  ERROR: Could not find a version that satisfies the requirement pickle (from versions: none)\u001b[0m\n",
            "\u001b[31mERROR: No matching distribution found for pickle\u001b[0m\n"
          ],
          "name": "stdout"
        }
      ]
    },
    {
      "cell_type": "code",
      "metadata": {
        "id": "xu0E2DLka5Wc",
        "colab_type": "code",
        "colab": {
          "base_uri": "https://localhost:8080/",
          "height": 51
        },
        "outputId": "08e96a48-ebf2-44c0-b035-7b7f1941c612"
      },
      "source": [
        "\n",
        "\n",
        "%load_ext autoreload\n",
        "%autoreload 2\n",
        "# import standard libs\n",
        "import warnings\n",
        "warnings.filterwarnings(\"ignore\")\n",
        "from IPython.display import display\n",
        "from IPython.core.debugger import set_trace as bp\n",
        "from pathlib import PurePath, Path\n",
        "\n",
        "# import python scientific stack\n",
        "import pandas as pd\n",
        "pd.set_option('display.max_rows', 100)\n",
        "from dask import dataframe as dd\n",
        "from dask.diagnostics import ProgressBar\n",
        "pbar = ProgressBar()\n",
        "pbar.register()\n",
        "import multiprocessing as mp\n",
        "from multiprocessing import cpu_count \n",
        "import numpy as np\n",
        "import scipy.stats as stats\n",
        "import statsmodels.api as sm\n",
        "import numba as nb\n",
        "import math\n",
        "from theano import shared, theano as tt\n",
        "\n",
        "# import visual tools\n",
        "import matplotlib as mpl\n",
        "import matplotlib.pyplot as plt\n",
        "import matplotlib.gridspec as gridspec\n",
        "%matplotlib inline\n",
        "import seaborn as sns\n",
        "import plotnine as pn\n",
        "\n",
        "plt.style.use('seaborn-talk')\n",
        "plt.style.use('bmh')\n",
        "#plt.rcParams['font.family'] = 'DejaVu Sans Mono'\n",
        "plt.rcParams['font.size'] = 9.5\n",
        "plt.rcParams['font.weight'] = 'medium'\n",
        "plt.rcParams['figure.figsize'] = 10,7\n",
        "blue, green, red, purple, gold, teal = sns.color_palette('colorblind', 6)\n",
        "\n",
        "# import util libs\n",
        "from tqdm import tqdm, tqdm_notebook\n",
        "import missingno as msno\n",
        "\n",
        "\n",
        "RANDOM_STATE = 777\n",
        "\n",
        "\n"
      ],
      "execution_count": 45,
      "outputs": [
        {
          "output_type": "stream",
          "text": [
            "The autoreload extension is already loaded. To reload it, use:\n",
            "  %reload_ext autoreload\n"
          ],
          "name": "stdout"
        }
      ]
    },
    {
      "cell_type": "code",
      "metadata": {
        "id": "KeuiKfbhImkt",
        "colab_type": "code",
        "colab": {}
      },
      "source": [
        "\n",
        "def getWeights(d,size):\n",
        "    # thres>0 drops insignificant weights\n",
        "    w=[1.]\n",
        "    for k in range(1,size):\n",
        "        w_ = -w[-1]/k*(d-k+1)\n",
        "        w.append(w_)\n",
        "    w=np.array(w[::-1]).reshape(-1,1)\n",
        "    return w "
      ],
      "execution_count": 0,
      "outputs": []
    },
    {
      "cell_type": "code",
      "metadata": {
        "id": "z2kg1Q9WJmaH",
        "colab_type": "code",
        "colab": {}
      },
      "source": [
        "def fracDiff(series, d, thres=0.01):\n",
        "    '''\n",
        "    Increasing width window, with treatment of NaNs\n",
        "    Note 1: For thres=1, nothing is skipped\n",
        "    Note 2: d can be any positive fractional, not necessarily\n",
        "        bounded between [0,1]\n",
        "    '''\n",
        "    #1) Compute weights for the longest series\n",
        "    w=getWeights(d, series.shape[0])\n",
        "    #bp()\n",
        "    #2) Determine initial calcs to be skipped based on weight-loss threshold\n",
        "    w_=np.cumsum(abs(w))\n",
        "    w_ /= w_[-1]\n",
        "    skip = w_[w_>thres].shape[0]\n",
        "    #3) Apply weights to values\n",
        "    df={}\n",
        "    for name in series.columns:\n",
        "        seriesF, df_=series[[name]].fillna(method='ffill').dropna(), pd.Series()\n",
        "        for iloc in range(skip, seriesF.shape[0]):\n",
        "            loc=seriesF.index[iloc]\n",
        "            test_val = series.loc[loc,name] # must resample if duplicate index\n",
        "            if isinstance(test_val, (pd.Series, pd.DataFrame)):\n",
        "                test_val = test_val.resample('1m').mean()\n",
        "            if not np.isfinite(test_val).any(): continue # exclude NAs\n",
        "            try:\n",
        "                df_.loc[loc]=np.dot(w[-(iloc+1):,:].T, seriesF.loc[:loc])[0,0]\n",
        "            except:\n",
        "                continue\n",
        "        df[name]=df_.copy(deep=True)\n",
        "    df=pd.concat(df,axis=1)\n",
        "    return df"
      ],
      "execution_count": 0,
      "outputs": []
    },
    {
      "cell_type": "code",
      "metadata": {
        "id": "AFQmdNkSHPmI",
        "colab_type": "code",
        "colab": {}
      },
      "source": [
        ""
      ],
      "execution_count": 0,
      "outputs": []
    }
  ]
}
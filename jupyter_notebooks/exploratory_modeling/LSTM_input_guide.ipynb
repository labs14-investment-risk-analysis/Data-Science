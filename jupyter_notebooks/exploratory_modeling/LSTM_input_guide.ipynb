{
 "cells": [
  {
   "cell_type": "markdown",
   "metadata": {},
   "source": [
    "# LSTM Input Guide\n",
    "\n",
    "Recurrent Neural Networks require a specific type of 3-dimensional array. During the Lambda curriculumn, we covered RNN's for text generation and thus we used the `pad_squences` generator. Since we are attempting time-series projection we need to use the `time_series_generator` from `keras.preprocessing.sequence`."
   ]
  },
  {
   "cell_type": "code",
   "execution_count": 1,
   "metadata": {},
   "outputs": [
    {
     "name": "stdout",
     "output_type": "stream",
     "text": [
      "/Users/azel/github/Data-Science/jupyter_notebooks\n",
      "/Users/azel/github/Data-Science\n",
      "/Users/azel/github/Data-Science/data\n"
     ]
    }
   ],
   "source": [
    "%cd ..\n",
    "%cd .. \n",
    "%cd data"
   ]
  },
  {
   "cell_type": "code",
   "execution_count": 77,
   "metadata": {},
   "outputs": [],
   "source": [
    "from fin_data import DailyTimeSeries\n",
    "import numpy as np"
   ]
  },
  {
   "cell_type": "code",
   "execution_count": 11,
   "metadata": {},
   "outputs": [
    {
     "name": "stdout",
     "output_type": "stream",
     "text": [
      "################################################################### \n",
      " Ticker:  AAPL \n",
      " Last Refreshed:  2019-09-23 13:27:48 \n",
      " Data Retrieved:  Daily Time Series with Splits and Dividend Events \n",
      " ###################################################################\n"
     ]
    },
    {
     "data": {
      "text/html": [
       "<div>\n",
       "<style scoped>\n",
       "    .dataframe tbody tr th:only-of-type {\n",
       "        vertical-align: middle;\n",
       "    }\n",
       "\n",
       "    .dataframe tbody tr th {\n",
       "        vertical-align: top;\n",
       "    }\n",
       "\n",
       "    .dataframe thead th {\n",
       "        text-align: right;\n",
       "    }\n",
       "</style>\n",
       "<table border=\"1\" class=\"dataframe\">\n",
       "  <thead>\n",
       "    <tr style=\"text-align: right;\">\n",
       "      <th></th>\n",
       "      <th>AAPL_open</th>\n",
       "      <th>AAPL_high</th>\n",
       "      <th>AAPL_low</th>\n",
       "      <th>AAPL_close</th>\n",
       "      <th>AAPL_adjusted_close</th>\n",
       "      <th>AAPL_volume</th>\n",
       "      <th>AAPL_dividend_amount</th>\n",
       "    </tr>\n",
       "    <tr>\n",
       "      <th>date</th>\n",
       "      <th></th>\n",
       "      <th></th>\n",
       "      <th></th>\n",
       "      <th></th>\n",
       "      <th></th>\n",
       "      <th></th>\n",
       "      <th></th>\n",
       "    </tr>\n",
       "  </thead>\n",
       "  <tbody>\n",
       "    <tr>\n",
       "      <td>1999-09-21</td>\n",
       "      <td>73.188</td>\n",
       "      <td>73.250</td>\n",
       "      <td>69.000</td>\n",
       "      <td>69.250</td>\n",
       "      <td>2.1584</td>\n",
       "      <td>839389600.0</td>\n",
       "      <td>0.0</td>\n",
       "    </tr>\n",
       "    <tr>\n",
       "      <td>1999-09-22</td>\n",
       "      <td>69.750</td>\n",
       "      <td>71.625</td>\n",
       "      <td>69.016</td>\n",
       "      <td>70.313</td>\n",
       "      <td>2.1915</td>\n",
       "      <td>280792400.0</td>\n",
       "      <td>0.0</td>\n",
       "    </tr>\n",
       "    <tr>\n",
       "      <td>1999-09-23</td>\n",
       "      <td>71.125</td>\n",
       "      <td>71.250</td>\n",
       "      <td>63.000</td>\n",
       "      <td>63.313</td>\n",
       "      <td>1.9733</td>\n",
       "      <td>285938800.0</td>\n",
       "      <td>0.0</td>\n",
       "    </tr>\n",
       "    <tr>\n",
       "      <td>1999-09-24</td>\n",
       "      <td>63.375</td>\n",
       "      <td>67.016</td>\n",
       "      <td>63.000</td>\n",
       "      <td>64.938</td>\n",
       "      <td>2.0240</td>\n",
       "      <td>294968800.0</td>\n",
       "      <td>0.0</td>\n",
       "    </tr>\n",
       "    <tr>\n",
       "      <td>1999-09-27</td>\n",
       "      <td>66.375</td>\n",
       "      <td>66.750</td>\n",
       "      <td>61.188</td>\n",
       "      <td>61.313</td>\n",
       "      <td>1.9110</td>\n",
       "      <td>237048000.0</td>\n",
       "      <td>0.0</td>\n",
       "    </tr>\n",
       "  </tbody>\n",
       "</table>\n",
       "</div>"
      ],
      "text/plain": [
       "            AAPL_open  AAPL_high  AAPL_low  AAPL_close  AAPL_adjusted_close  \\\n",
       "date                                                                          \n",
       "1999-09-21     73.188     73.250    69.000      69.250               2.1584   \n",
       "1999-09-22     69.750     71.625    69.016      70.313               2.1915   \n",
       "1999-09-23     71.125     71.250    63.000      63.313               1.9733   \n",
       "1999-09-24     63.375     67.016    63.000      64.938               2.0240   \n",
       "1999-09-27     66.375     66.750    61.188      61.313               1.9110   \n",
       "\n",
       "            AAPL_volume  AAPL_dividend_amount  \n",
       "date                                           \n",
       "1999-09-21  839389600.0                   0.0  \n",
       "1999-09-22  280792400.0                   0.0  \n",
       "1999-09-23  285938800.0                   0.0  \n",
       "1999-09-24  294968800.0                   0.0  \n",
       "1999-09-27  237048000.0                   0.0  "
      ]
     },
     "execution_count": 11,
     "metadata": {},
     "output_type": "execute_result"
    }
   ],
   "source": [
    "apple = DailyTimeSeries('AAPL')\n",
    "df = apple.initiate()\n",
    "df.head()"
   ]
  },
  {
   "cell_type": "markdown",
   "metadata": {},
   "source": [
    "The documentation for the TimeSeriesGenerator looks like this:"
   ]
  },
  {
   "cell_type": "code",
   "execution_count": 10,
   "metadata": {},
   "outputs": [
    {
     "data": {
      "text/plain": [
       "\u001b[0;31mInit signature:\u001b[0m\n",
       "\u001b[0mTimeseriesGenerator\u001b[0m\u001b[0;34m(\u001b[0m\u001b[0;34m\u001b[0m\n",
       "\u001b[0;34m\u001b[0m    \u001b[0mdata\u001b[0m\u001b[0;34m,\u001b[0m\u001b[0;34m\u001b[0m\n",
       "\u001b[0;34m\u001b[0m    \u001b[0mtargets\u001b[0m\u001b[0;34m,\u001b[0m\u001b[0;34m\u001b[0m\n",
       "\u001b[0;34m\u001b[0m    \u001b[0mlength\u001b[0m\u001b[0;34m,\u001b[0m\u001b[0;34m\u001b[0m\n",
       "\u001b[0;34m\u001b[0m    \u001b[0msampling_rate\u001b[0m\u001b[0;34m=\u001b[0m\u001b[0;36m1\u001b[0m\u001b[0;34m,\u001b[0m\u001b[0;34m\u001b[0m\n",
       "\u001b[0;34m\u001b[0m    \u001b[0mstride\u001b[0m\u001b[0;34m=\u001b[0m\u001b[0;36m1\u001b[0m\u001b[0;34m,\u001b[0m\u001b[0;34m\u001b[0m\n",
       "\u001b[0;34m\u001b[0m    \u001b[0mstart_index\u001b[0m\u001b[0;34m=\u001b[0m\u001b[0;36m0\u001b[0m\u001b[0;34m,\u001b[0m\u001b[0;34m\u001b[0m\n",
       "\u001b[0;34m\u001b[0m    \u001b[0mend_index\u001b[0m\u001b[0;34m=\u001b[0m\u001b[0;32mNone\u001b[0m\u001b[0;34m,\u001b[0m\u001b[0;34m\u001b[0m\n",
       "\u001b[0;34m\u001b[0m    \u001b[0mshuffle\u001b[0m\u001b[0;34m=\u001b[0m\u001b[0;32mFalse\u001b[0m\u001b[0;34m,\u001b[0m\u001b[0;34m\u001b[0m\n",
       "\u001b[0;34m\u001b[0m    \u001b[0mreverse\u001b[0m\u001b[0;34m=\u001b[0m\u001b[0;32mFalse\u001b[0m\u001b[0;34m,\u001b[0m\u001b[0;34m\u001b[0m\n",
       "\u001b[0;34m\u001b[0m    \u001b[0mbatch_size\u001b[0m\u001b[0;34m=\u001b[0m\u001b[0;36m128\u001b[0m\u001b[0;34m,\u001b[0m\u001b[0;34m\u001b[0m\n",
       "\u001b[0;34m\u001b[0m\u001b[0;34m)\u001b[0m\u001b[0;34m\u001b[0m\u001b[0;34m\u001b[0m\u001b[0m\n",
       "\u001b[0;31mSource:\u001b[0m        \n",
       "\u001b[0;32mclass\u001b[0m \u001b[0mTimeseriesGenerator\u001b[0m\u001b[0;34m(\u001b[0m\u001b[0msequence\u001b[0m\u001b[0;34m.\u001b[0m\u001b[0mTimeseriesGenerator\u001b[0m\u001b[0;34m,\u001b[0m \u001b[0mutils\u001b[0m\u001b[0;34m.\u001b[0m\u001b[0mSequence\u001b[0m\u001b[0;34m)\u001b[0m\u001b[0;34m:\u001b[0m\u001b[0;34m\u001b[0m\n",
       "\u001b[0;34m\u001b[0m    \u001b[0;34m\"\"\"Utility class for generating batches of temporal data.\u001b[0m\n",
       "\u001b[0;34m\u001b[0m\n",
       "\u001b[0;34m    This class takes in a sequence of data-points gathered at\u001b[0m\n",
       "\u001b[0;34m    equal intervals, along with time series parameters such as\u001b[0m\n",
       "\u001b[0;34m    stride, length of history, etc., to produce batches for\u001b[0m\n",
       "\u001b[0;34m    training/validation.\u001b[0m\n",
       "\u001b[0;34m\u001b[0m\n",
       "\u001b[0;34m    # Arguments\u001b[0m\n",
       "\u001b[0;34m        data: Indexable generator (such as list or Numpy array)\u001b[0m\n",
       "\u001b[0;34m            containing consecutive data points (timesteps).\u001b[0m\n",
       "\u001b[0;34m            The data should be at 2D, and axis 0 is expected\u001b[0m\n",
       "\u001b[0;34m            to be the time dimension.\u001b[0m\n",
       "\u001b[0;34m        targets: Targets corresponding to timesteps in `data`.\u001b[0m\n",
       "\u001b[0;34m            It should have same length as `data`.\u001b[0m\n",
       "\u001b[0;34m        length: Length of the output sequences (in number of timesteps).\u001b[0m\n",
       "\u001b[0;34m        sampling_rate: Period between successive individual timesteps\u001b[0m\n",
       "\u001b[0;34m            within sequences. For rate `r`, timesteps\u001b[0m\n",
       "\u001b[0;34m            `data[i]`, `data[i-r]`, ... `data[i - length]`\u001b[0m\n",
       "\u001b[0;34m            are used for create a sample sequence.\u001b[0m\n",
       "\u001b[0;34m        stride: Period between successive output sequences.\u001b[0m\n",
       "\u001b[0;34m            For stride `s`, consecutive output samples would\u001b[0m\n",
       "\u001b[0;34m            be centered around `data[i]`, `data[i+s]`, `data[i+2*s]`, etc.\u001b[0m\n",
       "\u001b[0;34m        start_index: Data points earlier than `start_index` will not be used\u001b[0m\n",
       "\u001b[0;34m            in the output sequences. This is useful to reserve part of the\u001b[0m\n",
       "\u001b[0;34m            data for test or validation.\u001b[0m\n",
       "\u001b[0;34m        end_index: Data points later than `end_index` will not be used\u001b[0m\n",
       "\u001b[0;34m            in the output sequences. This is useful to reserve part of the\u001b[0m\n",
       "\u001b[0;34m            data for test or validation.\u001b[0m\n",
       "\u001b[0;34m        shuffle: Whether to shuffle output samples,\u001b[0m\n",
       "\u001b[0;34m            or instead draw them in chronological order.\u001b[0m\n",
       "\u001b[0;34m        reverse: Boolean: if `true`, timesteps in each output sample will be\u001b[0m\n",
       "\u001b[0;34m            in reverse chronological order.\u001b[0m\n",
       "\u001b[0;34m        batch_size: Number of timeseries samples in each batch\u001b[0m\n",
       "\u001b[0;34m            (except maybe the last one).\u001b[0m\n",
       "\u001b[0;34m\u001b[0m\n",
       "\u001b[0;34m    # Returns\u001b[0m\n",
       "\u001b[0;34m        A [Sequence](/utils/#sequence) instance.\u001b[0m\n",
       "\u001b[0;34m\u001b[0m\n",
       "\u001b[0;34m    # Examples\u001b[0m\n",
       "\u001b[0;34m\u001b[0m\n",
       "\u001b[0;34m    ```python\u001b[0m\n",
       "\u001b[0;34m    from keras.preprocessing.sequence import TimeseriesGenerator\u001b[0m\n",
       "\u001b[0;34m    import numpy as np\u001b[0m\n",
       "\u001b[0;34m\u001b[0m\n",
       "\u001b[0;34m    data = np.array([[i] for i in range(50)])\u001b[0m\n",
       "\u001b[0;34m    targets = np.array([[i] for i in range(50)])\u001b[0m\n",
       "\u001b[0;34m\u001b[0m\n",
       "\u001b[0;34m    data_gen = TimeseriesGenerator(data, targets,\u001b[0m\n",
       "\u001b[0;34m                                   length=10, sampling_rate=2,\u001b[0m\n",
       "\u001b[0;34m                                   batch_size=2)\u001b[0m\n",
       "\u001b[0;34m    assert len(data_gen) == 20\u001b[0m\n",
       "\u001b[0;34m\u001b[0m\n",
       "\u001b[0;34m    batch_0 = data_gen[0]\u001b[0m\n",
       "\u001b[0;34m    x, y = batch_0\u001b[0m\n",
       "\u001b[0;34m    assert np.array_equal(x,\u001b[0m\n",
       "\u001b[0;34m                          np.array([[[0], [2], [4], [6], [8]],\u001b[0m\n",
       "\u001b[0;34m                                    [[1], [3], [5], [7], [9]]]))\u001b[0m\n",
       "\u001b[0;34m    assert np.array_equal(y,\u001b[0m\n",
       "\u001b[0;34m                          np.array([[10], [11]]))\u001b[0m\n",
       "\u001b[0;34m    ```\u001b[0m\n",
       "\u001b[0;34m    \"\"\"\u001b[0m\u001b[0;34m\u001b[0m\n",
       "\u001b[0;34m\u001b[0m    \u001b[0;32mpass\u001b[0m\u001b[0;34m\u001b[0m\u001b[0;34m\u001b[0m\u001b[0m\n",
       "\u001b[0;31mFile:\u001b[0m           //anaconda3/envs/black_swan/lib/python3.7/site-packages/keras/preprocessing/sequence.py\n",
       "\u001b[0;31mType:\u001b[0m           type\n",
       "\u001b[0;31mSubclasses:\u001b[0m     \n"
      ]
     },
     "metadata": {},
     "output_type": "display_data"
    }
   ],
   "source": [
    "from keras.preprocessing.sequence import TimeseriesGenerator\n",
    "??TimeseriesGenerator"
   ]
  },
  {
   "cell_type": "code",
   "execution_count": 89,
   "metadata": {},
   "outputs": [],
   "source": [
    "X = df.values\n",
    "y = df['AAPL_close'].values\n",
    "\n",
    "data_gen = TimeseriesGenerator(X, y, \n",
    "                               length=4,\n",
    "                               sampling_rate=1, \n",
    "                               stride=1, \n",
    "                               batch_size=1)"
   ]
  },
  {
   "cell_type": "code",
   "execution_count": 90,
   "metadata": {},
   "outputs": [],
   "source": [
    "a, b = data_gen[0]"
   ]
  },
  {
   "cell_type": "code",
   "execution_count": 91,
   "metadata": {},
   "outputs": [
    {
     "data": {
      "text/plain": [
       "array([[[7.318800e+01, 7.325000e+01, 6.900000e+01, 6.925000e+01,\n",
       "         2.158400e+00, 8.393896e+08, 0.000000e+00],\n",
       "        [6.975000e+01, 7.162500e+01, 6.901600e+01, 7.031300e+01,\n",
       "         2.191500e+00, 2.807924e+08, 0.000000e+00],\n",
       "        [7.112500e+01, 7.125000e+01, 6.300000e+01, 6.331300e+01,\n",
       "         1.973300e+00, 2.859388e+08, 0.000000e+00],\n",
       "        [6.337500e+01, 6.701600e+01, 6.300000e+01, 6.493800e+01,\n",
       "         2.024000e+00, 2.949688e+08, 0.000000e+00]]])"
      ]
     },
     "execution_count": 91,
     "metadata": {},
     "output_type": "execute_result"
    }
   ],
   "source": [
    "a"
   ]
  },
  {
   "cell_type": "code",
   "execution_count": 92,
   "metadata": {},
   "outputs": [
    {
     "data": {
      "text/plain": [
       "array([61.313])"
      ]
     },
     "execution_count": 92,
     "metadata": {},
     "output_type": "execute_result"
    }
   ],
   "source": [
    "b"
   ]
  },
  {
   "cell_type": "markdown",
   "metadata": {},
   "source": [
    "So as was demonstrated, the Keras TimeSeriesGenerator creates a generator-like object that engineers each successive time-step as well as the target time step. You do not have to shift the target before inputting it into the generator. \n",
    "\n",
    "When projecting single day time-series, you'll want to keep most of the parameters at `1`. Length is the only parameter you should play with, as it is the length of each sample of time-steps. If you want to project into several days into the future (which is the advantage provided by an LSTM over Gradient Boosting for Time Series Projection), change the `batch size`. \n",
    "\n",
    "You can also use `stride` to project far in the future as well. \n",
    "\n",
    "### Extracting Data from the Generator\n",
    "\n",
    "When using a Keras Preprocessing Generator, you can use the `fit_generator` method to fit the model. However, if you want to extract data from the Generator, you can use this function:"
   ]
  },
  {
   "cell_type": "code",
   "execution_count": 93,
   "metadata": {},
   "outputs": [],
   "source": [
    "def extract_data(generator):\n",
    "    for i in np.arange(len(generator)):\n",
    "        if i == 0:\n",
    "            a, b = generator[i]\n",
    "        else: \n",
    "            c, d = generator[i]\n",
    "\n",
    "            a = np.vstack((a, c))\n",
    "            b = np.vstack((b, d))\n",
    "            \n",
    "    return a, b"
   ]
  },
  {
   "cell_type": "code",
   "execution_count": 94,
   "metadata": {},
   "outputs": [],
   "source": [
    "ext_X, ext_y = extract_data(data_gen)"
   ]
  },
  {
   "cell_type": "code",
   "execution_count": 95,
   "metadata": {},
   "outputs": [
    {
     "data": {
      "text/plain": [
       "((5030, 4, 7), (5030, 1))"
      ]
     },
     "execution_count": 95,
     "metadata": {},
     "output_type": "execute_result"
    }
   ],
   "source": [
    "ext_X.shape, ext_y.shape"
   ]
  },
  {
   "cell_type": "markdown",
   "metadata": {},
   "source": [
    "This function does not work with batch_size > 1"
   ]
  }
 ],
 "metadata": {
  "kernelspec": {
   "display_name": "Python 3",
   "language": "python",
   "name": "python3"
  },
  "language_info": {
   "codemirror_mode": {
    "name": "ipython",
    "version": 3
   },
   "file_extension": ".py",
   "mimetype": "text/x-python",
   "name": "python",
   "nbconvert_exporter": "python",
   "pygments_lexer": "ipython3",
   "version": "3.7.3"
  }
 },
 "nbformat": 4,
 "nbformat_minor": 4
}

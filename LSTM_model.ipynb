{
 "cells": [
  {
   "cell_type": "code",
   "execution_count": 131,
   "metadata": {},
   "outputs": [],
   "source": [
    "from fin_data_fundamentals import find_fundamentals\n",
    "from fin_data_fundamentals import get_fundamentals\n",
    "from alpha_vantage.foreignexchange import ForeignExchange\n",
    "from alpha_vantage.techindicators import TechIndicators\n",
    "from alpha_vantage.timeseries import TimeSeries\n",
    "from decouple import config\n",
    "import pandas as pd\n",
    "import numpy as np\n",
    "import quandl\n",
    "import datetime"
   ]
  },
  {
   "cell_type": "code",
   "execution_count": 132,
   "metadata": {},
   "outputs": [
    {
     "name": "stdout",
     "output_type": "stream",
     "text": [
      "Requirement already satisfied: keras==2.1.2 in c:\\users\\billi\\anaconda3\\lib\\site-packages (2.1.2)\n",
      "Requirement already satisfied: scipy>=0.14 in c:\\users\\billi\\anaconda3\\lib\\site-packages (from keras==2.1.2) (1.2.1)\n",
      "Requirement already satisfied: numpy>=1.9.1 in c:\\users\\billi\\anaconda3\\lib\\site-packages (from keras==2.1.2) (1.16.2)\n",
      "Requirement already satisfied: six>=1.9.0 in c:\\users\\billi\\anaconda3\\lib\\site-packages (from keras==2.1.2) (1.12.0)\n",
      "Requirement already satisfied: pyyaml in c:\\users\\billi\\anaconda3\\lib\\site-packages (from keras==2.1.2) (5.1)\n"
     ]
    }
   ],
   "source": [
    "!pip install keras==2.1.2"
   ]
  },
  {
   "cell_type": "code",
   "execution_count": 133,
   "metadata": {},
   "outputs": [],
   "source": [
    "from fin_data import DailyTimeSeries"
   ]
  },
  {
   "cell_type": "code",
   "execution_count": 134,
   "metadata": {},
   "outputs": [
    {
     "name": "stdout",
     "output_type": "stream",
     "text": [
      "################################################################### \n",
      " Ticker:  TSLA \n",
      " Last Refreshed:  2019-08-28 13:39:21 \n",
      " Data Retrieved:  Daily Prices (open, high, low, close) and Volumes \n",
      " ###################################################################\n"
     ]
    }
   ],
   "source": [
    "tesla = DailyTimeSeries('TSLA')\n",
    "\n",
    "df = tesla.initiate()"
   ]
  },
  {
   "cell_type": "code",
   "execution_count": 135,
   "metadata": {},
   "outputs": [
    {
     "data": {
      "text/html": [
       "<div>\n",
       "<style scoped>\n",
       "    .dataframe tbody tr th:only-of-type {\n",
       "        vertical-align: middle;\n",
       "    }\n",
       "\n",
       "    .dataframe tbody tr th {\n",
       "        vertical-align: top;\n",
       "    }\n",
       "\n",
       "    .dataframe thead th {\n",
       "        text-align: right;\n",
       "    }\n",
       "</style>\n",
       "<table border=\"1\" class=\"dataframe\">\n",
       "  <thead>\n",
       "    <tr style=\"text-align: right;\">\n",
       "      <th></th>\n",
       "      <th>TSLA open</th>\n",
       "      <th>TSLA high</th>\n",
       "      <th>TSLA low</th>\n",
       "      <th>TSLA close</th>\n",
       "      <th>TSLA volume</th>\n",
       "    </tr>\n",
       "    <tr>\n",
       "      <th>date</th>\n",
       "      <th></th>\n",
       "      <th></th>\n",
       "      <th></th>\n",
       "      <th></th>\n",
       "      <th></th>\n",
       "    </tr>\n",
       "  </thead>\n",
       "  <tbody>\n",
       "    <tr>\n",
       "      <th>2010-06-29</th>\n",
       "      <td>19.00</td>\n",
       "      <td>24.9984</td>\n",
       "      <td>17.54</td>\n",
       "      <td>23.89</td>\n",
       "      <td>18766300.0</td>\n",
       "    </tr>\n",
       "    <tr>\n",
       "      <th>2010-06-30</th>\n",
       "      <td>25.79</td>\n",
       "      <td>30.4190</td>\n",
       "      <td>23.30</td>\n",
       "      <td>23.83</td>\n",
       "      <td>17187100.0</td>\n",
       "    </tr>\n",
       "    <tr>\n",
       "      <th>2010-07-01</th>\n",
       "      <td>25.00</td>\n",
       "      <td>25.9200</td>\n",
       "      <td>20.27</td>\n",
       "      <td>21.96</td>\n",
       "      <td>8218800.0</td>\n",
       "    </tr>\n",
       "    <tr>\n",
       "      <th>2010-07-02</th>\n",
       "      <td>23.00</td>\n",
       "      <td>23.0998</td>\n",
       "      <td>18.71</td>\n",
       "      <td>19.20</td>\n",
       "      <td>5139800.0</td>\n",
       "    </tr>\n",
       "    <tr>\n",
       "      <th>2010-07-06</th>\n",
       "      <td>20.00</td>\n",
       "      <td>20.0000</td>\n",
       "      <td>15.83</td>\n",
       "      <td>16.11</td>\n",
       "      <td>6866900.0</td>\n",
       "    </tr>\n",
       "  </tbody>\n",
       "</table>\n",
       "</div>"
      ],
      "text/plain": [
       "            TSLA open  TSLA high  TSLA low  TSLA close  TSLA volume\n",
       "date                                                               \n",
       "2010-06-29      19.00    24.9984     17.54       23.89   18766300.0\n",
       "2010-06-30      25.79    30.4190     23.30       23.83   17187100.0\n",
       "2010-07-01      25.00    25.9200     20.27       21.96    8218800.0\n",
       "2010-07-02      23.00    23.0998     18.71       19.20    5139800.0\n",
       "2010-07-06      20.00    20.0000     15.83       16.11    6866900.0"
      ]
     },
     "execution_count": 135,
     "metadata": {},
     "output_type": "execute_result"
    }
   ],
   "source": [
    "df.head()"
   ]
  },
  {
   "cell_type": "code",
   "execution_count": 136,
   "metadata": {},
   "outputs": [],
   "source": [
    "macro_list = [\"housing_index\", \"trade_index\", \"confidence_index\", \"longterm_rates\"]"
   ]
  },
  {
   "cell_type": "code",
   "execution_count": 137,
   "metadata": {},
   "outputs": [
    {
     "name": "stdout",
     "output_type": "stream",
     "text": [
      "################################################################### \n",
      " Index: Nominal Home Price Index Added \n",
      " ###################################################################\n"
     ]
    },
    {
     "name": "stderr",
     "output_type": "stream",
     "text": [
      "C:\\Users\\Billi\\repos\\market_makers\\Data-Science\\data\\fin_data.py:293: UserWarning: The latest value available for Housing Index is from January 2019.\n",
      "  warnings.warn(\"The latest value available for Housing Index is from January 2019.\")\n"
     ]
    },
    {
     "name": "stdout",
     "output_type": "stream",
     "text": [
      "################################################################### \n",
      " Trade Weighted U.S. Dollar Index: Broad Added \n",
      " ###################################################################\n",
      "################################################################### \n",
      " Index: Yale Investor Behavior Project Added \n",
      " ###################################################################\n",
      "################################################################### \n",
      " US Treasury Bond Long-Term Rates Added \n",
      " ###################################################################\n"
     ]
    }
   ],
   "source": [
    "df = tesla.add_macro(df, macro_list)"
   ]
  },
  {
   "cell_type": "code",
   "execution_count": 138,
   "metadata": {},
   "outputs": [],
   "source": [
    "fund_list = [\"operatingrevenue\", \"totalrevenue\", \"netincome\", \"totaloperatingexpenses\", \"totalgrossprofit\", \"totaloperatingincome\"]"
   ]
  },
  {
   "cell_type": "code",
   "execution_count": 139,
   "metadata": {},
   "outputs": [
    {
     "name": "stdout",
     "output_type": "stream",
     "text": [
      "################################################################### \n",
      " Ticker:  TSLA \n",
      " Fundamentals Retrieved:  ['TSLA open' 'TSLA high' 'TSLA low' 'TSLA close' 'TSLA volume'\n",
      " 'housing_index' 'trade_value' 'conf_index' 'conf_index_SE' '10 Yrs Rates'\n",
      " '20-Yr Maturity Rate' 'TSLA_operatingrevenue' 'TSLA_totalrevenue'\n",
      " 'TSLA_netincome' 'TSLA_totaloperatingexpenses' 'TSLA_totalgrossprofit'\n",
      " 'TSLA_totaloperatingincome'] \n",
      " ###################################################################\n",
      "################################################################### \n",
      " Ticker:  TSLA \n",
      " Retrieved Data Start Date:  2011-11-14 \n",
      " Retrieved Data End Date:  2019-07-29 \n",
      " Data Retrieved:  ['TSLA_operatingrevenue', 'TSLA_totalrevenue', 'TSLA_netincome', 'TSLA_totaloperatingexpenses', 'TSLA_totalgrossprofit', 'TSLA_totaloperatingincome'] \n",
      " ###################################################################\n"
     ]
    }
   ],
   "source": [
    "df = tesla.add_fundamentals(df, fund_list)"
   ]
  },
  {
   "cell_type": "code",
   "execution_count": 140,
   "metadata": {},
   "outputs": [
    {
     "data": {
      "text/html": [
       "<div>\n",
       "<style scoped>\n",
       "    .dataframe tbody tr th:only-of-type {\n",
       "        vertical-align: middle;\n",
       "    }\n",
       "\n",
       "    .dataframe tbody tr th {\n",
       "        vertical-align: top;\n",
       "    }\n",
       "\n",
       "    .dataframe thead th {\n",
       "        text-align: right;\n",
       "    }\n",
       "</style>\n",
       "<table border=\"1\" class=\"dataframe\">\n",
       "  <thead>\n",
       "    <tr style=\"text-align: right;\">\n",
       "      <th></th>\n",
       "      <th>TSLA open</th>\n",
       "      <th>TSLA high</th>\n",
       "      <th>TSLA low</th>\n",
       "      <th>TSLA close</th>\n",
       "      <th>TSLA volume</th>\n",
       "      <th>housing_index</th>\n",
       "      <th>trade_value</th>\n",
       "      <th>conf_index</th>\n",
       "      <th>conf_index_SE</th>\n",
       "      <th>10 Yrs Rates</th>\n",
       "      <th>20-Yr Maturity Rate</th>\n",
       "      <th>TSLA_operatingrevenue</th>\n",
       "      <th>TSLA_totalrevenue</th>\n",
       "      <th>TSLA_netincome</th>\n",
       "      <th>TSLA_totaloperatingexpenses</th>\n",
       "      <th>TSLA_totalgrossprofit</th>\n",
       "      <th>TSLA_totaloperatingincome</th>\n",
       "    </tr>\n",
       "    <tr>\n",
       "      <th>date</th>\n",
       "      <th></th>\n",
       "      <th></th>\n",
       "      <th></th>\n",
       "      <th></th>\n",
       "      <th></th>\n",
       "      <th></th>\n",
       "      <th></th>\n",
       "      <th></th>\n",
       "      <th></th>\n",
       "      <th></th>\n",
       "      <th></th>\n",
       "      <th></th>\n",
       "      <th></th>\n",
       "      <th></th>\n",
       "      <th></th>\n",
       "      <th></th>\n",
       "      <th></th>\n",
       "    </tr>\n",
       "  </thead>\n",
       "  <tbody>\n",
       "    <tr>\n",
       "      <th>2010-06-29</th>\n",
       "      <td>19.00</td>\n",
       "      <td>24.9984</td>\n",
       "      <td>17.54</td>\n",
       "      <td>23.89</td>\n",
       "      <td>18766300.0</td>\n",
       "      <td>147.031</td>\n",
       "      <td>104.0133</td>\n",
       "      <td>65.43</td>\n",
       "      <td>3.47</td>\n",
       "      <td>3.63</td>\n",
       "      <td>3.76</td>\n",
       "      <td>31241000.0</td>\n",
       "      <td>31241000.0</td>\n",
       "      <td>-34935000.0</td>\n",
       "      <td>47130000.0</td>\n",
       "      <td>9296000.0</td>\n",
       "      <td>-37834000.0</td>\n",
       "    </tr>\n",
       "    <tr>\n",
       "      <th>2010-06-30</th>\n",
       "      <td>25.79</td>\n",
       "      <td>30.4190</td>\n",
       "      <td>23.30</td>\n",
       "      <td>23.83</td>\n",
       "      <td>17187100.0</td>\n",
       "      <td>147.695</td>\n",
       "      <td>104.4167</td>\n",
       "      <td>65.64</td>\n",
       "      <td>3.40</td>\n",
       "      <td>3.61</td>\n",
       "      <td>3.74</td>\n",
       "      <td>31241000.0</td>\n",
       "      <td>31241000.0</td>\n",
       "      <td>-34935000.0</td>\n",
       "      <td>47130000.0</td>\n",
       "      <td>9296000.0</td>\n",
       "      <td>-37834000.0</td>\n",
       "    </tr>\n",
       "    <tr>\n",
       "      <th>2010-07-01</th>\n",
       "      <td>25.00</td>\n",
       "      <td>25.9200</td>\n",
       "      <td>20.27</td>\n",
       "      <td>21.96</td>\n",
       "      <td>8218800.0</td>\n",
       "      <td>147.695</td>\n",
       "      <td>104.4167</td>\n",
       "      <td>65.64</td>\n",
       "      <td>3.40</td>\n",
       "      <td>3.58</td>\n",
       "      <td>3.71</td>\n",
       "      <td>31241000.0</td>\n",
       "      <td>31241000.0</td>\n",
       "      <td>-34935000.0</td>\n",
       "      <td>47130000.0</td>\n",
       "      <td>9296000.0</td>\n",
       "      <td>-37834000.0</td>\n",
       "    </tr>\n",
       "    <tr>\n",
       "      <th>2010-07-02</th>\n",
       "      <td>23.00</td>\n",
       "      <td>23.0998</td>\n",
       "      <td>18.71</td>\n",
       "      <td>19.20</td>\n",
       "      <td>5139800.0</td>\n",
       "      <td>147.695</td>\n",
       "      <td>104.4167</td>\n",
       "      <td>65.64</td>\n",
       "      <td>3.40</td>\n",
       "      <td>3.64</td>\n",
       "      <td>3.77</td>\n",
       "      <td>31241000.0</td>\n",
       "      <td>31241000.0</td>\n",
       "      <td>-34935000.0</td>\n",
       "      <td>47130000.0</td>\n",
       "      <td>9296000.0</td>\n",
       "      <td>-37834000.0</td>\n",
       "    </tr>\n",
       "    <tr>\n",
       "      <th>2010-07-06</th>\n",
       "      <td>20.00</td>\n",
       "      <td>20.0000</td>\n",
       "      <td>15.83</td>\n",
       "      <td>16.11</td>\n",
       "      <td>6866900.0</td>\n",
       "      <td>147.695</td>\n",
       "      <td>104.4167</td>\n",
       "      <td>65.64</td>\n",
       "      <td>3.40</td>\n",
       "      <td>3.58</td>\n",
       "      <td>3.71</td>\n",
       "      <td>31241000.0</td>\n",
       "      <td>31241000.0</td>\n",
       "      <td>-34935000.0</td>\n",
       "      <td>47130000.0</td>\n",
       "      <td>9296000.0</td>\n",
       "      <td>-37834000.0</td>\n",
       "    </tr>\n",
       "  </tbody>\n",
       "</table>\n",
       "</div>"
      ],
      "text/plain": [
       "            TSLA open  TSLA high  TSLA low  TSLA close  TSLA volume  \\\n",
       "date                                                                  \n",
       "2010-06-29      19.00    24.9984     17.54       23.89   18766300.0   \n",
       "2010-06-30      25.79    30.4190     23.30       23.83   17187100.0   \n",
       "2010-07-01      25.00    25.9200     20.27       21.96    8218800.0   \n",
       "2010-07-02      23.00    23.0998     18.71       19.20    5139800.0   \n",
       "2010-07-06      20.00    20.0000     15.83       16.11    6866900.0   \n",
       "\n",
       "            housing_index  trade_value  conf_index  conf_index_SE  \\\n",
       "date                                                                \n",
       "2010-06-29        147.031     104.0133       65.43           3.47   \n",
       "2010-06-30        147.695     104.4167       65.64           3.40   \n",
       "2010-07-01        147.695     104.4167       65.64           3.40   \n",
       "2010-07-02        147.695     104.4167       65.64           3.40   \n",
       "2010-07-06        147.695     104.4167       65.64           3.40   \n",
       "\n",
       "            10 Yrs Rates  20-Yr Maturity Rate  TSLA_operatingrevenue  \\\n",
       "date                                                                   \n",
       "2010-06-29          3.63                 3.76             31241000.0   \n",
       "2010-06-30          3.61                 3.74             31241000.0   \n",
       "2010-07-01          3.58                 3.71             31241000.0   \n",
       "2010-07-02          3.64                 3.77             31241000.0   \n",
       "2010-07-06          3.58                 3.71             31241000.0   \n",
       "\n",
       "            TSLA_totalrevenue  TSLA_netincome  TSLA_totaloperatingexpenses  \\\n",
       "date                                                                         \n",
       "2010-06-29         31241000.0     -34935000.0                   47130000.0   \n",
       "2010-06-30         31241000.0     -34935000.0                   47130000.0   \n",
       "2010-07-01         31241000.0     -34935000.0                   47130000.0   \n",
       "2010-07-02         31241000.0     -34935000.0                   47130000.0   \n",
       "2010-07-06         31241000.0     -34935000.0                   47130000.0   \n",
       "\n",
       "            TSLA_totalgrossprofit  TSLA_totaloperatingincome  \n",
       "date                                                          \n",
       "2010-06-29              9296000.0                -37834000.0  \n",
       "2010-06-30              9296000.0                -37834000.0  \n",
       "2010-07-01              9296000.0                -37834000.0  \n",
       "2010-07-02              9296000.0                -37834000.0  \n",
       "2010-07-06              9296000.0                -37834000.0  "
      ]
     },
     "execution_count": 140,
     "metadata": {},
     "output_type": "execute_result"
    }
   ],
   "source": [
    "df.head()\n"
   ]
  },
  {
   "cell_type": "code",
   "execution_count": 141,
   "metadata": {},
   "outputs": [
    {
     "data": {
      "text/plain": [
       "(2163, 17)"
      ]
     },
     "execution_count": 141,
     "metadata": {},
     "output_type": "execute_result"
    }
   ],
   "source": [
    "df.shape"
   ]
  },
  {
   "cell_type": "markdown",
   "metadata": {},
   "source": [
    "### Target Feature Engineering ###\n",
    "\n",
    "- For now, we are using percent change as the target feature. In the future, we would be engineering more features that possibly encompass the data more accurately\n"
   ]
  },
  {
   "cell_type": "code",
   "execution_count": 142,
   "metadata": {},
   "outputs": [
    {
     "data": {
      "text/plain": [
       "date\n",
       "2010-06-29    -0.251151\n",
       "2010-06-30    -7.847251\n",
       "2010-07-01   -12.568306\n",
       "2010-07-02   -16.093750\n",
       "2010-07-06    -1.924271\n",
       "Name: percent_change, dtype: float64"
      ]
     },
     "execution_count": 142,
     "metadata": {},
     "output_type": "execute_result"
    }
   ],
   "source": [
    "df['percent_change'] = ((df['TSLA close'].shift(-1) - df['TSLA close']) / (df['TSLA close']))*100\n",
    "\n",
    "\n",
    "df['percent_change'].head()"
   ]
  },
  {
   "cell_type": "code",
   "execution_count": 143,
   "metadata": {},
   "outputs": [
    {
     "data": {
      "text/html": [
       "<div>\n",
       "<style scoped>\n",
       "    .dataframe tbody tr th:only-of-type {\n",
       "        vertical-align: middle;\n",
       "    }\n",
       "\n",
       "    .dataframe tbody tr th {\n",
       "        vertical-align: top;\n",
       "    }\n",
       "\n",
       "    .dataframe thead th {\n",
       "        text-align: right;\n",
       "    }\n",
       "</style>\n",
       "<table border=\"1\" class=\"dataframe\">\n",
       "  <thead>\n",
       "    <tr style=\"text-align: right;\">\n",
       "      <th></th>\n",
       "      <th>TSLA open</th>\n",
       "      <th>TSLA high</th>\n",
       "      <th>TSLA low</th>\n",
       "      <th>TSLA close</th>\n",
       "      <th>TSLA volume</th>\n",
       "      <th>housing_index</th>\n",
       "      <th>trade_value</th>\n",
       "      <th>conf_index</th>\n",
       "      <th>conf_index_SE</th>\n",
       "      <th>10 Yrs Rates</th>\n",
       "      <th>20-Yr Maturity Rate</th>\n",
       "      <th>TSLA_operatingrevenue</th>\n",
       "      <th>TSLA_totalrevenue</th>\n",
       "      <th>TSLA_netincome</th>\n",
       "      <th>TSLA_totaloperatingexpenses</th>\n",
       "      <th>TSLA_totalgrossprofit</th>\n",
       "      <th>TSLA_totaloperatingincome</th>\n",
       "      <th>percent_change</th>\n",
       "    </tr>\n",
       "    <tr>\n",
       "      <th>date</th>\n",
       "      <th></th>\n",
       "      <th></th>\n",
       "      <th></th>\n",
       "      <th></th>\n",
       "      <th></th>\n",
       "      <th></th>\n",
       "      <th></th>\n",
       "      <th></th>\n",
       "      <th></th>\n",
       "      <th></th>\n",
       "      <th></th>\n",
       "      <th></th>\n",
       "      <th></th>\n",
       "      <th></th>\n",
       "      <th></th>\n",
       "      <th></th>\n",
       "      <th></th>\n",
       "      <th></th>\n",
       "    </tr>\n",
       "  </thead>\n",
       "  <tbody>\n",
       "    <tr>\n",
       "      <th>2010-06-29</th>\n",
       "      <td>19.00</td>\n",
       "      <td>24.9984</td>\n",
       "      <td>17.54</td>\n",
       "      <td>23.89</td>\n",
       "      <td>18766300.0</td>\n",
       "      <td>147.031</td>\n",
       "      <td>104.0133</td>\n",
       "      <td>65.43</td>\n",
       "      <td>3.47</td>\n",
       "      <td>3.63</td>\n",
       "      <td>3.76</td>\n",
       "      <td>31241000.0</td>\n",
       "      <td>31241000.0</td>\n",
       "      <td>-34935000.0</td>\n",
       "      <td>47130000.0</td>\n",
       "      <td>9296000.0</td>\n",
       "      <td>-37834000.0</td>\n",
       "      <td>-0.251151</td>\n",
       "    </tr>\n",
       "    <tr>\n",
       "      <th>2010-06-30</th>\n",
       "      <td>25.79</td>\n",
       "      <td>30.4190</td>\n",
       "      <td>23.30</td>\n",
       "      <td>23.83</td>\n",
       "      <td>17187100.0</td>\n",
       "      <td>147.695</td>\n",
       "      <td>104.4167</td>\n",
       "      <td>65.64</td>\n",
       "      <td>3.40</td>\n",
       "      <td>3.61</td>\n",
       "      <td>3.74</td>\n",
       "      <td>31241000.0</td>\n",
       "      <td>31241000.0</td>\n",
       "      <td>-34935000.0</td>\n",
       "      <td>47130000.0</td>\n",
       "      <td>9296000.0</td>\n",
       "      <td>-37834000.0</td>\n",
       "      <td>-7.847251</td>\n",
       "    </tr>\n",
       "    <tr>\n",
       "      <th>2010-07-01</th>\n",
       "      <td>25.00</td>\n",
       "      <td>25.9200</td>\n",
       "      <td>20.27</td>\n",
       "      <td>21.96</td>\n",
       "      <td>8218800.0</td>\n",
       "      <td>147.695</td>\n",
       "      <td>104.4167</td>\n",
       "      <td>65.64</td>\n",
       "      <td>3.40</td>\n",
       "      <td>3.58</td>\n",
       "      <td>3.71</td>\n",
       "      <td>31241000.0</td>\n",
       "      <td>31241000.0</td>\n",
       "      <td>-34935000.0</td>\n",
       "      <td>47130000.0</td>\n",
       "      <td>9296000.0</td>\n",
       "      <td>-37834000.0</td>\n",
       "      <td>-12.568306</td>\n",
       "    </tr>\n",
       "    <tr>\n",
       "      <th>2010-07-02</th>\n",
       "      <td>23.00</td>\n",
       "      <td>23.0998</td>\n",
       "      <td>18.71</td>\n",
       "      <td>19.20</td>\n",
       "      <td>5139800.0</td>\n",
       "      <td>147.695</td>\n",
       "      <td>104.4167</td>\n",
       "      <td>65.64</td>\n",
       "      <td>3.40</td>\n",
       "      <td>3.64</td>\n",
       "      <td>3.77</td>\n",
       "      <td>31241000.0</td>\n",
       "      <td>31241000.0</td>\n",
       "      <td>-34935000.0</td>\n",
       "      <td>47130000.0</td>\n",
       "      <td>9296000.0</td>\n",
       "      <td>-37834000.0</td>\n",
       "      <td>-16.093750</td>\n",
       "    </tr>\n",
       "    <tr>\n",
       "      <th>2010-07-06</th>\n",
       "      <td>20.00</td>\n",
       "      <td>20.0000</td>\n",
       "      <td>15.83</td>\n",
       "      <td>16.11</td>\n",
       "      <td>6866900.0</td>\n",
       "      <td>147.695</td>\n",
       "      <td>104.4167</td>\n",
       "      <td>65.64</td>\n",
       "      <td>3.40</td>\n",
       "      <td>3.58</td>\n",
       "      <td>3.71</td>\n",
       "      <td>31241000.0</td>\n",
       "      <td>31241000.0</td>\n",
       "      <td>-34935000.0</td>\n",
       "      <td>47130000.0</td>\n",
       "      <td>9296000.0</td>\n",
       "      <td>-37834000.0</td>\n",
       "      <td>-1.924271</td>\n",
       "    </tr>\n",
       "  </tbody>\n",
       "</table>\n",
       "</div>"
      ],
      "text/plain": [
       "            TSLA open  TSLA high  TSLA low  TSLA close  TSLA volume  \\\n",
       "date                                                                  \n",
       "2010-06-29      19.00    24.9984     17.54       23.89   18766300.0   \n",
       "2010-06-30      25.79    30.4190     23.30       23.83   17187100.0   \n",
       "2010-07-01      25.00    25.9200     20.27       21.96    8218800.0   \n",
       "2010-07-02      23.00    23.0998     18.71       19.20    5139800.0   \n",
       "2010-07-06      20.00    20.0000     15.83       16.11    6866900.0   \n",
       "\n",
       "            housing_index  trade_value  conf_index  conf_index_SE  \\\n",
       "date                                                                \n",
       "2010-06-29        147.031     104.0133       65.43           3.47   \n",
       "2010-06-30        147.695     104.4167       65.64           3.40   \n",
       "2010-07-01        147.695     104.4167       65.64           3.40   \n",
       "2010-07-02        147.695     104.4167       65.64           3.40   \n",
       "2010-07-06        147.695     104.4167       65.64           3.40   \n",
       "\n",
       "            10 Yrs Rates  20-Yr Maturity Rate  TSLA_operatingrevenue  \\\n",
       "date                                                                   \n",
       "2010-06-29          3.63                 3.76             31241000.0   \n",
       "2010-06-30          3.61                 3.74             31241000.0   \n",
       "2010-07-01          3.58                 3.71             31241000.0   \n",
       "2010-07-02          3.64                 3.77             31241000.0   \n",
       "2010-07-06          3.58                 3.71             31241000.0   \n",
       "\n",
       "            TSLA_totalrevenue  TSLA_netincome  TSLA_totaloperatingexpenses  \\\n",
       "date                                                                         \n",
       "2010-06-29         31241000.0     -34935000.0                   47130000.0   \n",
       "2010-06-30         31241000.0     -34935000.0                   47130000.0   \n",
       "2010-07-01         31241000.0     -34935000.0                   47130000.0   \n",
       "2010-07-02         31241000.0     -34935000.0                   47130000.0   \n",
       "2010-07-06         31241000.0     -34935000.0                   47130000.0   \n",
       "\n",
       "            TSLA_totalgrossprofit  TSLA_totaloperatingincome  percent_change  \n",
       "date                                                                          \n",
       "2010-06-29              9296000.0                -37834000.0       -0.251151  \n",
       "2010-06-30              9296000.0                -37834000.0       -7.847251  \n",
       "2010-07-01              9296000.0                -37834000.0      -12.568306  \n",
       "2010-07-02              9296000.0                -37834000.0      -16.093750  \n",
       "2010-07-06              9296000.0                -37834000.0       -1.924271  "
      ]
     },
     "execution_count": 143,
     "metadata": {},
     "output_type": "execute_result"
    }
   ],
   "source": [
    "df.head()"
   ]
  },
  {
   "cell_type": "code",
   "execution_count": 144,
   "metadata": {},
   "outputs": [
    {
     "name": "stdout",
     "output_type": "stream",
     "text": [
      "TSLA open                       0\n",
      "TSLA high                       0\n",
      "TSLA low                        0\n",
      "TSLA close                      0\n",
      "TSLA volume                     0\n",
      "housing_index                   0\n",
      "trade_value                     0\n",
      "conf_index                      0\n",
      "conf_index_SE                   0\n",
      "10 Yrs Rates                    0\n",
      "20-Yr Maturity Rate             0\n",
      "TSLA_operatingrevenue          60\n",
      "TSLA_totalrevenue              60\n",
      "TSLA_netincome                 60\n",
      "TSLA_totaloperatingexpenses    60\n",
      "TSLA_totalgrossprofit          60\n",
      "TSLA_totaloperatingincome      60\n",
      "percent_change                  1\n",
      "dtype: int64\n",
      "(2163, 18)\n"
     ]
    },
    {
     "data": {
      "text/plain": [
       "(2103, 18)"
      ]
     },
     "execution_count": 144,
     "metadata": {},
     "output_type": "execute_result"
    }
   ],
   "source": [
    "# For the last couple of months, tesla had a lot of missing fundamentals data, so we have th drop the null values.\n",
    "\n",
    "print(df.isnull().sum())\n",
    "print(df.shape)\n",
    "df = df.dropna()\n",
    "\n",
    "df.shape\n",
    "\n",
    "# loses about 60 observations."
   ]
  },
  {
   "cell_type": "code",
   "execution_count": 146,
   "metadata": {},
   "outputs": [
    {
     "data": {
      "text/html": [
       "<div>\n",
       "<style scoped>\n",
       "    .dataframe tbody tr th:only-of-type {\n",
       "        vertical-align: middle;\n",
       "    }\n",
       "\n",
       "    .dataframe tbody tr th {\n",
       "        vertical-align: top;\n",
       "    }\n",
       "\n",
       "    .dataframe thead th {\n",
       "        text-align: right;\n",
       "    }\n",
       "</style>\n",
       "<table border=\"1\" class=\"dataframe\">\n",
       "  <thead>\n",
       "    <tr style=\"text-align: right;\">\n",
       "      <th></th>\n",
       "      <th>TSLA open</th>\n",
       "      <th>TSLA high</th>\n",
       "      <th>TSLA low</th>\n",
       "      <th>TSLA close</th>\n",
       "      <th>TSLA volume</th>\n",
       "      <th>housing_index</th>\n",
       "      <th>trade_value</th>\n",
       "      <th>conf_index</th>\n",
       "      <th>conf_index_SE</th>\n",
       "      <th>10 Yrs Rates</th>\n",
       "      <th>20-Yr Maturity Rate</th>\n",
       "      <th>TSLA_operatingrevenue</th>\n",
       "      <th>TSLA_totalrevenue</th>\n",
       "      <th>TSLA_netincome</th>\n",
       "      <th>TSLA_totaloperatingexpenses</th>\n",
       "      <th>TSLA_totalgrossprofit</th>\n",
       "      <th>TSLA_totaloperatingincome</th>\n",
       "      <th>percent_change</th>\n",
       "    </tr>\n",
       "    <tr>\n",
       "      <th>date</th>\n",
       "      <th></th>\n",
       "      <th></th>\n",
       "      <th></th>\n",
       "      <th></th>\n",
       "      <th></th>\n",
       "      <th></th>\n",
       "      <th></th>\n",
       "      <th></th>\n",
       "      <th></th>\n",
       "      <th></th>\n",
       "      <th></th>\n",
       "      <th></th>\n",
       "      <th></th>\n",
       "      <th></th>\n",
       "      <th></th>\n",
       "      <th></th>\n",
       "      <th></th>\n",
       "      <th></th>\n",
       "    </tr>\n",
       "  </thead>\n",
       "  <tbody>\n",
       "    <tr>\n",
       "      <th>2010-06-29</th>\n",
       "      <td>19.00</td>\n",
       "      <td>24.9984</td>\n",
       "      <td>17.54</td>\n",
       "      <td>23.89</td>\n",
       "      <td>18766300.0</td>\n",
       "      <td>147.031</td>\n",
       "      <td>104.0133</td>\n",
       "      <td>65.43</td>\n",
       "      <td>3.47</td>\n",
       "      <td>3.63</td>\n",
       "      <td>3.76</td>\n",
       "      <td>31241000.0</td>\n",
       "      <td>31241000.0</td>\n",
       "      <td>-34935000.0</td>\n",
       "      <td>47130000.0</td>\n",
       "      <td>9296000.0</td>\n",
       "      <td>-37834000.0</td>\n",
       "      <td>-0.251151</td>\n",
       "    </tr>\n",
       "    <tr>\n",
       "      <th>2010-06-30</th>\n",
       "      <td>25.79</td>\n",
       "      <td>30.4190</td>\n",
       "      <td>23.30</td>\n",
       "      <td>23.83</td>\n",
       "      <td>17187100.0</td>\n",
       "      <td>147.695</td>\n",
       "      <td>104.4167</td>\n",
       "      <td>65.64</td>\n",
       "      <td>3.40</td>\n",
       "      <td>3.61</td>\n",
       "      <td>3.74</td>\n",
       "      <td>31241000.0</td>\n",
       "      <td>31241000.0</td>\n",
       "      <td>-34935000.0</td>\n",
       "      <td>47130000.0</td>\n",
       "      <td>9296000.0</td>\n",
       "      <td>-37834000.0</td>\n",
       "      <td>-7.847251</td>\n",
       "    </tr>\n",
       "    <tr>\n",
       "      <th>2010-07-01</th>\n",
       "      <td>25.00</td>\n",
       "      <td>25.9200</td>\n",
       "      <td>20.27</td>\n",
       "      <td>21.96</td>\n",
       "      <td>8218800.0</td>\n",
       "      <td>147.695</td>\n",
       "      <td>104.4167</td>\n",
       "      <td>65.64</td>\n",
       "      <td>3.40</td>\n",
       "      <td>3.58</td>\n",
       "      <td>3.71</td>\n",
       "      <td>31241000.0</td>\n",
       "      <td>31241000.0</td>\n",
       "      <td>-34935000.0</td>\n",
       "      <td>47130000.0</td>\n",
       "      <td>9296000.0</td>\n",
       "      <td>-37834000.0</td>\n",
       "      <td>-12.568306</td>\n",
       "    </tr>\n",
       "    <tr>\n",
       "      <th>2010-07-02</th>\n",
       "      <td>23.00</td>\n",
       "      <td>23.0998</td>\n",
       "      <td>18.71</td>\n",
       "      <td>19.20</td>\n",
       "      <td>5139800.0</td>\n",
       "      <td>147.695</td>\n",
       "      <td>104.4167</td>\n",
       "      <td>65.64</td>\n",
       "      <td>3.40</td>\n",
       "      <td>3.64</td>\n",
       "      <td>3.77</td>\n",
       "      <td>31241000.0</td>\n",
       "      <td>31241000.0</td>\n",
       "      <td>-34935000.0</td>\n",
       "      <td>47130000.0</td>\n",
       "      <td>9296000.0</td>\n",
       "      <td>-37834000.0</td>\n",
       "      <td>-16.093750</td>\n",
       "    </tr>\n",
       "    <tr>\n",
       "      <th>2010-07-06</th>\n",
       "      <td>20.00</td>\n",
       "      <td>20.0000</td>\n",
       "      <td>15.83</td>\n",
       "      <td>16.11</td>\n",
       "      <td>6866900.0</td>\n",
       "      <td>147.695</td>\n",
       "      <td>104.4167</td>\n",
       "      <td>65.64</td>\n",
       "      <td>3.40</td>\n",
       "      <td>3.58</td>\n",
       "      <td>3.71</td>\n",
       "      <td>31241000.0</td>\n",
       "      <td>31241000.0</td>\n",
       "      <td>-34935000.0</td>\n",
       "      <td>47130000.0</td>\n",
       "      <td>9296000.0</td>\n",
       "      <td>-37834000.0</td>\n",
       "      <td>-1.924271</td>\n",
       "    </tr>\n",
       "  </tbody>\n",
       "</table>\n",
       "</div>"
      ],
      "text/plain": [
       "            TSLA open  TSLA high  TSLA low  TSLA close  TSLA volume  \\\n",
       "date                                                                  \n",
       "2010-06-29      19.00    24.9984     17.54       23.89   18766300.0   \n",
       "2010-06-30      25.79    30.4190     23.30       23.83   17187100.0   \n",
       "2010-07-01      25.00    25.9200     20.27       21.96    8218800.0   \n",
       "2010-07-02      23.00    23.0998     18.71       19.20    5139800.0   \n",
       "2010-07-06      20.00    20.0000     15.83       16.11    6866900.0   \n",
       "\n",
       "            housing_index  trade_value  conf_index  conf_index_SE  \\\n",
       "date                                                                \n",
       "2010-06-29        147.031     104.0133       65.43           3.47   \n",
       "2010-06-30        147.695     104.4167       65.64           3.40   \n",
       "2010-07-01        147.695     104.4167       65.64           3.40   \n",
       "2010-07-02        147.695     104.4167       65.64           3.40   \n",
       "2010-07-06        147.695     104.4167       65.64           3.40   \n",
       "\n",
       "            10 Yrs Rates  20-Yr Maturity Rate  TSLA_operatingrevenue  \\\n",
       "date                                                                   \n",
       "2010-06-29          3.63                 3.76             31241000.0   \n",
       "2010-06-30          3.61                 3.74             31241000.0   \n",
       "2010-07-01          3.58                 3.71             31241000.0   \n",
       "2010-07-02          3.64                 3.77             31241000.0   \n",
       "2010-07-06          3.58                 3.71             31241000.0   \n",
       "\n",
       "            TSLA_totalrevenue  TSLA_netincome  TSLA_totaloperatingexpenses  \\\n",
       "date                                                                         \n",
       "2010-06-29         31241000.0     -34935000.0                   47130000.0   \n",
       "2010-06-30         31241000.0     -34935000.0                   47130000.0   \n",
       "2010-07-01         31241000.0     -34935000.0                   47130000.0   \n",
       "2010-07-02         31241000.0     -34935000.0                   47130000.0   \n",
       "2010-07-06         31241000.0     -34935000.0                   47130000.0   \n",
       "\n",
       "            TSLA_totalgrossprofit  TSLA_totaloperatingincome  percent_change  \n",
       "date                                                                          \n",
       "2010-06-29              9296000.0                -37834000.0       -0.251151  \n",
       "2010-06-30              9296000.0                -37834000.0       -7.847251  \n",
       "2010-07-01              9296000.0                -37834000.0      -12.568306  \n",
       "2010-07-02              9296000.0                -37834000.0      -16.093750  \n",
       "2010-07-06              9296000.0                -37834000.0       -1.924271  "
      ]
     },
     "execution_count": 146,
     "metadata": {},
     "output_type": "execute_result"
    }
   ],
   "source": [
    "df.head()\n"
   ]
  },
  {
   "cell_type": "code",
   "execution_count": 148,
   "metadata": {},
   "outputs": [],
   "source": [
    "features = df.drop(columns='percent_change').values\n",
    "target = df['percent_change']\n"
   ]
  },
  {
   "cell_type": "code",
   "execution_count": 149,
   "metadata": {},
   "outputs": [
    {
     "data": {
      "image/png": "[encoded data removed]",
      "text/plain": [
       "<Figure size 432x288 with 1 Axes>"
      ]
     },
     "metadata": {
      "needs_background": "light"
     },
     "output_type": "display_data"
    }
   ],
   "source": [
    "import matplotlib.pyplot as plt\n",
    "\n",
    "plt.plot(features[:,0])\n",
    "plt.title(\"Opening prices for the last 10 years for Tesla\")\n",
    "plt.xlabel(\"Time (latest=oldest)\")\n",
    "plt.ylabel(\"prices\")\n",
    "plt.show()"
   ]
  },
  {
   "cell_type": "markdown",
   "metadata": {},
   "source": [
    "## Normalizing the data\n",
    "\n",
    "- Since all the values indicate different things and indices, we have to normalize the data to help the algorithm in converging i.e. to find the local/global minimum efficiently.\n",
    "\n",
    "We will use MinMaxScaler to normalize, but before then, we can split the dataset into training and testing datasets:\n"
   ]
  },
  {
   "cell_type": "code",
   "execution_count": 157,
   "metadata": {},
   "outputs": [],
   "source": [
    "values = df.values\n",
    "\n",
    "# normalize\n",
    "\n",
    "scaler = MinMaxScaler(feature_range=(0,1))\n",
    "features[:,:] = scaler.fit_transform(features[:,:])\n",
    "\n",
    "# frame as supervised learning\n",
    "\n",
    "# reframed = series_to_supervised(scaled, 1, 1)"
   ]
  },
  {
   "cell_type": "code",
   "execution_count": 158,
   "metadata": {},
   "outputs": [],
   "source": [
    "lookback= 30\n",
    "\n",
    "test_size=int(.3 * len(df))\n",
    "X=[]\n",
    "y=[]\n",
    "for i in range(len(df)-lookback-1):\n",
    "    t=[]\n",
    "    for j in range(0,lookback):\n",
    "        \n",
    "        t.append(features[[(i+j)], :])\n",
    "    X.append(t)\n",
    "    y.append(features[i+ lookback,1])"
   ]
  },
  {
   "cell_type": "code",
   "execution_count": 161,
   "metadata": {},
   "outputs": [
    {
     "name": "stdout",
     "output_type": "stream",
     "text": [
      "(2072, 30, 17)\n",
      "(660, 30, 17)\n"
     ]
    }
   ],
   "source": [
    "# reshape to 3D format\n",
    "\n",
    "X, y = np.array(X), np.array(y)\n",
    "X_test = X[:test_size+lookback]\n",
    "\n",
    "X = X.reshape(X.shape[0], lookback, 17)\n",
    "#X_test = X_test.reshape(X_test.shape[0], lookback,2)\n",
    "\n",
    "print(X.shape)\n",
    "print(X_test.shape)\n",
    "\n"
   ]
  },
  {
   "cell_type": "code",
   "execution_count": 162,
   "metadata": {},
   "outputs": [],
   "source": [
    "from keras import Sequential\n",
    "from keras.layers import Dense, LSTM"
   ]
  },
  {
   "cell_type": "code",
   "execution_count": 163,
   "metadata": {},
   "outputs": [
    {
     "name": "stdout",
     "output_type": "stream",
     "text": [
      "_________________________________________________________________\n",
      "Layer (type)                 Output Shape              Param #   \n",
      "=================================================================\n",
      "lstm_15 (LSTM)               (None, 30, 30)            5760      \n",
      "_________________________________________________________________\n",
      "lstm_16 (LSTM)               (None, 30, 30)            7320      \n",
      "_________________________________________________________________\n",
      "lstm_17 (LSTM)               (None, 30)                7320      \n",
      "_________________________________________________________________\n",
      "dense_10 (Dense)             (None, 1)                 31        \n",
      "=================================================================\n",
      "Total params: 20,431\n",
      "Trainable params: 20,431\n",
      "Non-trainable params: 0\n",
      "_________________________________________________________________\n"
     ]
    }
   ],
   "source": [
    "model = Sequential()\n",
    "model.add(LSTM(units=30, return_sequences= True, input_shape=(X.shape[1],17)))\n",
    "model.add(LSTM(units=30, return_sequences=True))\n",
    "model.add(LSTM(units=30))\n",
    "model.add(Dense(units=1))\n",
    "model.summary()"
   ]
  },
  {
   "cell_type": "code",
   "execution_count": 164,
   "metadata": {},
   "outputs": [],
   "source": [
    "model.compile(optimizer='adam', loss='mean_squared_error')"
   ]
  },
  {
   "cell_type": "code",
   "execution_count": 165,
   "metadata": {},
   "outputs": [
    {
     "name": "stdout",
     "output_type": "stream",
     "text": [
      "Epoch 1/100\n",
      "2072/2072 [==============================] - 10s 5ms/step - loss: 0.0277\n",
      "Epoch 2/100\n",
      "2072/2072 [==============================] - 4s 2ms/step - loss: 0.0029\n",
      "Epoch 3/100\n",
      "2072/2072 [==============================] - 4s 2ms/step - loss: 0.0019\n",
      "Epoch 4/100\n",
      "2072/2072 [==============================] - 4s 2ms/step - loss: 0.0017\n",
      "Epoch 5/100\n",
      "2072/2072 [==============================] - 4s 2ms/step - loss: 0.0015\n",
      "Epoch 6/100\n",
      "2072/2072 [==============================] - 4s 2ms/step - loss: 0.0014\n",
      "Epoch 7/100\n",
      "2072/2072 [==============================] - 4s 2ms/step - loss: 0.0014\n",
      "Epoch 8/100\n",
      "2072/2072 [==============================] - 4s 2ms/step - loss: 0.0013\n",
      "Epoch 9/100\n",
      "2072/2072 [==============================] - 4s 2ms/step - loss: 0.0011\n",
      "Epoch 10/100\n",
      "2072/2072 [==============================] - 4s 2ms/step - loss: 0.0012\n",
      "Epoch 11/100\n",
      "2072/2072 [==============================] - 4s 2ms/step - loss: 9.4181e-04\n",
      "Epoch 12/100\n",
      "2072/2072 [==============================] - 4s 2ms/step - loss: 0.0011\n",
      "Epoch 13/100\n",
      "2072/2072 [==============================] - 4s 2ms/step - loss: 7.7422e-04\n",
      "Epoch 14/100\n",
      "2072/2072 [==============================] - 4s 2ms/step - loss: 8.4501e-04\n",
      "Epoch 15/100\n",
      "2072/2072 [==============================] - 4s 2ms/step - loss: 8.1962e-04\n",
      "Epoch 16/100\n",
      "2072/2072 [==============================] - 4s 2ms/step - loss: 7.5673e-04\n",
      "Epoch 17/100\n",
      "2072/2072 [==============================] - 4s 2ms/step - loss: 6.6990e-04\n",
      "Epoch 18/100\n",
      "2072/2072 [==============================] - 4s 2ms/step - loss: 7.1310e-04\n",
      "Epoch 19/100\n",
      "2072/2072 [==============================] - 4s 2ms/step - loss: 6.4064e-04\n",
      "Epoch 20/100\n",
      "2072/2072 [==============================] - 4s 2ms/step - loss: 5.5962e-04\n",
      "Epoch 21/100\n",
      "2072/2072 [==============================] - 4s 2ms/step - loss: 5.6037e-04\n",
      "Epoch 22/100\n",
      "2072/2072 [==============================] - 4s 2ms/step - loss: 5.6565e-04\n",
      "Epoch 23/100\n",
      "2072/2072 [==============================] - 4s 2ms/step - loss: 5.0419e-04\n",
      "Epoch 24/100\n",
      "2072/2072 [==============================] - 4s 2ms/step - loss: 4.9527e-04\n",
      "Epoch 25/100\n",
      "2072/2072 [==============================] - 4s 2ms/step - loss: 4.3429e-04\n",
      "Epoch 26/100\n",
      "2072/2072 [==============================] - 4s 2ms/step - loss: 4.5541e-04\n",
      "Epoch 27/100\n",
      "2072/2072 [==============================] - 4s 2ms/step - loss: 4.9399e-04\n",
      "Epoch 28/100\n",
      "2072/2072 [==============================] - 4s 2ms/step - loss: 4.5277e-04\n",
      "Epoch 29/100\n",
      "2072/2072 [==============================] - 4s 2ms/step - loss: 3.8889e-04\n",
      "Epoch 30/100\n",
      "2072/2072 [==============================] - 4s 2ms/step - loss: 3.4364e-04\n",
      "Epoch 31/100\n",
      "2072/2072 [==============================] - 4s 2ms/step - loss: 3.3222e-04\n",
      "Epoch 32/100\n",
      "2072/2072 [==============================] - 4s 2ms/step - loss: 3.3362e-04\n",
      "Epoch 33/100\n",
      "2072/2072 [==============================] - 4s 2ms/step - loss: 3.2105e-04\n",
      "Epoch 34/100\n",
      "2072/2072 [==============================] - 4s 2ms/step - loss: 3.3611e-04\n",
      "Epoch 35/100\n",
      "2072/2072 [==============================] - 4s 2ms/step - loss: 3.1141e-04\n",
      "Epoch 36/100\n",
      "2072/2072 [==============================] - 4s 2ms/step - loss: 3.1071e-04\n",
      "Epoch 37/100\n",
      "2072/2072 [==============================] - 4s 2ms/step - loss: 3.4535e-04\n",
      "Epoch 38/100\n",
      "2072/2072 [==============================] - 4s 2ms/step - loss: 2.6248e-04\n",
      "Epoch 39/100\n",
      "2072/2072 [==============================] - 4s 2ms/step - loss: 2.7047e-04\n",
      "Epoch 40/100\n",
      "2072/2072 [==============================] - 4s 2ms/step - loss: 2.6963e-04\n",
      "Epoch 41/100\n",
      "2072/2072 [==============================] - 4s 2ms/step - loss: 2.5209e-04\n",
      "Epoch 42/100\n",
      "2072/2072 [==============================] - 4s 2ms/step - loss: 2.9492e-04\n",
      "Epoch 43/100\n",
      "2072/2072 [==============================] - 4s 2ms/step - loss: 2.9345e-04\n",
      "Epoch 44/100\n",
      "2072/2072 [==============================] - 4s 2ms/step - loss: 2.6206e-04\n",
      "Epoch 45/100\n",
      "2072/2072 [==============================] - 4s 2ms/step - loss: 2.4203e-04\n",
      "Epoch 46/100\n",
      "2072/2072 [==============================] - 4s 2ms/step - loss: 2.5571e-04\n",
      "Epoch 47/100\n",
      "2072/2072 [==============================] - 4s 2ms/step - loss: 4.3284e-04\n",
      "Epoch 48/100\n",
      "2072/2072 [==============================] - 4s 2ms/step - loss: 2.3013e-04\n",
      "Epoch 49/100\n",
      "2072/2072 [==============================] - 4s 2ms/step - loss: 2.2250e-04\n",
      "Epoch 50/100\n",
      "2072/2072 [==============================] - 4s 2ms/step - loss: 2.2279e-04\n",
      "Epoch 51/100\n",
      "2072/2072 [==============================] - 4s 2ms/step - loss: 2.1387e-04\n",
      "Epoch 52/100\n",
      "2072/2072 [==============================] - 4s 2ms/step - loss: 2.0624e-04\n",
      "Epoch 53/100\n",
      "2072/2072 [==============================] - 4s 2ms/step - loss: 2.3588e-04\n",
      "Epoch 54/100\n",
      "2072/2072 [==============================] - 4s 2ms/step - loss: 2.2652e-04\n",
      "Epoch 55/100\n",
      "2072/2072 [==============================] - 4s 2ms/step - loss: 2.8235e-04\n",
      "Epoch 56/100\n",
      "2072/2072 [==============================] - 4s 2ms/step - loss: 2.7798e-04\n",
      "Epoch 57/100\n",
      "2072/2072 [==============================] - 4s 2ms/step - loss: 2.2193e-04\n",
      "Epoch 58/100\n",
      "2072/2072 [==============================] - 4s 2ms/step - loss: 2.0466e-04\n",
      "Epoch 59/100\n",
      "2072/2072 [==============================] - 4s 2ms/step - loss: 2.0330e-04\n",
      "Epoch 60/100\n",
      "2072/2072 [==============================] - 4s 2ms/step - loss: 2.2708e-04\n",
      "Epoch 61/100\n",
      "2072/2072 [==============================] - 4s 2ms/step - loss: 2.5160e-04\n",
      "Epoch 62/100\n",
      "2072/2072 [==============================] - 4s 2ms/step - loss: 2.1425e-04\n",
      "Epoch 63/100\n",
      "2072/2072 [==============================] - 4s 2ms/step - loss: 2.1658e-04\n",
      "Epoch 64/100\n",
      "2072/2072 [==============================] - 4s 2ms/step - loss: 2.3128e-04\n",
      "Epoch 65/100\n",
      "2072/2072 [==============================] - 4s 2ms/step - loss: 1.9432e-04\n",
      "Epoch 66/100\n",
      "2072/2072 [==============================] - 4s 2ms/step - loss: 2.7245e-04\n",
      "Epoch 67/100\n",
      "2072/2072 [==============================] - 4s 2ms/step - loss: 2.9818e-04\n",
      "Epoch 68/100\n",
      "2072/2072 [==============================] - 4s 2ms/step - loss: 2.1002e-04\n",
      "Epoch 69/100\n",
      "2072/2072 [==============================] - 4s 2ms/step - loss: 2.0195e-04\n",
      "Epoch 70/100\n",
      "2072/2072 [==============================] - 4s 2ms/step - loss: 2.0059e-04\n",
      "Epoch 71/100\n",
      "2072/2072 [==============================] - 4s 2ms/step - loss: 2.0911e-04\n",
      "Epoch 72/100\n",
      "2072/2072 [==============================] - 4s 2ms/step - loss: 2.0397e-04\n",
      "Epoch 73/100\n",
      "2072/2072 [==============================] - 4s 2ms/step - loss: 2.2979e-04\n",
      "Epoch 74/100\n",
      "2072/2072 [==============================] - 4s 2ms/step - loss: 2.2514e-04\n",
      "Epoch 75/100\n",
      "2072/2072 [==============================] - 4s 2ms/step - loss: 3.2240e-04\n",
      "Epoch 76/100\n",
      "2072/2072 [==============================] - 4s 2ms/step - loss: 1.8142e-04\n",
      "Epoch 77/100\n",
      "2072/2072 [==============================] - 4s 2ms/step - loss: 2.1797e-04\n",
      "Epoch 78/100\n",
      "2072/2072 [==============================] - 4s 2ms/step - loss: 2.0226e-04\n",
      "Epoch 79/100\n",
      "2072/2072 [==============================] - 4s 2ms/step - loss: 2.1510e-04\n",
      "Epoch 80/100\n",
      "2072/2072 [==============================] - 4s 2ms/step - loss: 2.4960e-04\n",
      "Epoch 81/100\n",
      "2072/2072 [==============================] - 4s 2ms/step - loss: 1.9670e-04\n",
      "Epoch 82/100\n",
      "2072/2072 [==============================] - 4s 2ms/step - loss: 2.1101e-04\n",
      "Epoch 83/100\n",
      "2072/2072 [==============================] - 4s 2ms/step - loss: 2.4716e-04\n",
      "Epoch 84/100\n",
      "2072/2072 [==============================] - 4s 2ms/step - loss: 1.9465e-04\n",
      "Epoch 85/100\n",
      "2072/2072 [==============================] - 4s 2ms/step - loss: 2.5171e-04\n",
      "Epoch 86/100\n",
      "2072/2072 [==============================] - 4s 2ms/step - loss: 1.7651e-04\n",
      "Epoch 87/100\n",
      "2072/2072 [==============================] - 4s 2ms/step - loss: 1.8382e-04\n",
      "Epoch 88/100\n",
      "2072/2072 [==============================] - 4s 2ms/step - loss: 2.1630e-04\n",
      "Epoch 89/100\n",
      "2072/2072 [==============================] - 4s 2ms/step - loss: 2.7351e-04\n",
      "Epoch 90/100\n",
      "2072/2072 [==============================] - 4s 2ms/step - loss: 1.8960e-04\n",
      "Epoch 91/100\n",
      "2072/2072 [==============================] - 4s 2ms/step - loss: 2.2872e-04\n",
      "Epoch 92/100\n",
      "2072/2072 [==============================] - 4s 2ms/step - loss: 1.8248e-04\n",
      "Epoch 93/100\n",
      "2072/2072 [==============================] - 4s 2ms/step - loss: 1.7932e-04\n",
      "Epoch 94/100\n",
      "2072/2072 [==============================] - 4s 2ms/step - loss: 2.0198e-04\n",
      "Epoch 95/100\n",
      "2072/2072 [==============================] - 4s 2ms/step - loss: 1.8998e-04\n",
      "Epoch 96/100\n",
      "2072/2072 [==============================] - 4s 2ms/step - loss: 1.7755e-04\n",
      "Epoch 97/100\n",
      "2072/2072 [==============================] - 4s 2ms/step - loss: 1.8971e-04\n",
      "Epoch 98/100\n",
      "2072/2072 [==============================] - 4s 2ms/step - loss: 1.6058e-04\n",
      "Epoch 99/100\n",
      "2072/2072 [==============================] - 4s 2ms/step - loss: 2.2284e-04\n",
      "Epoch 100/100\n",
      "2072/2072 [==============================] - 4s 2ms/step - loss: 1.7895e-04\n"
     ]
    },
    {
     "data": {
      "text/plain": [
       "<keras.callbacks.History at 0x22386787320>"
      ]
     },
     "execution_count": 165,
     "metadata": {},
     "output_type": "execute_result"
    }
   ],
   "source": [
    "model.fit(X, y, epochs = 100, batch_size = 32)"
   ]
  },
  {
   "cell_type": "code",
   "execution_count": 166,
   "metadata": {},
   "outputs": [],
   "source": [
    "predicted_value = model.predict(X_test)\n"
   ]
  },
  {
   "cell_type": "code",
   "execution_count": 167,
   "metadata": {},
   "outputs": [
    {
     "data": {
      "image/png": "[encoded data removed]",
      "text/plain": [
       "<Figure size 432x288 with 1 Axes>"
      ]
     },
     "metadata": {
      "needs_background": "light"
     },
     "output_type": "display_data"
    }
   ],
   "source": [
    "plt.plot(predicted_value, color='red')\n",
    "\n",
    "plt.plot(features[lookback:test_size+(2*lookback), 1], color='green')\n",
    "\n",
    "plt.title(\"Opening price of Tesla\")\n",
    "plt.xlabel(\"time ()\")\n",
    "plt.ylabel(\"stock opening price\")\n",
    "plt.show()\n"
   ]
  },
  {
   "cell_type": "code",
   "execution_count": 114,
   "metadata": {},
   "outputs": [
    {
     "name": "stdout",
     "output_type": "stream",
     "text": [
      "Test and Train size: 1500 603\n"
     ]
    }
   ],
   "source": [
    "from sklearn.preprocessing import MinMaxScaler\n",
    "\n",
    "train = values[:1500, :]\n",
    "test = values[1500:, :]\n",
    "\n",
    "#df_train = df.iloc[:1500, :].values\n",
    "#df_test = df.iloc[1500:, :].values\n",
    "\n",
    "print(\"Test and Train size:\", len(train), len(test))\n"
   ]
  },
  {
   "cell_type": "code",
   "execution_count": 115,
   "metadata": {},
   "outputs": [],
   "source": [
    "X_train, y_train = train[:, :-1], train[:, -1]\n",
    "\n",
    "X_test, y_test = test[:, :-1], test[:, -1]\n"
   ]
  },
  {
   "cell_type": "code",
   "execution_count": 116,
   "metadata": {},
   "outputs": [
    {
     "data": {
      "text/plain": [
       "((1500, 17), (1500,), (603, 17), (603,))"
      ]
     },
     "execution_count": 116,
     "metadata": {},
     "output_type": "execute_result"
    }
   ],
   "source": [
    "X_train.shape, y_train.shape, X_test.shape, y_test.shape"
   ]
  },
  {
   "cell_type": "code",
   "execution_count": 120,
   "metadata": {},
   "outputs": [],
   "source": [
    "# Reshape input into 3D [samples, timesteps, features]\n",
    "X_train = X_train.reshape((X_train.shape[0], 1, X_train.shape[1]))\n",
    "X_test = X_test.reshape((X_test.shape[0], 1, X_test.shape[1]))"
   ]
  },
  {
   "cell_type": "code",
   "execution_count": 125,
   "metadata": {},
   "outputs": [
    {
     "name": "stdout",
     "output_type": "stream",
     "text": [
      "Train on 1500 samples, validate on 603 samples\n",
      "Epoch 1/50\n",
      " - 3s - loss: 2.4381 - val_loss: 1.9789\n",
      "Epoch 2/50\n",
      " - 0s - loss: 2.4065 - val_loss: 1.9687\n",
      "Epoch 3/50\n",
      " - 0s - loss: 2.3896 - val_loss: 1.9650\n",
      "Epoch 4/50\n",
      " - 0s - loss: 2.3779 - val_loss: 1.9635\n",
      "Epoch 5/50\n",
      " - 0s - loss: 2.3714 - val_loss: 1.9629\n",
      "Epoch 6/50\n",
      " - 0s - loss: 2.3673 - val_loss: 1.9627\n",
      "Epoch 7/50\n",
      " - 0s - loss: 2.3639 - val_loss: 1.9625\n",
      "Epoch 8/50\n",
      " - 0s - loss: 2.3612 - val_loss: 1.9625\n",
      "Epoch 9/50\n",
      " - 0s - loss: 2.3589 - val_loss: 1.9625\n",
      "Epoch 10/50\n",
      " - 0s - loss: 2.3570 - val_loss: 1.9625\n",
      "Epoch 11/50\n",
      " - 0s - loss: 2.3553 - val_loss: 1.9624\n",
      "Epoch 12/50\n",
      " - 0s - loss: 2.3537 - val_loss: 1.9624\n",
      "Epoch 13/50\n",
      " - 0s - loss: 2.3522 - val_loss: 1.9624\n",
      "Epoch 14/50\n",
      " - 0s - loss: 2.3509 - val_loss: 1.9624\n",
      "Epoch 15/50\n",
      " - 0s - loss: 2.3497 - val_loss: 1.9623\n",
      "Epoch 16/50\n",
      " - 0s - loss: 2.3486 - val_loss: 1.9623\n",
      "Epoch 17/50\n",
      " - 0s - loss: 2.3476 - val_loss: 1.9623\n",
      "Epoch 18/50\n",
      " - 0s - loss: 2.3467 - val_loss: 1.9623\n",
      "Epoch 19/50\n",
      " - 0s - loss: 2.3460 - val_loss: 1.9623\n",
      "Epoch 20/50\n",
      " - 0s - loss: 2.3454 - val_loss: 1.9623\n",
      "Epoch 21/50\n",
      " - 0s - loss: 2.3449 - val_loss: 1.9623\n",
      "Epoch 22/50\n",
      " - 0s - loss: 2.3444 - val_loss: 1.9623\n",
      "Epoch 23/50\n",
      " - 0s - loss: 2.3439 - val_loss: 1.9623\n",
      "Epoch 24/50\n",
      " - 0s - loss: 2.3435 - val_loss: 1.9623\n",
      "Epoch 25/50\n",
      " - 0s - loss: 2.3431 - val_loss: 1.9623\n",
      "Epoch 26/50\n",
      " - 0s - loss: 2.3428 - val_loss: 1.9623\n",
      "Epoch 27/50\n",
      " - 0s - loss: 2.3426 - val_loss: 1.9623\n",
      "Epoch 28/50\n",
      " - 0s - loss: 2.3424 - val_loss: 1.9623\n",
      "Epoch 29/50\n",
      " - 0s - loss: 2.3423 - val_loss: 1.9623\n",
      "Epoch 30/50\n",
      " - 0s - loss: 2.3421 - val_loss: 1.9623\n",
      "Epoch 31/50\n",
      " - 0s - loss: 2.3420 - val_loss: 1.9623\n",
      "Epoch 32/50\n",
      " - 0s - loss: 2.3419 - val_loss: 1.9623\n",
      "Epoch 33/50\n",
      " - 0s - loss: 2.3418 - val_loss: 1.9623\n",
      "Epoch 34/50\n",
      " - 0s - loss: 2.3416 - val_loss: 1.9623\n",
      "Epoch 35/50\n",
      " - 0s - loss: 2.3415 - val_loss: 1.9623\n",
      "Epoch 36/50\n",
      " - 0s - loss: 2.3414 - val_loss: 1.9624\n",
      "Epoch 37/50\n",
      " - 0s - loss: 2.3413 - val_loss: 1.9624\n",
      "Epoch 38/50\n",
      " - 0s - loss: 2.3412 - val_loss: 1.9623\n",
      "Epoch 39/50\n",
      " - 0s - loss: 2.3411 - val_loss: 1.9624\n",
      "Epoch 40/50\n",
      " - 0s - loss: 2.3410 - val_loss: 1.9624\n",
      "Epoch 41/50\n",
      " - 0s - loss: 2.3410 - val_loss: 1.9624\n",
      "Epoch 42/50\n",
      " - 0s - loss: 2.3409 - val_loss: 1.9624\n",
      "Epoch 43/50\n",
      " - 0s - loss: 2.3408 - val_loss: 1.9624\n",
      "Epoch 44/50\n",
      " - 0s - loss: 2.3407 - val_loss: 1.9624\n",
      "Epoch 45/50\n",
      " - 0s - loss: 2.3407 - val_loss: 1.9624\n",
      "Epoch 46/50\n",
      " - 0s - loss: 2.3406 - val_loss: 1.9624\n",
      "Epoch 47/50\n",
      " - 0s - loss: 2.3405 - val_loss: 1.9624\n",
      "Epoch 48/50\n",
      " - 0s - loss: 2.3404 - val_loss: 1.9624\n",
      "Epoch 49/50\n",
      " - 0s - loss: 2.3404 - val_loss: 1.9624\n",
      "Epoch 50/50\n",
      " - 0s - loss: 2.3403 - val_loss: 1.9624\n"
     ]
    }
   ],
   "source": [
    "\n",
    "model = Sequential()\n",
    "model.add(LSTM(100, input_shape=(X_train.shape[1], X_train.shape[2])))\n",
    "model.add(Dense(1))\n",
    "model.compile(loss='mae', optimizer='adam')\n",
    "# fit network\n",
    "history = model.fit(X_train, y_train, epochs=50, batch_size=72, validation_data=(X_test, y_test), verbose=2, shuffle=False)\n"
   ]
  },
  {
   "cell_type": "code",
   "execution_count": 129,
   "metadata": {},
   "outputs": [
    {
     "data": {
      "image/png": "[encoded data removed]",
      "text/plain": [
       "<Figure size 432x288 with 1 Axes>"
      ]
     },
     "metadata": {
      "needs_background": "light"
     },
     "output_type": "display_data"
    }
   ],
   "source": [
    "from matplotlib import pyplot\n",
    "from numpy import concatenate\n",
    "# plot history\n",
    "pyplot.plot(history.history['loss'], label='train')\n",
    "pyplot.plot(history.history['val_loss'], label='test')\n",
    "pyplot.legend()\n",
    "pyplot.show()"
   ]
  },
  {
   "cell_type": "code",
   "execution_count": 127,
   "metadata": {},
   "outputs": [],
   "source": [
    "yhat = model.predict(X_test)\n",
    "X_test = X_test.reshape((X_test.shape[0], X_test.shape[2]))"
   ]
  },
  {
   "cell_type": "code",
   "execution_count": 77,
   "metadata": {},
   "outputs": [
    {
     "name": "stdout",
     "output_type": "stream",
     "text": [
      "(1500, 17)\n",
      "(1500,)\n"
     ]
    }
   ],
   "source": [
    "# Now, normalize the data, build arrays \n",
    "features = df.drop(columns='percent_change')\n",
    "target = df['percent_change']\n",
    "\n",
    "X_train = features[:1500].values\n",
    "y_train = target[:1500].values\n",
    "\n",
    "print(X_train.shape),\n",
    "print(y_train.shape)"
   ]
  },
  {
   "cell_type": "code",
   "execution_count": 78,
   "metadata": {},
   "outputs": [
    {
     "name": "stdout",
     "output_type": "stream",
     "text": [
      "(603, 17)\n",
      "(603,)\n"
     ]
    }
   ],
   "source": [
    "X_test = features[1500:].values\n",
    "y_test = target[1500:].values\n",
    "\n",
    "print(X_test.shape)\n",
    "print(y_test.shape)\n"
   ]
  },
  {
   "cell_type": "code",
   "execution_count": null,
   "metadata": {},
   "outputs": [],
   "source": []
  },
  {
   "cell_type": "code",
   "execution_count": 79,
   "metadata": {},
   "outputs": [],
   "source": [
    "scaler = MinMaxScaler()\n",
    "X_train = scaler.fit_transform(X_train)\n",
    "y_train = scaler.fit_transform(y_train.reshape(-1,1))\n",
    "\n",
    "X_test = scaler.fit_transform(X_test)\n",
    "y_test = scaler.fit_transform(y_test.reshape(-1,1))"
   ]
  },
  {
   "cell_type": "code",
   "execution_count": 80,
   "metadata": {},
   "outputs": [
    {
     "data": {
      "text/plain": [
       "((1500, 17), (603, 17))"
      ]
     },
     "execution_count": 80,
     "metadata": {},
     "output_type": "execute_result"
    }
   ],
   "source": [
    "X_train.shape, X_test.shape"
   ]
  },
  {
   "cell_type": "code",
   "execution_count": 81,
   "metadata": {},
   "outputs": [
    {
     "data": {
      "text/plain": [
       "((1500, 1), (603, 1))"
      ]
     },
     "execution_count": 81,
     "metadata": {},
     "output_type": "execute_result"
    }
   ],
   "source": [
    "y_train.shape, y_test.shape"
   ]
  },
  {
   "cell_type": "code",
   "execution_count": 82,
   "metadata": {},
   "outputs": [
    {
     "data": {
      "text/plain": [
       "array([[0.40436361],\n",
       "       [0.43570883],\n",
       "       [0.44227105],\n",
       "       [0.45960467],\n",
       "       [0.56277867],\n",
       "       [0.47325525],\n",
       "       [0.38214972],\n",
       "       [0.33657637],\n",
       "       [0.43234236],\n",
       "       [0.41141542]])"
      ]
     },
     "execution_count": 82,
     "metadata": {},
     "output_type": "execute_result"
    }
   ],
   "source": [
    "y_train[1490:]"
   ]
  },
  {
   "cell_type": "code",
   "execution_count": 83,
   "metadata": {},
   "outputs": [
    {
     "data": {
      "text/plain": [
       "array([[0.38921657],\n",
       "       [0.35220096],\n",
       "       [0.39745598],\n",
       "       [0.45656091],\n",
       "       [0.85189065],\n",
       "       [0.38350695],\n",
       "       [0.73726186],\n",
       "       [0.60789354],\n",
       "       [0.48306858],\n",
       "       [0.39756132],\n",
       "       [0.5168445 ],\n",
       "       [0.51089724],\n",
       "       [0.46466679]])"
      ]
     },
     "execution_count": 83,
     "metadata": {},
     "output_type": "execute_result"
    }
   ],
   "source": [
    "y_test[590:]"
   ]
  },
  {
   "cell_type": "markdown",
   "metadata": {},
   "source": [
    "# Convert the data to time series and superivsed learning\n",
    "\n",
    "LSTMs need: [batch_size, time_steps, Features]: in a 3D array.\n",
    "\n",
    "batch_size: how many samples of input to put in at one time before the weights are updated. Have to use a middle number of batch size because too small of a batch size wouls make the model train slower and too large would not let the weights to be updated regularly. \n",
    "\n",
    "Time_steps: how many units back in time you want your model to see. in our case, we can use 30 or 60 i.e. looking at 30 or 60 days of data to predict the next days' price.\n",
    "\n",
    "Features: The number of attributes used to represent each time step. \n",
    "\n",
    "If we use a time step of 5, it would look at the data of first day, second day, 3rd and forth day and fifth day, to predict the 6th' day's price i.e. looking on the past 5 days and predict the price for the sixth day.\n",
    "Now with time_series of 5, if we choose the batch_size 2, we would look at the past 10 days, 5 from each time series and so on. \n"
   ]
  },
  {
   "cell_type": "markdown",
   "metadata": {},
   "source": [
    "#### reshaping the data into 3D format for the LSTM input layer\n",
    "defined by input shape argument in the first hidden layer, \n",
    "\n",
    "the model.add(LSTM(batch_size, input_shape = [time_steps, features]))"
   ]
  },
  {
   "cell_type": "code",
   "execution_count": 87,
   "metadata": {},
   "outputs": [
    {
     "ename": "ValueError",
     "evalue": "cannot reshape array of size 25500 into shape (1500,30,17)",
     "output_type": "error",
     "traceback": [
      "\u001b[1;31m---------------------------------------------------------------------------\u001b[0m",
      "\u001b[1;31mValueError\u001b[0m                                Traceback (most recent call last)",
      "\u001b[1;32m<ipython-input-87-73b7e168a59b>\u001b[0m in \u001b[0;36m<module>\u001b[1;34m\u001b[0m\n\u001b[1;32m----> 1\u001b[1;33m \u001b[0mX_train\u001b[0m \u001b[1;33m=\u001b[0m \u001b[0mX_train\u001b[0m\u001b[1;33m.\u001b[0m\u001b[0mreshape\u001b[0m\u001b[1;33m(\u001b[0m\u001b[1;33m(\u001b[0m\u001b[0mX_train\u001b[0m\u001b[1;33m.\u001b[0m\u001b[0mshape\u001b[0m\u001b[1;33m[\u001b[0m\u001b[1;36m0\u001b[0m\u001b[1;33m]\u001b[0m\u001b[1;33m,\u001b[0m \u001b[1;36m30\u001b[0m\u001b[1;33m,\u001b[0m \u001b[0mX_train\u001b[0m\u001b[1;33m.\u001b[0m\u001b[0mshape\u001b[0m\u001b[1;33m[\u001b[0m\u001b[1;36m1\u001b[0m\u001b[1;33m]\u001b[0m\u001b[1;33m)\u001b[0m\u001b[1;33m)\u001b[0m\u001b[1;33m\u001b[0m\u001b[1;33m\u001b[0m\u001b[0m\n\u001b[0m\u001b[0;32m      2\u001b[0m \u001b[0mX_test\u001b[0m \u001b[1;33m=\u001b[0m \u001b[0mX_test\u001b[0m\u001b[1;33m.\u001b[0m\u001b[0mreshape\u001b[0m\u001b[1;33m(\u001b[0m\u001b[1;33m(\u001b[0m\u001b[0mX_test\u001b[0m\u001b[1;33m.\u001b[0m\u001b[0mshape\u001b[0m\u001b[1;33m[\u001b[0m\u001b[1;36m0\u001b[0m\u001b[1;33m]\u001b[0m\u001b[1;33m,\u001b[0m \u001b[1;36m30\u001b[0m\u001b[1;33m,\u001b[0m \u001b[0mX_test\u001b[0m\u001b[1;33m.\u001b[0m\u001b[0mshape\u001b[0m\u001b[1;33m[\u001b[0m\u001b[1;36m1\u001b[0m\u001b[1;33m]\u001b[0m\u001b[1;33m)\u001b[0m\u001b[1;33m)\u001b[0m\u001b[1;33m\u001b[0m\u001b[1;33m\u001b[0m\u001b[0m\n",
      "\u001b[1;31mValueError\u001b[0m: cannot reshape array of size 25500 into shape (1500,30,17)"
     ]
    }
   ],
   "source": [
    "X_train = X_train.reshape((X_train.shape[0], 30, X_train.shape[1]))\n",
    "X_test = X_test.reshape((X_test.shape[0], 30, X_test.shape[1]))\n"
   ]
  },
  {
   "cell_type": "code",
   "execution_count": 72,
   "metadata": {},
   "outputs": [
    {
     "data": {
      "text/plain": [
       "(1500, 17, 1)"
      ]
     },
     "execution_count": 72,
     "metadata": {},
     "output_type": "execute_result"
    }
   ],
   "source": [
    "X_train.shape"
   ]
  },
  {
   "cell_type": "code",
   "execution_count": 73,
   "metadata": {},
   "outputs": [],
   "source": [
    "X_test = np.reshape(X_test, (X_test.shape[0], X_test.shape[1], 1))\n"
   ]
  },
  {
   "cell_type": "code",
   "execution_count": 74,
   "metadata": {},
   "outputs": [
    {
     "data": {
      "text/plain": [
       "(603, 17, 1)"
      ]
     },
     "execution_count": 74,
     "metadata": {},
     "output_type": "execute_result"
    }
   ],
   "source": [
    "X_test.shape"
   ]
  },
  {
   "cell_type": "code",
   "execution_count": 69,
   "metadata": {},
   "outputs": [
    {
     "ename": "ValueError",
     "evalue": "Error when checking input: expected lstm_8_input to have 3 dimensions, but got array with shape (1500, 18)",
     "output_type": "error",
     "traceback": [
      "\u001b[1;31m---------------------------------------------------------------------------\u001b[0m",
      "\u001b[1;31mValueError\u001b[0m                                Traceback (most recent call last)",
      "\u001b[1;32m<ipython-input-69-3fed850108bf>\u001b[0m in \u001b[0;36m<module>\u001b[1;34m\u001b[0m\n\u001b[0;32m     28\u001b[0m \u001b[1;31m# Fitting the RNN to the Training set\u001b[0m\u001b[1;33m\u001b[0m\u001b[1;33m\u001b[0m\u001b[1;33m\u001b[0m\u001b[0m\n\u001b[0;32m     29\u001b[0m \u001b[1;33m\u001b[0m\u001b[0m\n\u001b[1;32m---> 30\u001b[1;33m \u001b[0mregressor\u001b[0m\u001b[1;33m.\u001b[0m\u001b[0mfit\u001b[0m\u001b[1;33m(\u001b[0m\u001b[0mx_train\u001b[0m\u001b[1;33m,\u001b[0m \u001b[0my_train\u001b[0m\u001b[1;33m,\u001b[0m \u001b[0mepochs\u001b[0m \u001b[1;33m=\u001b[0m\u001b[1;36m100\u001b[0m\u001b[1;33m,\u001b[0m \u001b[0mbatch_size\u001b[0m \u001b[1;33m=\u001b[0m\u001b[1;36m32\u001b[0m\u001b[1;33m)\u001b[0m\u001b[1;33m\u001b[0m\u001b[1;33m\u001b[0m\u001b[0m\n\u001b[0m",
      "\u001b[1;32m~\\Anaconda3\\lib\\site-packages\\keras\\models.py\u001b[0m in \u001b[0;36mfit\u001b[1;34m(self, x, y, batch_size, epochs, verbose, callbacks, validation_split, validation_data, shuffle, class_weight, sample_weight, initial_epoch, steps_per_epoch, validation_steps, **kwargs)\u001b[0m\n\u001b[0;32m    958\u001b[0m                               \u001b[0minitial_epoch\u001b[0m\u001b[1;33m=\u001b[0m\u001b[0minitial_epoch\u001b[0m\u001b[1;33m,\u001b[0m\u001b[1;33m\u001b[0m\u001b[1;33m\u001b[0m\u001b[0m\n\u001b[0;32m    959\u001b[0m                               \u001b[0msteps_per_epoch\u001b[0m\u001b[1;33m=\u001b[0m\u001b[0msteps_per_epoch\u001b[0m\u001b[1;33m,\u001b[0m\u001b[1;33m\u001b[0m\u001b[1;33m\u001b[0m\u001b[0m\n\u001b[1;32m--> 960\u001b[1;33m                               validation_steps=validation_steps)\n\u001b[0m\u001b[0;32m    961\u001b[0m \u001b[1;33m\u001b[0m\u001b[0m\n\u001b[0;32m    962\u001b[0m     def evaluate(self, x, y, batch_size=32, verbose=1,\n",
      "\u001b[1;32m~\\Anaconda3\\lib\\site-packages\\keras\\engine\\training.py\u001b[0m in \u001b[0;36mfit\u001b[1;34m(self, x, y, batch_size, epochs, verbose, callbacks, validation_split, validation_data, shuffle, class_weight, sample_weight, initial_epoch, steps_per_epoch, validation_steps, **kwargs)\u001b[0m\n\u001b[0;32m   1579\u001b[0m             \u001b[0mclass_weight\u001b[0m\u001b[1;33m=\u001b[0m\u001b[0mclass_weight\u001b[0m\u001b[1;33m,\u001b[0m\u001b[1;33m\u001b[0m\u001b[1;33m\u001b[0m\u001b[0m\n\u001b[0;32m   1580\u001b[0m             \u001b[0mcheck_batch_axis\u001b[0m\u001b[1;33m=\u001b[0m\u001b[1;32mFalse\u001b[0m\u001b[1;33m,\u001b[0m\u001b[1;33m\u001b[0m\u001b[1;33m\u001b[0m\u001b[0m\n\u001b[1;32m-> 1581\u001b[1;33m             batch_size=batch_size)\n\u001b[0m\u001b[0;32m   1582\u001b[0m         \u001b[1;31m# Prepare validation data.\u001b[0m\u001b[1;33m\u001b[0m\u001b[1;33m\u001b[0m\u001b[1;33m\u001b[0m\u001b[0m\n\u001b[0;32m   1583\u001b[0m         \u001b[0mdo_validation\u001b[0m \u001b[1;33m=\u001b[0m \u001b[1;32mFalse\u001b[0m\u001b[1;33m\u001b[0m\u001b[1;33m\u001b[0m\u001b[0m\n",
      "\u001b[1;32m~\\Anaconda3\\lib\\site-packages\\keras\\engine\\training.py\u001b[0m in \u001b[0;36m_standardize_user_data\u001b[1;34m(self, x, y, sample_weight, class_weight, check_batch_axis, batch_size)\u001b[0m\n\u001b[0;32m   1412\u001b[0m                                     \u001b[0mself\u001b[0m\u001b[1;33m.\u001b[0m\u001b[0m_feed_input_shapes\u001b[0m\u001b[1;33m,\u001b[0m\u001b[1;33m\u001b[0m\u001b[1;33m\u001b[0m\u001b[0m\n\u001b[0;32m   1413\u001b[0m                                     \u001b[0mcheck_batch_axis\u001b[0m\u001b[1;33m=\u001b[0m\u001b[1;32mFalse\u001b[0m\u001b[1;33m,\u001b[0m\u001b[1;33m\u001b[0m\u001b[1;33m\u001b[0m\u001b[0m\n\u001b[1;32m-> 1414\u001b[1;33m                                     exception_prefix='input')\n\u001b[0m\u001b[0;32m   1415\u001b[0m         y = _standardize_input_data(y, self._feed_output_names,\n\u001b[0;32m   1416\u001b[0m                                     \u001b[0moutput_shapes\u001b[0m\u001b[1;33m,\u001b[0m\u001b[1;33m\u001b[0m\u001b[1;33m\u001b[0m\u001b[0m\n",
      "\u001b[1;32m~\\Anaconda3\\lib\\site-packages\\keras\\engine\\training.py\u001b[0m in \u001b[0;36m_standardize_input_data\u001b[1;34m(data, names, shapes, check_batch_axis, exception_prefix)\u001b[0m\n\u001b[0;32m    139\u001b[0m                                  \u001b[1;34m' to have '\u001b[0m \u001b[1;33m+\u001b[0m \u001b[0mstr\u001b[0m\u001b[1;33m(\u001b[0m\u001b[0mlen\u001b[0m\u001b[1;33m(\u001b[0m\u001b[0mshapes\u001b[0m\u001b[1;33m[\u001b[0m\u001b[0mi\u001b[0m\u001b[1;33m]\u001b[0m\u001b[1;33m)\u001b[0m\u001b[1;33m)\u001b[0m \u001b[1;33m+\u001b[0m\u001b[1;33m\u001b[0m\u001b[1;33m\u001b[0m\u001b[0m\n\u001b[0;32m    140\u001b[0m                                  \u001b[1;34m' dimensions, but got array with shape '\u001b[0m \u001b[1;33m+\u001b[0m\u001b[1;33m\u001b[0m\u001b[1;33m\u001b[0m\u001b[0m\n\u001b[1;32m--> 141\u001b[1;33m                                  str(array.shape))\n\u001b[0m\u001b[0;32m    142\u001b[0m             \u001b[1;32mfor\u001b[0m \u001b[0mj\u001b[0m\u001b[1;33m,\u001b[0m \u001b[1;33m(\u001b[0m\u001b[0mdim\u001b[0m\u001b[1;33m,\u001b[0m \u001b[0mref_dim\u001b[0m\u001b[1;33m)\u001b[0m \u001b[1;32min\u001b[0m \u001b[0menumerate\u001b[0m\u001b[1;33m(\u001b[0m\u001b[0mzip\u001b[0m\u001b[1;33m(\u001b[0m\u001b[0marray\u001b[0m\u001b[1;33m.\u001b[0m\u001b[0mshape\u001b[0m\u001b[1;33m,\u001b[0m \u001b[0mshapes\u001b[0m\u001b[1;33m[\u001b[0m\u001b[0mi\u001b[0m\u001b[1;33m]\u001b[0m\u001b[1;33m)\u001b[0m\u001b[1;33m)\u001b[0m\u001b[1;33m:\u001b[0m\u001b[1;33m\u001b[0m\u001b[1;33m\u001b[0m\u001b[0m\n\u001b[0;32m    143\u001b[0m                 \u001b[1;32mif\u001b[0m \u001b[1;32mnot\u001b[0m \u001b[0mj\u001b[0m \u001b[1;32mand\u001b[0m \u001b[1;32mnot\u001b[0m \u001b[0mcheck_batch_axis\u001b[0m\u001b[1;33m:\u001b[0m\u001b[1;33m\u001b[0m\u001b[1;33m\u001b[0m\u001b[0m\n",
      "\u001b[1;31mValueError\u001b[0m: Error when checking input: expected lstm_8_input to have 3 dimensions, but got array with shape (1500, 18)"
     ]
    }
   ],
   "source": [
    "from keras.models import Sequential\n",
    "from keras.layers import Dense\n",
    "from keras.layers import LSTM\n",
    "from keras.layers import Dropout\n",
    "\n",
    "regressor = Sequential()\n",
    "\n",
    "# Adding the LSTM layer\n",
    "\n",
    "regressor.add(LSTM(units=50, return_sequences=True, input_shape=(x_train.shape[1], 1)))\n",
    "regressor.add(Dropout(0.2))\n",
    "\n",
    "# Adding the second layer\n",
    "\n",
    "regressor.add(LSTM(units=50, return_sequences=True))\n",
    "regressor.add(Dropout(0.2))\n",
    "\n",
    "# Adding a third layer\n",
    "regressor.add(LSTM(units=50, return_sequences=False))\n",
    "regressor.add(Dropout(0.2))\n",
    "\n",
    "# Adding the output layer\n",
    "regressor.add(Dense(units=1))\n",
    "\n",
    "# Compiling the RNN\n",
    "regressor.compile(optimizer='adam', loss='mean_squared_error')\n",
    "\n",
    "# Fitting the RNN to the Training set\n",
    "\n",
    "regressor.fit(x_train, y_train, epochs =100, batch_size =32)\n"
   ]
  },
  {
   "cell_type": "code",
   "execution_count": 53,
   "metadata": {},
   "outputs": [
    {
     "name": "stderr",
     "output_type": "stream",
     "text": [
      "Using TensorFlow backend.\n"
     ]
    },
    {
     "name": "stdout",
     "output_type": "stream",
     "text": [
      "WARNING:tensorflow:From C:\\Users\\Billi\\Anaconda3\\lib\\site-packages\\tensorflow\\python\\framework\\op_def_library.py:263: colocate_with (from tensorflow.python.framework.ops) is deprecated and will be removed in a future version.\n",
      "Instructions for updating:\n",
      "Colocations handled automatically by placer.\n",
      "WARNING:tensorflow:From C:\\Users\\Billi\\Anaconda3\\lib\\site-packages\\keras\\backend\\tensorflow_backend.py:3019: calling dropout (from tensorflow.python.ops.nn_ops) with keep_prob is deprecated and will be removed in a future version.\n",
      "Instructions for updating:\n",
      "Please use `rate` instead of `keep_prob`. Rate should be set to `rate = 1 - keep_prob`.\n"
     ]
    },
    {
     "ename": "NameError",
     "evalue": "name 'optimizers' is not defined",
     "output_type": "error",
     "traceback": [
      "\u001b[1;31m---------------------------------------------------------------------------\u001b[0m",
      "\u001b[1;31mNameError\u001b[0m                                 Traceback (most recent call last)",
      "\u001b[1;32m<ipython-input-53-93e93cb657ed>\u001b[0m in \u001b[0;36m<module>\u001b[1;34m\u001b[0m\n\u001b[0;32m      9\u001b[0m \u001b[0mlstm_model\u001b[0m\u001b[1;33m.\u001b[0m\u001b[0madd\u001b[0m\u001b[1;33m(\u001b[0m\u001b[0mDense\u001b[0m\u001b[1;33m(\u001b[0m\u001b[1;36m20\u001b[0m\u001b[1;33m,\u001b[0m\u001b[0mactivation\u001b[0m\u001b[1;33m=\u001b[0m\u001b[1;34m'relu'\u001b[0m\u001b[1;33m)\u001b[0m\u001b[1;33m)\u001b[0m\u001b[1;33m\u001b[0m\u001b[1;33m\u001b[0m\u001b[0m\n\u001b[0;32m     10\u001b[0m \u001b[0mlstm_model\u001b[0m\u001b[1;33m.\u001b[0m\u001b[0madd\u001b[0m\u001b[1;33m(\u001b[0m\u001b[0mDense\u001b[0m\u001b[1;33m(\u001b[0m\u001b[1;36m1\u001b[0m\u001b[1;33m,\u001b[0m\u001b[0mactivation\u001b[0m\u001b[1;33m=\u001b[0m\u001b[1;34m'sigmoid'\u001b[0m\u001b[1;33m)\u001b[0m\u001b[1;33m)\u001b[0m\u001b[1;33m\u001b[0m\u001b[1;33m\u001b[0m\u001b[0m\n\u001b[1;32m---> 11\u001b[1;33m \u001b[0moptimizer\u001b[0m \u001b[1;33m=\u001b[0m \u001b[0moptimizers\u001b[0m\u001b[1;33m.\u001b[0m\u001b[0mRMSprop\u001b[0m\u001b[1;33m(\u001b[0m\u001b[0mlr\u001b[0m\u001b[1;33m=\u001b[0m\u001b[0mlr\u001b[0m\u001b[1;33m)\u001b[0m\u001b[1;33m\u001b[0m\u001b[1;33m\u001b[0m\u001b[0m\n\u001b[0m\u001b[0;32m     12\u001b[0m \u001b[0mlstm_model\u001b[0m\u001b[1;33m.\u001b[0m\u001b[0mcompile\u001b[0m\u001b[1;33m(\u001b[0m\u001b[0mloss\u001b[0m\u001b[1;33m=\u001b[0m\u001b[1;34m'mean_squared_error'\u001b[0m\u001b[1;33m,\u001b[0m \u001b[0moptimizer\u001b[0m\u001b[1;33m=\u001b[0m\u001b[0moptimizer\u001b[0m\u001b[1;33m)\u001b[0m\u001b[1;33m\u001b[0m\u001b[1;33m\u001b[0m\u001b[0m\n",
      "\u001b[1;31mNameError\u001b[0m: name 'optimizers' is not defined"
     ]
    }
   ],
   "source": [
    "from keras.models import Sequential\n",
    "from keras.layers import Dense\n",
    "from keras.layers import LSTM\n",
    "from keras.layers import Dropout\n",
    "\n",
    "lstm_model = Sequential()\n",
    "lstm_model.add(LSTM(100, batch_input_shape=(60, 30, 1500), dropout=0.0, recurrent_dropout=0.0, stateful=True,     kernel_initializer='random_uniform'))\n",
    "lstm_model.add(Dropout(0.5))\n",
    "lstm_model.add(Dense(20,activation='relu'))\n",
    "lstm_model.add(Dense(1,activation='sigmoid'))\n",
    "optimizer = optimizers.RMSprop(lr=lr)\n",
    "lstm_model.compile(loss='mean_squared_error', optimizer=optimizer)"
   ]
  },
  {
   "cell_type": "code",
   "execution_count": null,
   "metadata": {},
   "outputs": [],
   "source": []
  },
  {
   "cell_type": "code",
   "execution_count": null,
   "metadata": {},
   "outputs": [],
   "source": []
  }
 ],
 "metadata": {
  "kernelspec": {
   "display_name": "Python 3",
   "language": "python",
   "name": "python3"
  },
  "language_info": {
   "codemirror_mode": {
    "name": "ipython",
    "version": 3
   },
   "file_extension": ".py",
   "mimetype": "text/x-python",
   "name": "python",
   "nbconvert_exporter": "python",
   "pygments_lexer": "ipython3",
   "version": "3.7.3"
  }
 },
 "nbformat": 4,
 "nbformat_minor": 2
}
